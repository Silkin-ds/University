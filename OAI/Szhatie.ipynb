{
  "nbformat": 4,
  "nbformat_minor": 0,
  "metadata": {
    "colab": {
      "provenance": []
    },
    "kernelspec": {
      "name": "python3",
      "display_name": "Python 3"
    },
    "language_info": {
      "name": "python"
    }
  },
  "cells": [
    {
      "cell_type": "code",
      "execution_count": null,
      "metadata": {
        "id": "OvBG6uZ6yzdE"
      },
      "outputs": [],
      "source": [
        "c = \"ТУТ_ТОТ_КОТ_У_ОКНА\""
      ]
    },
    {
      "cell_type": "code",
      "source": [
        "def create_fr_table(text):\n",
        "  sym = {}\n",
        "\n",
        "  for i in text:\n",
        "    if i in sym.keys():\n",
        "      sym[i] += 1\n",
        "    else:\n",
        "      sym[i] = 1\n",
        "\n",
        "  sym = dict(sorted(sym.items(), key=lambda item: item[1], reverse=True))\n",
        "\n",
        "  for i in sym.keys():\n",
        "    sym[i] = [sym[i], '']\n",
        "\n",
        "  return [sym]"
      ],
      "metadata": {
        "id": "T3Obqs3Z_fYf"
      },
      "execution_count": null,
      "outputs": []
    },
    {
      "cell_type": "code",
      "source": [
        "def create_left_right_tables(table):\n",
        "  state = 0\n",
        "  first_table = {}\n",
        "  second_table = {}\n",
        "\n",
        "  for i in table.keys():\n",
        "    if state == 0:\n",
        "      table[i][1] += '0'\n",
        "      first_table[i] = table[i]\n",
        "    \n",
        "    elif state == 1:\n",
        "      table[i][1] += '1'\n",
        "      second_table[i] = table[i]\n",
        "\n",
        "    state = (1, 0)[sum(el[1][0] for el in first_table.items()) < sum(el[1][0] for el in second_table.items())]\n",
        "    \n",
        "  return first_table, second_table\n"
      ],
      "metadata": {
        "id": "jodAvQtI5aPb"
      },
      "execution_count": null,
      "outputs": []
    },
    {
      "cell_type": "code",
      "source": [
        "def append_into_final_table(table, final_table):\n",
        "  final_table.append(table[0])\n",
        "  final_table.append(table[1])\n",
        "\n",
        "  return final_table"
      ],
      "metadata": {
        "id": "rSGyAVPw-m33"
      },
      "execution_count": null,
      "outputs": []
    },
    {
      "cell_type": "code",
      "source": [
        "def clean(table):\n",
        "  final_table = []\n",
        "\n",
        "  for i in range(len(table)):\n",
        "    if len(table[i]) == 1:\n",
        "      final_table.append(table[i])\n",
        "\n",
        "  return final_table"
      ],
      "metadata": {
        "id": "3bYrEz5zDTas"
      },
      "execution_count": null,
      "outputs": []
    },
    {
      "cell_type": "code",
      "source": [
        "def encode_items(table):\n",
        "  for i in table:\n",
        "    for b in i.keys():\n",
        "      if type(i[b]) is list:\n",
        "        i[b] = i[b][1]\n",
        "\n",
        "  return table"
      ],
      "metadata": {
        "id": "aJMu-uBJIUIJ"
      },
      "execution_count": null,
      "outputs": []
    },
    {
      "cell_type": "code",
      "source": [
        "def encode_text(text, table):\n",
        "  encoded_text = \"\"\n",
        "  for i in text:\n",
        "    for b in table:\n",
        "      try:\n",
        "        encoded_text += b[i]\n",
        "      except:\n",
        "        pass\n",
        "  \n",
        "  return encoded_text"
      ],
      "metadata": {
        "id": "wTdsk3cDMdFG"
      },
      "execution_count": null,
      "outputs": []
    },
    {
      "cell_type": "code",
      "source": [
        "def fast_encode_text(text):\n",
        "  table = create_fr_table(text)\n",
        "\n",
        "  for i in table:\n",
        "    if len(i) > 1:\n",
        "      table = append_into_final_table(create_left_right_tables(i), table)\n",
        "\n",
        "  table = clean(table)\n",
        "  table = encode_items(table)\n",
        "  encoded_text = encode_text(text, table)\n",
        "\n",
        "  return encoded_text, table"
      ],
      "metadata": {
        "id": "0lUbEQJ6JD4w"
      },
      "execution_count": null,
      "outputs": []
    },
    {
      "cell_type": "code",
      "source": [
        "encoded_text, table = fast_encode_text(c)"
      ],
      "metadata": {
        "id": "fPDG5RcfJtOU"
      },
      "execution_count": null,
      "outputs": []
    },
    {
      "cell_type": "code",
      "source": [
        "encoded_text"
      ],
      "metadata": {
        "colab": {
          "base_uri": "https://localhost:8080/",
          "height": 35
        },
        "id": "Sn1dgv-5Ijwi",
        "outputId": "662e5102-de75-4e6e-f777-d7e2a479129c"
      },
      "execution_count": null,
      "outputs": [
        {
          "output_type": "execute_result",
          "data": {
            "text/plain": [
              "'00010001000110001011111000100101011011101100111'"
            ],
            "application/vnd.google.colaboratory.intrinsic+json": {
              "type": "string"
            }
          },
          "metadata": {},
          "execution_count": 207
        }
      ]
    },
    {
      "cell_type": "markdown",
      "source": [
        "Decoding"
      ],
      "metadata": {
        "id": "6MUXWqyvLAQF"
      }
    },
    {
      "cell_type": "code",
      "source": [
        "def create_zip_array(table):\n",
        "  pairs = []\n",
        "\n",
        "  for b in table:\n",
        "    for c in b.items():\n",
        "      pairs.append(c)\n",
        "\n",
        "  return pairs"
      ],
      "metadata": {
        "id": "TAVmsQWULC3t"
      },
      "execution_count": null,
      "outputs": []
    },
    {
      "cell_type": "code",
      "source": [
        "def decode_text(encoded_text, table):\n",
        "  decoded_text = \"\"\n",
        "  decoded_sym = \"\"\n",
        "\n",
        "  pairs = create_zip_array(table)\n",
        "\n",
        "  for i in encoded_text:\n",
        "    decoded_sym += i\n",
        "    \n",
        "    for b in pairs:\n",
        "      if decoded_sym in b:\n",
        "        decoded_text += b[0]\n",
        "        decoded_sym = \"\"\n",
        "  \n",
        "  return decoded_text"
      ],
      "metadata": {
        "id": "JgkovwZfLU38"
      },
      "execution_count": null,
      "outputs": []
    },
    {
      "cell_type": "code",
      "source": [
        "text = decode_text(encoded_text, table)"
      ],
      "metadata": {
        "id": "5N2qStKcIlvZ"
      },
      "execution_count": null,
      "outputs": []
    },
    {
      "cell_type": "code",
      "source": [
        "text"
      ],
      "metadata": {
        "colab": {
          "base_uri": "https://localhost:8080/",
          "height": 35
        },
        "id": "9r5vJS_YJHhV",
        "outputId": "28d669e2-227a-42d9-9f6b-11ec7b93e4b2"
      },
      "execution_count": null,
      "outputs": [
        {
          "output_type": "execute_result",
          "data": {
            "text/plain": [
              "'ТУТ_ТОТ_КОТ_У_ОКНА'"
            ],
            "application/vnd.google.colaboratory.intrinsic+json": {
              "type": "string"
            }
          },
          "metadata": {},
          "execution_count": 209
        }
      ]
    },
    {
      "cell_type": "markdown",
      "source": [],
      "metadata": {
        "id": "9ZP29XeP_Avz"
      }
    },
    {
      "cell_type": "code",
      "source": [
        "with open('text.txt', 'r') as file:\n",
        "  text = file.read()"
      ],
      "metadata": {
        "id": "AhlHh6Sq_BST"
      },
      "execution_count": null,
      "outputs": []
    },
    {
      "cell_type": "code",
      "source": [
        "text"
      ],
      "metadata": {
        "colab": {
          "base_uri": "https://localhost:8080/",
          "height": 70
        },
        "id": "MpT49CiYAy_K",
        "outputId": "44f8722d-5e4c-4823-db87-27686ab2fb21"
      },
      "execution_count": null,
      "outputs": [
        {
          "output_type": "execute_result",
          "data": {
            "text/plain": [
              "'Те́кстовый файл — компьютерный файл, содержащий текстовые данные. Текстовым файлам противопоставляются двоичные (бинарные) файлы, в которых содержатся данные, не рассчитанные на интерпретацию в качестве текстовых (например, файлы, хранящие текст в закодированном или сжатом виде, или хранящие не текст, а звук, изображение или иные данные).\\n\\nВ отличие от термина «текстовые данные» (текстовый формат данных), характеризующего содержимое данных, термин «текстовый файл» относится к файлу и характеризует его как контейнер, хранящий такие данные.'"
            ],
            "application/vnd.google.colaboratory.intrinsic+json": {
              "type": "string"
            }
          },
          "metadata": {},
          "execution_count": 211
        }
      ]
    },
    {
      "cell_type": "code",
      "source": [
        "encoded_text, table = fast_encode_text(text)"
      ],
      "metadata": {
        "id": "cBVh_s47Bc81"
      },
      "execution_count": null,
      "outputs": []
    },
    {
      "cell_type": "code",
      "source": [
        "encoded_text"
      ],
      "metadata": {
        "colab": {
          "base_uri": "https://localhost:8080/",
          "height": 122
        },
        "id": "rl-OoBZSBoMM",
        "outputId": "af3437ea-39a7-44a2-f9a5-e2654ccd2ba5"
      },
      "execution_count": null,
      "outputs": [
        {
          "output_type": "execute_result",
          "data": {
            "text/plain": [
              "'011011000001011100111010110010010100010101111011010000001111110011010100100001111111000011101010010111011111001111111101110010010000010011101111011010000001111110011010100100011100001011010100001100100000100010110110010011001100110100000100100001110101100100101000101011110100000000110011001110111011110100001111100000110110000111010110010010100010101111010111000000111111001101010010110010111000011111000100101000100011000101010100111110101001011001001100010101001011011011011100100101101101100000011000101010100011000010101110111101000000001011010011100110011101100001001110111101000111111000000111111001101010010111100011100000101000001110101000100101000010011110011110000101101010000110010000010001011011000100101101101100000011001100111011101111010000011100001110100000000100110010110101100010100110001001100111011101111010000001110110000001100111001001000001001111100010010000100110010011110110011011100000101000001110110000101010001011001000101010000000100100001110101100100101000101011110011110000001011011101100111110001000110010111010000010000111000000111111001101010010111100011100000111100010011001110110110100110011001000000010010000111010110010000001010000010111011000111010100001100011000010010100010101100111011101010010111000001100100100110000010110010110110001001010010111000001010011000011001000001110000011001001001100000011110001001100111011011010011001100100000011101000000010010000111010110010000111000011000000101110010101011110111000111000001100010111010100100111000100110001011010001110011001000000011001001001100000011001110111101000000001100110011101110111101000111111001111100011010011010010111100010100010010010011000010100110010000001010001000000100100000100101110011001110110000011011110100100001110101100100101000101011110100000000110011001110111011110100001011110000010110010010000111010110010010100010101111011010000001111101000010010111011000100000001100110011101110111100111101111110001110000011110110000100110001110010010000010001100010111010111111011101001101000101011010000010110101000011001000001000101100110010111010100100000000110011001110111011110011110001110000010010000010010111001100111000011011110100100001110101100100101000101011110110100000011111100110101001001011110001010001001110101001011001100010010110110110000011100000011111100110101001010111100001100000011110110000100110001110010010000010001100010111010111110000100000100010101101000000111011000111000001110101001110010010001101011101000001000011100000111100010011001110110110100110011001101000001001100011100110010000000011001100111011101111010000111110'"
            ],
            "application/vnd.google.colaboratory.intrinsic+json": {
              "type": "string"
            }
          },
          "metadata": {},
          "execution_count": 213
        }
      ]
    },
    {
      "cell_type": "code",
      "source": [
        "with open('encoded_text.shf', 'w') as file:\n",
        "  file.write(encoded_text)"
      ],
      "metadata": {
        "id": "KiLBQrN2Bpik"
      },
      "execution_count": null,
      "outputs": []
    },
    {
      "cell_type": "markdown",
      "source": [],
      "metadata": {
        "id": "nJ8_XhgNEPls"
      }
    },
    {
      "cell_type": "code",
      "source": [
        "with open('encoded_text.shf', 'r') as file:\n",
        "  encoded_text = file.read()"
      ],
      "metadata": {
        "id": "uUbOrq5DEP59"
      },
      "execution_count": null,
      "outputs": []
    },
    {
      "cell_type": "code",
      "source": [
        "decoded_text = decode_text(encoded_text, table)"
      ],
      "metadata": {
        "id": "Jy95Hg5TEbDU"
      },
      "execution_count": null,
      "outputs": []
    },
    {
      "cell_type": "code",
      "source": [
        "decoded_text"
      ],
      "metadata": {
        "colab": {
          "base_uri": "https://localhost:8080/",
          "height": 70
        },
        "id": "nDJP0YhvEpml",
        "outputId": "4cffad1d-5e3f-49d3-cb96-fdb09595bcf1"
      },
      "execution_count": null,
      "outputs": [
        {
          "output_type": "execute_result",
          "data": {
            "text/plain": [
              "'Те́кстовый файл — компьютерный файл, содержащий текстовые данные. Текстовым файлам противопоставляются двоичные (бинарные) файлы, в которых содержатся данные, не рассчитанные на интерпретацию в качестве текстовых (например, файлы, хранящие текст в закодированном или сжатом виде, или хранящие не текст, а звук, изображение или иные данные).\\n\\nВ отличие от термина «текстовые данные» (текстовый формат данных), характеризующего содержимое данных, термин «текстовый файл» относится к файлу и характеризует его как контейнер, хранящий такие данные.'"
            ],
            "application/vnd.google.colaboratory.intrinsic+json": {
              "type": "string"
            }
          },
          "metadata": {},
          "execution_count": 215
        }
      ]
    },
    {
      "cell_type": "code",
      "source": [
        "print((0, 1)[text == decoded_text])"
      ],
      "metadata": {
        "colab": {
          "base_uri": "https://localhost:8080/"
        },
        "id": "rUcqbcN7FeeA",
        "outputId": "bd6c2eeb-ea04-4280-b804-d70f3b6284e0"
      },
      "execution_count": null,
      "outputs": [
        {
          "output_type": "stream",
          "name": "stdout",
          "text": [
            "1\n"
          ]
        }
      ]
    }
  ]
}