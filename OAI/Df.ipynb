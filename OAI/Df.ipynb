{
 "cells": [
  {
   "cell_type": "code",
   "execution_count": 71,
   "id": "47718421",
   "metadata": {},
   "outputs": [],
   "source": [
    "import pandas as pd\n",
    "import seaborn as sns\n",
    "import matplotlib.pyplot as plt\n",
    "import numpy as np\n",
    "from statsmodels.stats.outliers_influence import variance_inflation_factor\n",
    "from sklearn.utils import shuffle\n",
    "from sklearn.linear_model import LogisticRegression\n",
    "from sklearn.ensemble import RandomForestClassifier\n",
    "from catboost import CatBoostClassifier, Pool\n",
    "from tqdm import tqdm\n",
    "from sklearn.model_selection import train_test_split, cross_val_score, GridSearchCV\n",
    "from sklearn.metrics import roc_auc_score, f1_score, confusion_matrix, make_scorer, roc_curve"
   ]
  },
  {
   "cell_type": "code",
   "execution_count": 72,
   "id": "57d44aba",
   "metadata": {},
   "outputs": [],
   "source": [
    "# записываем данные в датафреймы\n",
    "df_contract = pd.read_csv(r'C:\\Users\\silki\\Desktop\\ucheba\\contract.csv') \n",
    "df_internet = pd.read_csv(r'C:\\Users\\silki\\Desktop\\ucheba\\internet.csv')\n",
    "df_personal = pd.read_csv(r'C:\\Users\\silki\\Desktop\\ucheba\\personal.csv') \n",
    "df_phone = pd.read_csv(r'C:\\Users\\silki\\Desktop\\ucheba\\phone.csv')"
   ]
  },
  {
   "cell_type": "code",
   "execution_count": 73,
   "id": "798ef107",
   "metadata": {},
   "outputs": [],
   "source": [
    "def data_preview(data):\n",
    "    display(data.sample(5))\n",
    "    print(\"-\" * 100)\n",
    "    data.info()\n",
    "    print(\"-\" * 100)\n",
    "    print(\"Пропуски в данных\")\n",
    "    display(data.isna().mean().sort_values(ascending=False))\n",
    "    print(\"-\" * 100)\n",
    "    print(f\"Количество явных дубликатов - {data.duplicated().sum()}\")\n",
    "    print(\"-\" * 100)\n",
    "    display(data.describe())\n",
    "    print(\"-\" * 100)\n",
    "    print(\"-\" * 100)"
   ]
  },
  {
   "cell_type": "markdown",
   "id": "c3c87d59",
   "metadata": {},
   "source": [
    "# Информация о договорах"
   ]
  },
  {
   "cell_type": "code",
   "execution_count": 74,
   "id": "c5d34b18",
   "metadata": {},
   "outputs": [
    {
     "data": {
      "text/html": [
       "<div>\n",
       "<style scoped>\n",
       "    .dataframe tbody tr th:only-of-type {\n",
       "        vertical-align: middle;\n",
       "    }\n",
       "\n",
       "    .dataframe tbody tr th {\n",
       "        vertical-align: top;\n",
       "    }\n",
       "\n",
       "    .dataframe thead th {\n",
       "        text-align: right;\n",
       "    }\n",
       "</style>\n",
       "<table border=\"1\" class=\"dataframe\">\n",
       "  <thead>\n",
       "    <tr style=\"text-align: right;\">\n",
       "      <th></th>\n",
       "      <th>customerID</th>\n",
       "      <th>BeginDate</th>\n",
       "      <th>EndDate</th>\n",
       "      <th>Type</th>\n",
       "      <th>PaperlessBilling</th>\n",
       "      <th>PaymentMethod</th>\n",
       "      <th>MonthlyCharges</th>\n",
       "      <th>TotalCharges</th>\n",
       "    </tr>\n",
       "  </thead>\n",
       "  <tbody>\n",
       "    <tr>\n",
       "      <th>3984</th>\n",
       "      <td>5884-FBCTL</td>\n",
       "      <td>2014-02-01</td>\n",
       "      <td>No</td>\n",
       "      <td>Two year</td>\n",
       "      <td>No</td>\n",
       "      <td>Bank transfer (automatic)</td>\n",
       "      <td>25.10</td>\n",
       "      <td>1857.85</td>\n",
       "    </tr>\n",
       "    <tr>\n",
       "      <th>1071</th>\n",
       "      <td>3097-NNSPB</td>\n",
       "      <td>2019-08-01</td>\n",
       "      <td>2019-10-01 00:00:00</td>\n",
       "      <td>Month-to-month</td>\n",
       "      <td>Yes</td>\n",
       "      <td>Credit card (automatic)</td>\n",
       "      <td>49.05</td>\n",
       "      <td>91.1</td>\n",
       "    </tr>\n",
       "    <tr>\n",
       "      <th>6319</th>\n",
       "      <td>8904-OPDCK</td>\n",
       "      <td>2015-08-01</td>\n",
       "      <td>No</td>\n",
       "      <td>Month-to-month</td>\n",
       "      <td>Yes</td>\n",
       "      <td>Bank transfer (automatic)</td>\n",
       "      <td>24.95</td>\n",
       "      <td>1364.75</td>\n",
       "    </tr>\n",
       "    <tr>\n",
       "      <th>2712</th>\n",
       "      <td>5133-VRSAB</td>\n",
       "      <td>2019-06-01</td>\n",
       "      <td>No</td>\n",
       "      <td>Month-to-month</td>\n",
       "      <td>No</td>\n",
       "      <td>Mailed check</td>\n",
       "      <td>29.35</td>\n",
       "      <td>216.45</td>\n",
       "    </tr>\n",
       "    <tr>\n",
       "      <th>3382</th>\n",
       "      <td>6285-FTQBF</td>\n",
       "      <td>2014-02-01</td>\n",
       "      <td>No</td>\n",
       "      <td>Two year</td>\n",
       "      <td>No</td>\n",
       "      <td>Credit card (automatic)</td>\n",
       "      <td>25.55</td>\n",
       "      <td>1867.7</td>\n",
       "    </tr>\n",
       "  </tbody>\n",
       "</table>\n",
       "</div>"
      ],
      "text/plain": [
       "      customerID   BeginDate              EndDate            Type  \\\n",
       "3984  5884-FBCTL  2014-02-01                   No        Two year   \n",
       "1071  3097-NNSPB  2019-08-01  2019-10-01 00:00:00  Month-to-month   \n",
       "6319  8904-OPDCK  2015-08-01                   No  Month-to-month   \n",
       "2712  5133-VRSAB  2019-06-01                   No  Month-to-month   \n",
       "3382  6285-FTQBF  2014-02-01                   No        Two year   \n",
       "\n",
       "     PaperlessBilling              PaymentMethod  MonthlyCharges TotalCharges  \n",
       "3984               No  Bank transfer (automatic)           25.10      1857.85  \n",
       "1071              Yes    Credit card (automatic)           49.05         91.1  \n",
       "6319              Yes  Bank transfer (automatic)           24.95      1364.75  \n",
       "2712               No               Mailed check           29.35       216.45  \n",
       "3382               No    Credit card (automatic)           25.55       1867.7  "
      ]
     },
     "metadata": {},
     "output_type": "display_data"
    },
    {
     "name": "stdout",
     "output_type": "stream",
     "text": [
      "----------------------------------------------------------------------------------------------------\n",
      "<class 'pandas.core.frame.DataFrame'>\n",
      "RangeIndex: 7043 entries, 0 to 7042\n",
      "Data columns (total 8 columns):\n",
      " #   Column            Non-Null Count  Dtype  \n",
      "---  ------            --------------  -----  \n",
      " 0   customerID        7043 non-null   object \n",
      " 1   BeginDate         7043 non-null   object \n",
      " 2   EndDate           7043 non-null   object \n",
      " 3   Type              7043 non-null   object \n",
      " 4   PaperlessBilling  7043 non-null   object \n",
      " 5   PaymentMethod     7043 non-null   object \n",
      " 6   MonthlyCharges    7043 non-null   float64\n",
      " 7   TotalCharges      7043 non-null   object \n",
      "dtypes: float64(1), object(7)\n",
      "memory usage: 440.3+ KB\n",
      "----------------------------------------------------------------------------------------------------\n",
      "Пропуски в данных\n"
     ]
    },
    {
     "data": {
      "text/plain": [
       "customerID          0.0\n",
       "BeginDate           0.0\n",
       "EndDate             0.0\n",
       "Type                0.0\n",
       "PaperlessBilling    0.0\n",
       "PaymentMethod       0.0\n",
       "MonthlyCharges      0.0\n",
       "TotalCharges        0.0\n",
       "dtype: float64"
      ]
     },
     "metadata": {},
     "output_type": "display_data"
    },
    {
     "name": "stdout",
     "output_type": "stream",
     "text": [
      "----------------------------------------------------------------------------------------------------\n",
      "Количество явных дубликатов - 0\n",
      "----------------------------------------------------------------------------------------------------\n"
     ]
    },
    {
     "data": {
      "text/html": [
       "<div>\n",
       "<style scoped>\n",
       "    .dataframe tbody tr th:only-of-type {\n",
       "        vertical-align: middle;\n",
       "    }\n",
       "\n",
       "    .dataframe tbody tr th {\n",
       "        vertical-align: top;\n",
       "    }\n",
       "\n",
       "    .dataframe thead th {\n",
       "        text-align: right;\n",
       "    }\n",
       "</style>\n",
       "<table border=\"1\" class=\"dataframe\">\n",
       "  <thead>\n",
       "    <tr style=\"text-align: right;\">\n",
       "      <th></th>\n",
       "      <th>MonthlyCharges</th>\n",
       "    </tr>\n",
       "  </thead>\n",
       "  <tbody>\n",
       "    <tr>\n",
       "      <th>count</th>\n",
       "      <td>7043.000000</td>\n",
       "    </tr>\n",
       "    <tr>\n",
       "      <th>mean</th>\n",
       "      <td>64.761692</td>\n",
       "    </tr>\n",
       "    <tr>\n",
       "      <th>std</th>\n",
       "      <td>30.090047</td>\n",
       "    </tr>\n",
       "    <tr>\n",
       "      <th>min</th>\n",
       "      <td>18.250000</td>\n",
       "    </tr>\n",
       "    <tr>\n",
       "      <th>25%</th>\n",
       "      <td>35.500000</td>\n",
       "    </tr>\n",
       "    <tr>\n",
       "      <th>50%</th>\n",
       "      <td>70.350000</td>\n",
       "    </tr>\n",
       "    <tr>\n",
       "      <th>75%</th>\n",
       "      <td>89.850000</td>\n",
       "    </tr>\n",
       "    <tr>\n",
       "      <th>max</th>\n",
       "      <td>118.750000</td>\n",
       "    </tr>\n",
       "  </tbody>\n",
       "</table>\n",
       "</div>"
      ],
      "text/plain": [
       "       MonthlyCharges\n",
       "count     7043.000000\n",
       "mean        64.761692\n",
       "std         30.090047\n",
       "min         18.250000\n",
       "25%         35.500000\n",
       "50%         70.350000\n",
       "75%         89.850000\n",
       "max        118.750000"
      ]
     },
     "metadata": {},
     "output_type": "display_data"
    },
    {
     "name": "stdout",
     "output_type": "stream",
     "text": [
      "----------------------------------------------------------------------------------------------------\n",
      "----------------------------------------------------------------------------------------------------\n"
     ]
    }
   ],
   "source": [
    "data_preview(df_contract)"
   ]
  },
  {
   "cell_type": "code",
   "execution_count": 75,
   "id": "d12ef2d5",
   "metadata": {},
   "outputs": [
    {
     "data": {
      "text/plain": [
       "2014-02-01    366\n",
       "2019-10-01    237\n",
       "2019-11-01    237\n",
       "2019-09-01    237\n",
       "2020-01-01    233\n",
       "             ... \n",
       "2020-02-01     11\n",
       "2014-01-01      7\n",
       "2013-10-01      3\n",
       "2013-12-01      3\n",
       "2013-11-01      2\n",
       "Name: BeginDate, Length: 77, dtype: int64"
      ]
     },
     "execution_count": 75,
     "metadata": {},
     "output_type": "execute_result"
    }
   ],
   "source": [
    "# смотрим значения полей\n",
    "df_contract['BeginDate'].value_counts()"
   ]
  },
  {
   "cell_type": "code",
   "execution_count": 76,
   "id": "84b426f4",
   "metadata": {},
   "outputs": [
    {
     "data": {
      "text/plain": [
       "No                     5174\n",
       "2019-11-01 00:00:00     485\n",
       "2019-12-01 00:00:00     466\n",
       "2020-01-01 00:00:00     460\n",
       "2019-10-01 00:00:00     458\n",
       "Name: EndDate, dtype: int64"
      ]
     },
     "execution_count": 76,
     "metadata": {},
     "output_type": "execute_result"
    }
   ],
   "source": [
    "df_contract['EndDate'].value_counts()"
   ]
  },
  {
   "cell_type": "code",
   "execution_count": 77,
   "id": "962106ee",
   "metadata": {},
   "outputs": [
    {
     "data": {
      "text/plain": [
       "Month-to-month    3875\n",
       "Two year          1695\n",
       "One year          1473\n",
       "Name: Type, dtype: int64"
      ]
     },
     "execution_count": 77,
     "metadata": {},
     "output_type": "execute_result"
    }
   ],
   "source": [
    "df_contract['Type'].value_counts()"
   ]
  },
  {
   "cell_type": "code",
   "execution_count": 78,
   "id": "34289a32",
   "metadata": {},
   "outputs": [
    {
     "data": {
      "text/plain": [
       "Yes    4171\n",
       "No     2872\n",
       "Name: PaperlessBilling, dtype: int64"
      ]
     },
     "execution_count": 78,
     "metadata": {},
     "output_type": "execute_result"
    }
   ],
   "source": [
    "df_contract['PaperlessBilling'].value_counts()"
   ]
  },
  {
   "cell_type": "code",
   "execution_count": 79,
   "id": "e4871ed8",
   "metadata": {},
   "outputs": [
    {
     "data": {
      "text/plain": [
       "Electronic check             2365\n",
       "Mailed check                 1612\n",
       "Bank transfer (automatic)    1544\n",
       "Credit card (automatic)      1522\n",
       "Name: PaymentMethod, dtype: int64"
      ]
     },
     "execution_count": 79,
     "metadata": {},
     "output_type": "execute_result"
    }
   ],
   "source": [
    "df_contract['PaymentMethod'].value_counts()"
   ]
  },
  {
   "cell_type": "code",
   "execution_count": 80,
   "id": "4636391d",
   "metadata": {},
   "outputs": [
    {
     "data": {
      "text/plain": [
       "20.05     61\n",
       "19.85     45\n",
       "19.95     44\n",
       "19.90     44\n",
       "20.00     43\n",
       "          ..\n",
       "23.65      1\n",
       "114.70     1\n",
       "43.65      1\n",
       "87.80      1\n",
       "78.70      1\n",
       "Name: MonthlyCharges, Length: 1585, dtype: int64"
      ]
     },
     "execution_count": 80,
     "metadata": {},
     "output_type": "execute_result"
    }
   ],
   "source": [
    "df_contract['MonthlyCharges'].value_counts()"
   ]
  },
  {
   "cell_type": "code",
   "execution_count": 81,
   "id": "d3e3d089",
   "metadata": {},
   "outputs": [
    {
     "data": {
      "text/plain": [
       "          11\n",
       "20.2      11\n",
       "19.75      9\n",
       "20.05      8\n",
       "19.9       8\n",
       "          ..\n",
       "6849.4     1\n",
       "692.35     1\n",
       "130.15     1\n",
       "3211.9     1\n",
       "6844.5     1\n",
       "Name: TotalCharges, Length: 6531, dtype: int64"
      ]
     },
     "execution_count": 81,
     "metadata": {},
     "output_type": "execute_result"
    }
   ],
   "source": [
    "df_contract['TotalCharges'].value_counts()\n",
    "# имеются неявные пропуски"
   ]
  },
  {
   "cell_type": "markdown",
   "id": "050a1453",
   "metadata": {},
   "source": [
    "# Информация о интернет услугах"
   ]
  },
  {
   "cell_type": "code",
   "execution_count": 82,
   "id": "b7690e6c",
   "metadata": {
    "scrolled": false
   },
   "outputs": [
    {
     "data": {
      "text/html": [
       "<div>\n",
       "<style scoped>\n",
       "    .dataframe tbody tr th:only-of-type {\n",
       "        vertical-align: middle;\n",
       "    }\n",
       "\n",
       "    .dataframe tbody tr th {\n",
       "        vertical-align: top;\n",
       "    }\n",
       "\n",
       "    .dataframe thead th {\n",
       "        text-align: right;\n",
       "    }\n",
       "</style>\n",
       "<table border=\"1\" class=\"dataframe\">\n",
       "  <thead>\n",
       "    <tr style=\"text-align: right;\">\n",
       "      <th></th>\n",
       "      <th>customerID</th>\n",
       "      <th>InternetService</th>\n",
       "      <th>OnlineSecurity</th>\n",
       "      <th>OnlineBackup</th>\n",
       "      <th>DeviceProtection</th>\n",
       "      <th>TechSupport</th>\n",
       "      <th>StreamingTV</th>\n",
       "      <th>StreamingMovies</th>\n",
       "    </tr>\n",
       "  </thead>\n",
       "  <tbody>\n",
       "    <tr>\n",
       "      <th>283</th>\n",
       "      <td>4654-DLAMQ</td>\n",
       "      <td>Fiber optic</td>\n",
       "      <td>Yes</td>\n",
       "      <td>Yes</td>\n",
       "      <td>Yes</td>\n",
       "      <td>No</td>\n",
       "      <td>No</td>\n",
       "      <td>Yes</td>\n",
       "    </tr>\n",
       "    <tr>\n",
       "      <th>2737</th>\n",
       "      <td>7730-IUTDZ</td>\n",
       "      <td>Fiber optic</td>\n",
       "      <td>Yes</td>\n",
       "      <td>No</td>\n",
       "      <td>No</td>\n",
       "      <td>No</td>\n",
       "      <td>No</td>\n",
       "      <td>No</td>\n",
       "    </tr>\n",
       "    <tr>\n",
       "      <th>2024</th>\n",
       "      <td>4910-GMJOT</td>\n",
       "      <td>Fiber optic</td>\n",
       "      <td>No</td>\n",
       "      <td>No</td>\n",
       "      <td>No</td>\n",
       "      <td>No</td>\n",
       "      <td>Yes</td>\n",
       "      <td>Yes</td>\n",
       "    </tr>\n",
       "    <tr>\n",
       "      <th>582</th>\n",
       "      <td>2684-EIWEO</td>\n",
       "      <td>Fiber optic</td>\n",
       "      <td>Yes</td>\n",
       "      <td>Yes</td>\n",
       "      <td>Yes</td>\n",
       "      <td>No</td>\n",
       "      <td>No</td>\n",
       "      <td>No</td>\n",
       "    </tr>\n",
       "    <tr>\n",
       "      <th>5297</th>\n",
       "      <td>4919-MOAVT</td>\n",
       "      <td>Fiber optic</td>\n",
       "      <td>No</td>\n",
       "      <td>No</td>\n",
       "      <td>No</td>\n",
       "      <td>No</td>\n",
       "      <td>No</td>\n",
       "      <td>No</td>\n",
       "    </tr>\n",
       "  </tbody>\n",
       "</table>\n",
       "</div>"
      ],
      "text/plain": [
       "      customerID InternetService OnlineSecurity OnlineBackup DeviceProtection  \\\n",
       "283   4654-DLAMQ     Fiber optic            Yes          Yes              Yes   \n",
       "2737  7730-IUTDZ     Fiber optic            Yes           No               No   \n",
       "2024  4910-GMJOT     Fiber optic             No           No               No   \n",
       "582   2684-EIWEO     Fiber optic            Yes          Yes              Yes   \n",
       "5297  4919-MOAVT     Fiber optic             No           No               No   \n",
       "\n",
       "     TechSupport StreamingTV StreamingMovies  \n",
       "283           No          No             Yes  \n",
       "2737          No          No              No  \n",
       "2024          No         Yes             Yes  \n",
       "582           No          No              No  \n",
       "5297          No          No              No  "
      ]
     },
     "metadata": {},
     "output_type": "display_data"
    },
    {
     "name": "stdout",
     "output_type": "stream",
     "text": [
      "----------------------------------------------------------------------------------------------------\n",
      "<class 'pandas.core.frame.DataFrame'>\n",
      "RangeIndex: 5517 entries, 0 to 5516\n",
      "Data columns (total 8 columns):\n",
      " #   Column            Non-Null Count  Dtype \n",
      "---  ------            --------------  ----- \n",
      " 0   customerID        5517 non-null   object\n",
      " 1   InternetService   5517 non-null   object\n",
      " 2   OnlineSecurity    5517 non-null   object\n",
      " 3   OnlineBackup      5517 non-null   object\n",
      " 4   DeviceProtection  5517 non-null   object\n",
      " 5   TechSupport       5517 non-null   object\n",
      " 6   StreamingTV       5517 non-null   object\n",
      " 7   StreamingMovies   5517 non-null   object\n",
      "dtypes: object(8)\n",
      "memory usage: 344.9+ KB\n",
      "----------------------------------------------------------------------------------------------------\n",
      "Пропуски в данных\n"
     ]
    },
    {
     "data": {
      "text/plain": [
       "customerID          0.0\n",
       "InternetService     0.0\n",
       "OnlineSecurity      0.0\n",
       "OnlineBackup        0.0\n",
       "DeviceProtection    0.0\n",
       "TechSupport         0.0\n",
       "StreamingTV         0.0\n",
       "StreamingMovies     0.0\n",
       "dtype: float64"
      ]
     },
     "metadata": {},
     "output_type": "display_data"
    },
    {
     "name": "stdout",
     "output_type": "stream",
     "text": [
      "----------------------------------------------------------------------------------------------------\n",
      "Количество явных дубликатов - 0\n",
      "----------------------------------------------------------------------------------------------------\n"
     ]
    },
    {
     "data": {
      "text/html": [
       "<div>\n",
       "<style scoped>\n",
       "    .dataframe tbody tr th:only-of-type {\n",
       "        vertical-align: middle;\n",
       "    }\n",
       "\n",
       "    .dataframe tbody tr th {\n",
       "        vertical-align: top;\n",
       "    }\n",
       "\n",
       "    .dataframe thead th {\n",
       "        text-align: right;\n",
       "    }\n",
       "</style>\n",
       "<table border=\"1\" class=\"dataframe\">\n",
       "  <thead>\n",
       "    <tr style=\"text-align: right;\">\n",
       "      <th></th>\n",
       "      <th>customerID</th>\n",
       "      <th>InternetService</th>\n",
       "      <th>OnlineSecurity</th>\n",
       "      <th>OnlineBackup</th>\n",
       "      <th>DeviceProtection</th>\n",
       "      <th>TechSupport</th>\n",
       "      <th>StreamingTV</th>\n",
       "      <th>StreamingMovies</th>\n",
       "    </tr>\n",
       "  </thead>\n",
       "  <tbody>\n",
       "    <tr>\n",
       "      <th>count</th>\n",
       "      <td>5517</td>\n",
       "      <td>5517</td>\n",
       "      <td>5517</td>\n",
       "      <td>5517</td>\n",
       "      <td>5517</td>\n",
       "      <td>5517</td>\n",
       "      <td>5517</td>\n",
       "      <td>5517</td>\n",
       "    </tr>\n",
       "    <tr>\n",
       "      <th>unique</th>\n",
       "      <td>5517</td>\n",
       "      <td>2</td>\n",
       "      <td>2</td>\n",
       "      <td>2</td>\n",
       "      <td>2</td>\n",
       "      <td>2</td>\n",
       "      <td>2</td>\n",
       "      <td>2</td>\n",
       "    </tr>\n",
       "    <tr>\n",
       "      <th>top</th>\n",
       "      <td>7590-VHVEG</td>\n",
       "      <td>Fiber optic</td>\n",
       "      <td>No</td>\n",
       "      <td>No</td>\n",
       "      <td>No</td>\n",
       "      <td>No</td>\n",
       "      <td>No</td>\n",
       "      <td>No</td>\n",
       "    </tr>\n",
       "    <tr>\n",
       "      <th>freq</th>\n",
       "      <td>1</td>\n",
       "      <td>3096</td>\n",
       "      <td>3498</td>\n",
       "      <td>3088</td>\n",
       "      <td>3095</td>\n",
       "      <td>3473</td>\n",
       "      <td>2810</td>\n",
       "      <td>2785</td>\n",
       "    </tr>\n",
       "  </tbody>\n",
       "</table>\n",
       "</div>"
      ],
      "text/plain": [
       "        customerID InternetService OnlineSecurity OnlineBackup  \\\n",
       "count         5517            5517           5517         5517   \n",
       "unique        5517               2              2            2   \n",
       "top     7590-VHVEG     Fiber optic             No           No   \n",
       "freq             1            3096           3498         3088   \n",
       "\n",
       "       DeviceProtection TechSupport StreamingTV StreamingMovies  \n",
       "count              5517        5517        5517            5517  \n",
       "unique                2           2           2               2  \n",
       "top                  No          No          No              No  \n",
       "freq               3095        3473        2810            2785  "
      ]
     },
     "metadata": {},
     "output_type": "display_data"
    },
    {
     "name": "stdout",
     "output_type": "stream",
     "text": [
      "----------------------------------------------------------------------------------------------------\n",
      "----------------------------------------------------------------------------------------------------\n"
     ]
    }
   ],
   "source": [
    "data_preview(df_internet)"
   ]
  },
  {
   "cell_type": "code",
   "execution_count": 83,
   "id": "de9a1832",
   "metadata": {},
   "outputs": [
    {
     "data": {
      "text/plain": [
       "Fiber optic    3096\n",
       "DSL            2421\n",
       "Name: InternetService, dtype: int64"
      ]
     },
     "execution_count": 83,
     "metadata": {},
     "output_type": "execute_result"
    }
   ],
   "source": [
    "df_internet['InternetService'].value_counts()"
   ]
  },
  {
   "cell_type": "code",
   "execution_count": 84,
   "id": "e6440ae2",
   "metadata": {},
   "outputs": [
    {
     "data": {
      "text/plain": [
       "No     3498\n",
       "Yes    2019\n",
       "Name: OnlineSecurity, dtype: int64"
      ]
     },
     "execution_count": 84,
     "metadata": {},
     "output_type": "execute_result"
    }
   ],
   "source": [
    "df_internet['OnlineSecurity'].value_counts()"
   ]
  },
  {
   "cell_type": "code",
   "execution_count": 85,
   "id": "47382d5b",
   "metadata": {},
   "outputs": [
    {
     "data": {
      "text/plain": [
       "No     3088\n",
       "Yes    2429\n",
       "Name: OnlineBackup, dtype: int64"
      ]
     },
     "execution_count": 85,
     "metadata": {},
     "output_type": "execute_result"
    }
   ],
   "source": [
    "df_internet['OnlineBackup'].value_counts()"
   ]
  },
  {
   "cell_type": "code",
   "execution_count": 86,
   "id": "c814bad1",
   "metadata": {},
   "outputs": [
    {
     "data": {
      "text/plain": [
       "No     3095\n",
       "Yes    2422\n",
       "Name: DeviceProtection, dtype: int64"
      ]
     },
     "execution_count": 86,
     "metadata": {},
     "output_type": "execute_result"
    }
   ],
   "source": [
    "df_internet['DeviceProtection'].value_counts()"
   ]
  },
  {
   "cell_type": "code",
   "execution_count": 87,
   "id": "72fd2b6a",
   "metadata": {},
   "outputs": [
    {
     "data": {
      "text/plain": [
       "No     3473\n",
       "Yes    2044\n",
       "Name: TechSupport, dtype: int64"
      ]
     },
     "execution_count": 87,
     "metadata": {},
     "output_type": "execute_result"
    }
   ],
   "source": [
    "df_internet['TechSupport'].value_counts()"
   ]
  },
  {
   "cell_type": "code",
   "execution_count": 88,
   "id": "77a90752",
   "metadata": {},
   "outputs": [
    {
     "data": {
      "text/plain": [
       "No     2810\n",
       "Yes    2707\n",
       "Name: StreamingTV, dtype: int64"
      ]
     },
     "execution_count": 88,
     "metadata": {},
     "output_type": "execute_result"
    }
   ],
   "source": [
    "df_internet['StreamingTV'].value_counts()"
   ]
  },
  {
   "cell_type": "code",
   "execution_count": 89,
   "id": "3939d29c",
   "metadata": {},
   "outputs": [
    {
     "data": {
      "text/plain": [
       "No     2785\n",
       "Yes    2732\n",
       "Name: StreamingMovies, dtype: int64"
      ]
     },
     "execution_count": 89,
     "metadata": {},
     "output_type": "execute_result"
    }
   ],
   "source": [
    "df_internet['StreamingMovies'].value_counts()"
   ]
  },
  {
   "cell_type": "markdown",
   "id": "28051f2a",
   "metadata": {},
   "source": [
    "# Информация о данных клиентов"
   ]
  },
  {
   "cell_type": "code",
   "execution_count": 90,
   "id": "1c1b7b81",
   "metadata": {},
   "outputs": [
    {
     "data": {
      "text/html": [
       "<div>\n",
       "<style scoped>\n",
       "    .dataframe tbody tr th:only-of-type {\n",
       "        vertical-align: middle;\n",
       "    }\n",
       "\n",
       "    .dataframe tbody tr th {\n",
       "        vertical-align: top;\n",
       "    }\n",
       "\n",
       "    .dataframe thead th {\n",
       "        text-align: right;\n",
       "    }\n",
       "</style>\n",
       "<table border=\"1\" class=\"dataframe\">\n",
       "  <thead>\n",
       "    <tr style=\"text-align: right;\">\n",
       "      <th></th>\n",
       "      <th>customerID</th>\n",
       "      <th>gender</th>\n",
       "      <th>SeniorCitizen</th>\n",
       "      <th>Partner</th>\n",
       "      <th>Dependents</th>\n",
       "    </tr>\n",
       "  </thead>\n",
       "  <tbody>\n",
       "    <tr>\n",
       "      <th>1682</th>\n",
       "      <td>9225-BZLNZ</td>\n",
       "      <td>Male</td>\n",
       "      <td>0</td>\n",
       "      <td>Yes</td>\n",
       "      <td>No</td>\n",
       "    </tr>\n",
       "    <tr>\n",
       "      <th>6487</th>\n",
       "      <td>5998-DZLYR</td>\n",
       "      <td>Female</td>\n",
       "      <td>0</td>\n",
       "      <td>Yes</td>\n",
       "      <td>No</td>\n",
       "    </tr>\n",
       "    <tr>\n",
       "      <th>1115</th>\n",
       "      <td>1271-UODNO</td>\n",
       "      <td>Male</td>\n",
       "      <td>0</td>\n",
       "      <td>No</td>\n",
       "      <td>No</td>\n",
       "    </tr>\n",
       "    <tr>\n",
       "      <th>315</th>\n",
       "      <td>5027-YOCXN</td>\n",
       "      <td>Male</td>\n",
       "      <td>0</td>\n",
       "      <td>Yes</td>\n",
       "      <td>Yes</td>\n",
       "    </tr>\n",
       "    <tr>\n",
       "      <th>6855</th>\n",
       "      <td>8738-JOKAR</td>\n",
       "      <td>Female</td>\n",
       "      <td>0</td>\n",
       "      <td>No</td>\n",
       "      <td>No</td>\n",
       "    </tr>\n",
       "  </tbody>\n",
       "</table>\n",
       "</div>"
      ],
      "text/plain": [
       "      customerID  gender  SeniorCitizen Partner Dependents\n",
       "1682  9225-BZLNZ    Male              0     Yes         No\n",
       "6487  5998-DZLYR  Female              0     Yes         No\n",
       "1115  1271-UODNO    Male              0      No         No\n",
       "315   5027-YOCXN    Male              0     Yes        Yes\n",
       "6855  8738-JOKAR  Female              0      No         No"
      ]
     },
     "metadata": {},
     "output_type": "display_data"
    },
    {
     "name": "stdout",
     "output_type": "stream",
     "text": [
      "----------------------------------------------------------------------------------------------------\n",
      "<class 'pandas.core.frame.DataFrame'>\n",
      "RangeIndex: 7043 entries, 0 to 7042\n",
      "Data columns (total 5 columns):\n",
      " #   Column         Non-Null Count  Dtype \n",
      "---  ------         --------------  ----- \n",
      " 0   customerID     7043 non-null   object\n",
      " 1   gender         7043 non-null   object\n",
      " 2   SeniorCitizen  7043 non-null   int64 \n",
      " 3   Partner        7043 non-null   object\n",
      " 4   Dependents     7043 non-null   object\n",
      "dtypes: int64(1), object(4)\n",
      "memory usage: 275.2+ KB\n",
      "----------------------------------------------------------------------------------------------------\n",
      "Пропуски в данных\n"
     ]
    },
    {
     "data": {
      "text/plain": [
       "customerID       0.0\n",
       "gender           0.0\n",
       "SeniorCitizen    0.0\n",
       "Partner          0.0\n",
       "Dependents       0.0\n",
       "dtype: float64"
      ]
     },
     "metadata": {},
     "output_type": "display_data"
    },
    {
     "name": "stdout",
     "output_type": "stream",
     "text": [
      "----------------------------------------------------------------------------------------------------\n",
      "Количество явных дубликатов - 0\n",
      "----------------------------------------------------------------------------------------------------\n"
     ]
    },
    {
     "data": {
      "text/html": [
       "<div>\n",
       "<style scoped>\n",
       "    .dataframe tbody tr th:only-of-type {\n",
       "        vertical-align: middle;\n",
       "    }\n",
       "\n",
       "    .dataframe tbody tr th {\n",
       "        vertical-align: top;\n",
       "    }\n",
       "\n",
       "    .dataframe thead th {\n",
       "        text-align: right;\n",
       "    }\n",
       "</style>\n",
       "<table border=\"1\" class=\"dataframe\">\n",
       "  <thead>\n",
       "    <tr style=\"text-align: right;\">\n",
       "      <th></th>\n",
       "      <th>SeniorCitizen</th>\n",
       "    </tr>\n",
       "  </thead>\n",
       "  <tbody>\n",
       "    <tr>\n",
       "      <th>count</th>\n",
       "      <td>7043.000000</td>\n",
       "    </tr>\n",
       "    <tr>\n",
       "      <th>mean</th>\n",
       "      <td>0.162147</td>\n",
       "    </tr>\n",
       "    <tr>\n",
       "      <th>std</th>\n",
       "      <td>0.368612</td>\n",
       "    </tr>\n",
       "    <tr>\n",
       "      <th>min</th>\n",
       "      <td>0.000000</td>\n",
       "    </tr>\n",
       "    <tr>\n",
       "      <th>25%</th>\n",
       "      <td>0.000000</td>\n",
       "    </tr>\n",
       "    <tr>\n",
       "      <th>50%</th>\n",
       "      <td>0.000000</td>\n",
       "    </tr>\n",
       "    <tr>\n",
       "      <th>75%</th>\n",
       "      <td>0.000000</td>\n",
       "    </tr>\n",
       "    <tr>\n",
       "      <th>max</th>\n",
       "      <td>1.000000</td>\n",
       "    </tr>\n",
       "  </tbody>\n",
       "</table>\n",
       "</div>"
      ],
      "text/plain": [
       "       SeniorCitizen\n",
       "count    7043.000000\n",
       "mean        0.162147\n",
       "std         0.368612\n",
       "min         0.000000\n",
       "25%         0.000000\n",
       "50%         0.000000\n",
       "75%         0.000000\n",
       "max         1.000000"
      ]
     },
     "metadata": {},
     "output_type": "display_data"
    },
    {
     "name": "stdout",
     "output_type": "stream",
     "text": [
      "----------------------------------------------------------------------------------------------------\n",
      "----------------------------------------------------------------------------------------------------\n"
     ]
    }
   ],
   "source": [
    "data_preview(df_personal)"
   ]
  },
  {
   "cell_type": "code",
   "execution_count": 91,
   "id": "5a886876",
   "metadata": {},
   "outputs": [
    {
     "data": {
      "text/plain": [
       "Male      3555\n",
       "Female    3488\n",
       "Name: gender, dtype: int64"
      ]
     },
     "execution_count": 91,
     "metadata": {},
     "output_type": "execute_result"
    }
   ],
   "source": [
    "df_personal['gender'].value_counts()"
   ]
  },
  {
   "cell_type": "code",
   "execution_count": 92,
   "id": "a47ec957",
   "metadata": {},
   "outputs": [
    {
     "data": {
      "text/plain": [
       "0    5901\n",
       "1    1142\n",
       "Name: SeniorCitizen, dtype: int64"
      ]
     },
     "execution_count": 92,
     "metadata": {},
     "output_type": "execute_result"
    }
   ],
   "source": [
    "df_personal['SeniorCitizen'].value_counts()"
   ]
  },
  {
   "cell_type": "code",
   "execution_count": 93,
   "id": "294892a4",
   "metadata": {},
   "outputs": [
    {
     "data": {
      "text/plain": [
       "No     3641\n",
       "Yes    3402\n",
       "Name: Partner, dtype: int64"
      ]
     },
     "execution_count": 93,
     "metadata": {},
     "output_type": "execute_result"
    }
   ],
   "source": [
    "df_personal['Partner'].value_counts()"
   ]
  },
  {
   "cell_type": "code",
   "execution_count": 94,
   "id": "ed06bc0c",
   "metadata": {},
   "outputs": [
    {
     "data": {
      "text/plain": [
       "No     4933\n",
       "Yes    2110\n",
       "Name: Dependents, dtype: int64"
      ]
     },
     "execution_count": 94,
     "metadata": {},
     "output_type": "execute_result"
    }
   ],
   "source": [
    "df_personal['Dependents'].value_counts()"
   ]
  },
  {
   "cell_type": "markdown",
   "id": "1ec296cf",
   "metadata": {},
   "source": [
    "# Информация о телефонной связи"
   ]
  },
  {
   "cell_type": "code",
   "execution_count": 95,
   "id": "ab43f6d1",
   "metadata": {
    "scrolled": false
   },
   "outputs": [
    {
     "data": {
      "text/html": [
       "<div>\n",
       "<style scoped>\n",
       "    .dataframe tbody tr th:only-of-type {\n",
       "        vertical-align: middle;\n",
       "    }\n",
       "\n",
       "    .dataframe tbody tr th {\n",
       "        vertical-align: top;\n",
       "    }\n",
       "\n",
       "    .dataframe thead th {\n",
       "        text-align: right;\n",
       "    }\n",
       "</style>\n",
       "<table border=\"1\" class=\"dataframe\">\n",
       "  <thead>\n",
       "    <tr style=\"text-align: right;\">\n",
       "      <th></th>\n",
       "      <th>customerID</th>\n",
       "      <th>MultipleLines</th>\n",
       "    </tr>\n",
       "  </thead>\n",
       "  <tbody>\n",
       "    <tr>\n",
       "      <th>4100</th>\n",
       "      <td>3956-MGXOG</td>\n",
       "      <td>No</td>\n",
       "    </tr>\n",
       "    <tr>\n",
       "      <th>2497</th>\n",
       "      <td>7693-QPEFS</td>\n",
       "      <td>Yes</td>\n",
       "    </tr>\n",
       "    <tr>\n",
       "      <th>541</th>\n",
       "      <td>0374-FIUCA</td>\n",
       "      <td>No</td>\n",
       "    </tr>\n",
       "    <tr>\n",
       "      <th>1847</th>\n",
       "      <td>8272-ONJLV</td>\n",
       "      <td>No</td>\n",
       "    </tr>\n",
       "    <tr>\n",
       "      <th>549</th>\n",
       "      <td>8672-OAUPW</td>\n",
       "      <td>No</td>\n",
       "    </tr>\n",
       "  </tbody>\n",
       "</table>\n",
       "</div>"
      ],
      "text/plain": [
       "      customerID MultipleLines\n",
       "4100  3956-MGXOG            No\n",
       "2497  7693-QPEFS           Yes\n",
       "541   0374-FIUCA            No\n",
       "1847  8272-ONJLV            No\n",
       "549   8672-OAUPW            No"
      ]
     },
     "metadata": {},
     "output_type": "display_data"
    },
    {
     "name": "stdout",
     "output_type": "stream",
     "text": [
      "----------------------------------------------------------------------------------------------------\n",
      "<class 'pandas.core.frame.DataFrame'>\n",
      "RangeIndex: 6361 entries, 0 to 6360\n",
      "Data columns (total 2 columns):\n",
      " #   Column         Non-Null Count  Dtype \n",
      "---  ------         --------------  ----- \n",
      " 0   customerID     6361 non-null   object\n",
      " 1   MultipleLines  6361 non-null   object\n",
      "dtypes: object(2)\n",
      "memory usage: 99.5+ KB\n",
      "----------------------------------------------------------------------------------------------------\n",
      "Пропуски в данных\n"
     ]
    },
    {
     "data": {
      "text/plain": [
       "customerID       0.0\n",
       "MultipleLines    0.0\n",
       "dtype: float64"
      ]
     },
     "metadata": {},
     "output_type": "display_data"
    },
    {
     "name": "stdout",
     "output_type": "stream",
     "text": [
      "----------------------------------------------------------------------------------------------------\n",
      "Количество явных дубликатов - 0\n",
      "----------------------------------------------------------------------------------------------------\n"
     ]
    },
    {
     "data": {
      "text/html": [
       "<div>\n",
       "<style scoped>\n",
       "    .dataframe tbody tr th:only-of-type {\n",
       "        vertical-align: middle;\n",
       "    }\n",
       "\n",
       "    .dataframe tbody tr th {\n",
       "        vertical-align: top;\n",
       "    }\n",
       "\n",
       "    .dataframe thead th {\n",
       "        text-align: right;\n",
       "    }\n",
       "</style>\n",
       "<table border=\"1\" class=\"dataframe\">\n",
       "  <thead>\n",
       "    <tr style=\"text-align: right;\">\n",
       "      <th></th>\n",
       "      <th>customerID</th>\n",
       "      <th>MultipleLines</th>\n",
       "    </tr>\n",
       "  </thead>\n",
       "  <tbody>\n",
       "    <tr>\n",
       "      <th>count</th>\n",
       "      <td>6361</td>\n",
       "      <td>6361</td>\n",
       "    </tr>\n",
       "    <tr>\n",
       "      <th>unique</th>\n",
       "      <td>6361</td>\n",
       "      <td>2</td>\n",
       "    </tr>\n",
       "    <tr>\n",
       "      <th>top</th>\n",
       "      <td>5575-GNVDE</td>\n",
       "      <td>No</td>\n",
       "    </tr>\n",
       "    <tr>\n",
       "      <th>freq</th>\n",
       "      <td>1</td>\n",
       "      <td>3390</td>\n",
       "    </tr>\n",
       "  </tbody>\n",
       "</table>\n",
       "</div>"
      ],
      "text/plain": [
       "        customerID MultipleLines\n",
       "count         6361          6361\n",
       "unique        6361             2\n",
       "top     5575-GNVDE            No\n",
       "freq             1          3390"
      ]
     },
     "metadata": {},
     "output_type": "display_data"
    },
    {
     "name": "stdout",
     "output_type": "stream",
     "text": [
      "----------------------------------------------------------------------------------------------------\n",
      "----------------------------------------------------------------------------------------------------\n"
     ]
    }
   ],
   "source": [
    "data_preview(df_phone)"
   ]
  },
  {
   "cell_type": "code",
   "execution_count": 96,
   "id": "e1e26037",
   "metadata": {},
   "outputs": [
    {
     "data": {
      "text/plain": [
       "No     3390\n",
       "Yes    2971\n",
       "Name: MultipleLines, dtype: int64"
      ]
     },
     "execution_count": 96,
     "metadata": {},
     "output_type": "execute_result"
    }
   ],
   "source": [
    "df_phone['MultipleLines'].value_counts()"
   ]
  },
  {
   "cell_type": "markdown",
   "id": "1b62e9a0",
   "metadata": {},
   "source": [
    "Явные пропуски и дубликаты не найдены\n",
    "\n",
    "BeginDate - нужно привести к datetime\n",
    "EndDate - нужно привести к datetime, \"No\" нужно заменить на уникальную дату, в нашем случае на дату актуальности датасета 2020-02-1\n",
    "TotalCharges - нужно избавится от неявных пропусков, заполняем нулями"
   ]
  },
  {
   "cell_type": "markdown",
   "id": "b139f405",
   "metadata": {},
   "source": [
    "# Исследовательский анализ данных"
   ]
  },
  {
   "cell_type": "markdown",
   "id": "309bbeb8",
   "metadata": {},
   "source": [
    "## Приведение форматов данных"
   ]
  },
  {
   "cell_type": "code",
   "execution_count": 97,
   "id": "f4bfd3d4",
   "metadata": {},
   "outputs": [],
   "source": [
    "# заменим \"No\" на дату актуальности датасета 2020-02-1\n",
    "df_contract['EndDate'] = df_contract['EndDate'].replace(['No'], ['2020-02-01'])"
   ]
  },
  {
   "cell_type": "code",
   "execution_count": 98,
   "id": "60cd3e5f",
   "metadata": {},
   "outputs": [],
   "source": [
    "# заменим неявные пропуски нулями\n",
    "df_contract['TotalCharges'] = df_contract['TotalCharges'].replace([' '], 0)"
   ]
  },
  {
   "cell_type": "code",
   "execution_count": 99,
   "id": "c409a8d8",
   "metadata": {},
   "outputs": [],
   "source": [
    "# приводим поля BeginDate и EndDate к типу datetime\n",
    "df_contract['BeginDate'] = pd.to_datetime(df_contract['BeginDate'],format = '%Y-%m-%d')\n",
    "df_contract['EndDate'] = pd.to_datetime(df_contract['EndDate'],format = '%Y-%m-%d')\n",
    "# поля MonthlyCharges и TotalCharges приводим к целочисленному типу\n",
    "df_contract['MonthlyCharges'] = df_contract['MonthlyCharges'].astype('float')\n",
    "df_contract['MonthlyCharges'] = df_contract['MonthlyCharges'].astype('int')\n",
    "df_contract['TotalCharges'] = df_contract['TotalCharges'].astype('float')\n",
    "df_contract['TotalCharges'] = df_contract['TotalCharges'].astype('int')"
   ]
  },
  {
   "cell_type": "markdown",
   "id": "dc43460b",
   "metadata": {},
   "source": [
    "# Объединяем данные в одну таблицу"
   ]
  },
  {
   "cell_type": "code",
   "execution_count": 100,
   "id": "8d2d18e3",
   "metadata": {},
   "outputs": [],
   "source": [
    "# объединяем по customeriID \n",
    "df_telecom = df_contract.set_index('customerID').join(df_phone.set_index('customerID'))\n",
    "df_telecom = df_telecom.join(df_personal.set_index('customerID'))\n",
    "df_telecom = df_telecom.join(df_internet.set_index('customerID'))"
   ]
  },
  {
   "cell_type": "code",
   "execution_count": 101,
   "id": "39226159",
   "metadata": {},
   "outputs": [
    {
     "data": {
      "text/html": [
       "<div>\n",
       "<style scoped>\n",
       "    .dataframe tbody tr th:only-of-type {\n",
       "        vertical-align: middle;\n",
       "    }\n",
       "\n",
       "    .dataframe tbody tr th {\n",
       "        vertical-align: top;\n",
       "    }\n",
       "\n",
       "    .dataframe thead th {\n",
       "        text-align: right;\n",
       "    }\n",
       "</style>\n",
       "<table border=\"1\" class=\"dataframe\">\n",
       "  <thead>\n",
       "    <tr style=\"text-align: right;\">\n",
       "      <th></th>\n",
       "      <th>BeginDate</th>\n",
       "      <th>EndDate</th>\n",
       "      <th>Type</th>\n",
       "      <th>PaperlessBilling</th>\n",
       "      <th>PaymentMethod</th>\n",
       "      <th>MonthlyCharges</th>\n",
       "      <th>TotalCharges</th>\n",
       "      <th>MultipleLines</th>\n",
       "      <th>gender</th>\n",
       "      <th>SeniorCitizen</th>\n",
       "      <th>Partner</th>\n",
       "      <th>Dependents</th>\n",
       "      <th>InternetService</th>\n",
       "      <th>OnlineSecurity</th>\n",
       "      <th>OnlineBackup</th>\n",
       "      <th>DeviceProtection</th>\n",
       "      <th>TechSupport</th>\n",
       "      <th>StreamingTV</th>\n",
       "      <th>StreamingMovies</th>\n",
       "    </tr>\n",
       "    <tr>\n",
       "      <th>customerID</th>\n",
       "      <th></th>\n",
       "      <th></th>\n",
       "      <th></th>\n",
       "      <th></th>\n",
       "      <th></th>\n",
       "      <th></th>\n",
       "      <th></th>\n",
       "      <th></th>\n",
       "      <th></th>\n",
       "      <th></th>\n",
       "      <th></th>\n",
       "      <th></th>\n",
       "      <th></th>\n",
       "      <th></th>\n",
       "      <th></th>\n",
       "      <th></th>\n",
       "      <th></th>\n",
       "      <th></th>\n",
       "      <th></th>\n",
       "    </tr>\n",
       "  </thead>\n",
       "  <tbody>\n",
       "    <tr>\n",
       "      <th>9589-ABEPT</th>\n",
       "      <td>2014-05-01</td>\n",
       "      <td>2020-02-01</td>\n",
       "      <td>Two year</td>\n",
       "      <td>Yes</td>\n",
       "      <td>Mailed check</td>\n",
       "      <td>92</td>\n",
       "      <td>6460</td>\n",
       "      <td>Yes</td>\n",
       "      <td>Male</td>\n",
       "      <td>0</td>\n",
       "      <td>Yes</td>\n",
       "      <td>No</td>\n",
       "      <td>Fiber optic</td>\n",
       "      <td>No</td>\n",
       "      <td>Yes</td>\n",
       "      <td>No</td>\n",
       "      <td>Yes</td>\n",
       "      <td>Yes</td>\n",
       "      <td>No</td>\n",
       "    </tr>\n",
       "    <tr>\n",
       "      <th>8146-QQKZH</th>\n",
       "      <td>2014-03-01</td>\n",
       "      <td>2020-02-01</td>\n",
       "      <td>Two year</td>\n",
       "      <td>No</td>\n",
       "      <td>Bank transfer (automatic)</td>\n",
       "      <td>81</td>\n",
       "      <td>5924</td>\n",
       "      <td>No</td>\n",
       "      <td>Female</td>\n",
       "      <td>0</td>\n",
       "      <td>Yes</td>\n",
       "      <td>No</td>\n",
       "      <td>DSL</td>\n",
       "      <td>Yes</td>\n",
       "      <td>No</td>\n",
       "      <td>Yes</td>\n",
       "      <td>Yes</td>\n",
       "      <td>Yes</td>\n",
       "      <td>Yes</td>\n",
       "    </tr>\n",
       "    <tr>\n",
       "      <th>3537-HPKQT</th>\n",
       "      <td>2015-07-01</td>\n",
       "      <td>2020-02-01</td>\n",
       "      <td>Month-to-month</td>\n",
       "      <td>Yes</td>\n",
       "      <td>Credit card (automatic)</td>\n",
       "      <td>77</td>\n",
       "      <td>4266</td>\n",
       "      <td>Yes</td>\n",
       "      <td>Female</td>\n",
       "      <td>0</td>\n",
       "      <td>Yes</td>\n",
       "      <td>No</td>\n",
       "      <td>Fiber optic</td>\n",
       "      <td>No</td>\n",
       "      <td>Yes</td>\n",
       "      <td>No</td>\n",
       "      <td>No</td>\n",
       "      <td>No</td>\n",
       "      <td>No</td>\n",
       "    </tr>\n",
       "    <tr>\n",
       "      <th>6258-NGCNG</th>\n",
       "      <td>2019-07-01</td>\n",
       "      <td>2020-02-01</td>\n",
       "      <td>Month-to-month</td>\n",
       "      <td>No</td>\n",
       "      <td>Mailed check</td>\n",
       "      <td>23</td>\n",
       "      <td>173</td>\n",
       "      <td>Yes</td>\n",
       "      <td>Male</td>\n",
       "      <td>0</td>\n",
       "      <td>No</td>\n",
       "      <td>No</td>\n",
       "      <td>NaN</td>\n",
       "      <td>NaN</td>\n",
       "      <td>NaN</td>\n",
       "      <td>NaN</td>\n",
       "      <td>NaN</td>\n",
       "      <td>NaN</td>\n",
       "      <td>NaN</td>\n",
       "    </tr>\n",
       "    <tr>\n",
       "      <th>4325-NFSKC</th>\n",
       "      <td>2018-03-01</td>\n",
       "      <td>2019-10-01</td>\n",
       "      <td>Month-to-month</td>\n",
       "      <td>Yes</td>\n",
       "      <td>Electronic check</td>\n",
       "      <td>90</td>\n",
       "      <td>1660</td>\n",
       "      <td>Yes</td>\n",
       "      <td>Male</td>\n",
       "      <td>1</td>\n",
       "      <td>No</td>\n",
       "      <td>No</td>\n",
       "      <td>Fiber optic</td>\n",
       "      <td>Yes</td>\n",
       "      <td>No</td>\n",
       "      <td>No</td>\n",
       "      <td>No</td>\n",
       "      <td>Yes</td>\n",
       "      <td>No</td>\n",
       "    </tr>\n",
       "  </tbody>\n",
       "</table>\n",
       "</div>"
      ],
      "text/plain": [
       "            BeginDate    EndDate            Type PaperlessBilling  \\\n",
       "customerID                                                          \n",
       "9589-ABEPT 2014-05-01 2020-02-01        Two year              Yes   \n",
       "8146-QQKZH 2014-03-01 2020-02-01        Two year               No   \n",
       "3537-HPKQT 2015-07-01 2020-02-01  Month-to-month              Yes   \n",
       "6258-NGCNG 2019-07-01 2020-02-01  Month-to-month               No   \n",
       "4325-NFSKC 2018-03-01 2019-10-01  Month-to-month              Yes   \n",
       "\n",
       "                        PaymentMethod  MonthlyCharges  TotalCharges  \\\n",
       "customerID                                                            \n",
       "9589-ABEPT               Mailed check              92          6460   \n",
       "8146-QQKZH  Bank transfer (automatic)              81          5924   \n",
       "3537-HPKQT    Credit card (automatic)              77          4266   \n",
       "6258-NGCNG               Mailed check              23           173   \n",
       "4325-NFSKC           Electronic check              90          1660   \n",
       "\n",
       "           MultipleLines  gender  SeniorCitizen Partner Dependents  \\\n",
       "customerID                                                           \n",
       "9589-ABEPT           Yes    Male              0     Yes         No   \n",
       "8146-QQKZH            No  Female              0     Yes         No   \n",
       "3537-HPKQT           Yes  Female              0     Yes         No   \n",
       "6258-NGCNG           Yes    Male              0      No         No   \n",
       "4325-NFSKC           Yes    Male              1      No         No   \n",
       "\n",
       "           InternetService OnlineSecurity OnlineBackup DeviceProtection  \\\n",
       "customerID                                                                \n",
       "9589-ABEPT     Fiber optic             No          Yes               No   \n",
       "8146-QQKZH             DSL            Yes           No              Yes   \n",
       "3537-HPKQT     Fiber optic             No          Yes               No   \n",
       "6258-NGCNG             NaN            NaN          NaN              NaN   \n",
       "4325-NFSKC     Fiber optic            Yes           No               No   \n",
       "\n",
       "           TechSupport StreamingTV StreamingMovies  \n",
       "customerID                                          \n",
       "9589-ABEPT         Yes         Yes              No  \n",
       "8146-QQKZH         Yes         Yes             Yes  \n",
       "3537-HPKQT          No          No              No  \n",
       "6258-NGCNG         NaN         NaN             NaN  \n",
       "4325-NFSKC          No         Yes              No  "
      ]
     },
     "metadata": {},
     "output_type": "display_data"
    },
    {
     "name": "stdout",
     "output_type": "stream",
     "text": [
      "----------------------------------------------------------------------------------------------------\n",
      "<class 'pandas.core.frame.DataFrame'>\n",
      "Index: 7043 entries, 7590-VHVEG to 3186-AJIEK\n",
      "Data columns (total 19 columns):\n",
      " #   Column            Non-Null Count  Dtype         \n",
      "---  ------            --------------  -----         \n",
      " 0   BeginDate         7043 non-null   datetime64[ns]\n",
      " 1   EndDate           7043 non-null   datetime64[ns]\n",
      " 2   Type              7043 non-null   object        \n",
      " 3   PaperlessBilling  7043 non-null   object        \n",
      " 4   PaymentMethod     7043 non-null   object        \n",
      " 5   MonthlyCharges    7043 non-null   int32         \n",
      " 6   TotalCharges      7043 non-null   int32         \n",
      " 7   MultipleLines     6361 non-null   object        \n",
      " 8   gender            7043 non-null   object        \n",
      " 9   SeniorCitizen     7043 non-null   int64         \n",
      " 10  Partner           7043 non-null   object        \n",
      " 11  Dependents        7043 non-null   object        \n",
      " 12  InternetService   5517 non-null   object        \n",
      " 13  OnlineSecurity    5517 non-null   object        \n",
      " 14  OnlineBackup      5517 non-null   object        \n",
      " 15  DeviceProtection  5517 non-null   object        \n",
      " 16  TechSupport       5517 non-null   object        \n",
      " 17  StreamingTV       5517 non-null   object        \n",
      " 18  StreamingMovies   5517 non-null   object        \n",
      "dtypes: datetime64[ns](2), int32(2), int64(1), object(14)\n",
      "memory usage: 1.3+ MB\n",
      "----------------------------------------------------------------------------------------------------\n",
      "Пропуски в данных\n"
     ]
    },
    {
     "data": {
      "text/plain": [
       "StreamingMovies     0.216669\n",
       "StreamingTV         0.216669\n",
       "TechSupport         0.216669\n",
       "DeviceProtection    0.216669\n",
       "OnlineBackup        0.216669\n",
       "OnlineSecurity      0.216669\n",
       "InternetService     0.216669\n",
       "MultipleLines       0.096834\n",
       "Partner             0.000000\n",
       "Dependents          0.000000\n",
       "BeginDate           0.000000\n",
       "EndDate             0.000000\n",
       "gender              0.000000\n",
       "TotalCharges        0.000000\n",
       "MonthlyCharges      0.000000\n",
       "PaymentMethod       0.000000\n",
       "PaperlessBilling    0.000000\n",
       "Type                0.000000\n",
       "SeniorCitizen       0.000000\n",
       "dtype: float64"
      ]
     },
     "metadata": {},
     "output_type": "display_data"
    },
    {
     "name": "stdout",
     "output_type": "stream",
     "text": [
      "----------------------------------------------------------------------------------------------------\n",
      "Количество явных дубликатов - 103\n",
      "----------------------------------------------------------------------------------------------------\n"
     ]
    },
    {
     "data": {
      "text/html": [
       "<div>\n",
       "<style scoped>\n",
       "    .dataframe tbody tr th:only-of-type {\n",
       "        vertical-align: middle;\n",
       "    }\n",
       "\n",
       "    .dataframe tbody tr th {\n",
       "        vertical-align: top;\n",
       "    }\n",
       "\n",
       "    .dataframe thead th {\n",
       "        text-align: right;\n",
       "    }\n",
       "</style>\n",
       "<table border=\"1\" class=\"dataframe\">\n",
       "  <thead>\n",
       "    <tr style=\"text-align: right;\">\n",
       "      <th></th>\n",
       "      <th>MonthlyCharges</th>\n",
       "      <th>TotalCharges</th>\n",
       "      <th>SeniorCitizen</th>\n",
       "    </tr>\n",
       "  </thead>\n",
       "  <tbody>\n",
       "    <tr>\n",
       "      <th>count</th>\n",
       "      <td>7043.000000</td>\n",
       "      <td>7043.000000</td>\n",
       "      <td>7043.000000</td>\n",
       "    </tr>\n",
       "    <tr>\n",
       "      <th>mean</th>\n",
       "      <td>64.295897</td>\n",
       "      <td>2279.265086</td>\n",
       "      <td>0.162147</td>\n",
       "    </tr>\n",
       "    <tr>\n",
       "      <th>std</th>\n",
       "      <td>30.092727</td>\n",
       "      <td>2266.790864</td>\n",
       "      <td>0.368612</td>\n",
       "    </tr>\n",
       "    <tr>\n",
       "      <th>min</th>\n",
       "      <td>18.000000</td>\n",
       "      <td>0.000000</td>\n",
       "      <td>0.000000</td>\n",
       "    </tr>\n",
       "    <tr>\n",
       "      <th>25%</th>\n",
       "      <td>35.000000</td>\n",
       "      <td>398.000000</td>\n",
       "      <td>0.000000</td>\n",
       "    </tr>\n",
       "    <tr>\n",
       "      <th>50%</th>\n",
       "      <td>70.000000</td>\n",
       "      <td>1394.000000</td>\n",
       "      <td>0.000000</td>\n",
       "    </tr>\n",
       "    <tr>\n",
       "      <th>75%</th>\n",
       "      <td>89.000000</td>\n",
       "      <td>3786.500000</td>\n",
       "      <td>0.000000</td>\n",
       "    </tr>\n",
       "    <tr>\n",
       "      <th>max</th>\n",
       "      <td>118.000000</td>\n",
       "      <td>8684.000000</td>\n",
       "      <td>1.000000</td>\n",
       "    </tr>\n",
       "  </tbody>\n",
       "</table>\n",
       "</div>"
      ],
      "text/plain": [
       "       MonthlyCharges  TotalCharges  SeniorCitizen\n",
       "count     7043.000000   7043.000000    7043.000000\n",
       "mean        64.295897   2279.265086       0.162147\n",
       "std         30.092727   2266.790864       0.368612\n",
       "min         18.000000      0.000000       0.000000\n",
       "25%         35.000000    398.000000       0.000000\n",
       "50%         70.000000   1394.000000       0.000000\n",
       "75%         89.000000   3786.500000       0.000000\n",
       "max        118.000000   8684.000000       1.000000"
      ]
     },
     "metadata": {},
     "output_type": "display_data"
    },
    {
     "name": "stdout",
     "output_type": "stream",
     "text": [
      "----------------------------------------------------------------------------------------------------\n",
      "----------------------------------------------------------------------------------------------------\n"
     ]
    }
   ],
   "source": [
    "data_preview(df_telecom)"
   ]
  },
  {
   "cell_type": "code",
   "execution_count": 102,
   "id": "ad318d5c",
   "metadata": {},
   "outputs": [],
   "source": [
    "# появились пропуски заполним их \"No\", заменим No и Yes на 0 и 1 соотвественно, потому что со строковыми признаками работать неудобно\n",
    "def coding_for_binary_features(df, column):\n",
    "    df[column].fillna(0, inplace = True) # пропуск соответствует значению \"No\"\n",
    "    df[column] = df[column].replace(['No'], 0)\n",
    "    df[column] = df[column].replace(['Yes'], 1)\n",
    "    return df[column]"
   ]
  },
  {
   "cell_type": "code",
   "execution_count": 103,
   "id": "a7c38962",
   "metadata": {},
   "outputs": [],
   "source": [
    "df_telecom['MultipleLines'] = coding_for_binary_features(df_telecom, 'MultipleLines')\n",
    "df_telecom['InternetService'] = coding_for_binary_features(df_telecom, 'InternetService')\n",
    "df_telecom['OnlineSecurity'] = coding_for_binary_features(df_telecom, 'OnlineSecurity')\n",
    "df_telecom['OnlineBackup'] = coding_for_binary_features(df_telecom, 'OnlineBackup')\n",
    "df_telecom['DeviceProtection'] = coding_for_binary_features(df_telecom, 'DeviceProtection')\n",
    "df_telecom['TechSupport'] = coding_for_binary_features(df_telecom, 'TechSupport')\n",
    "df_telecom['StreamingTV'] = coding_for_binary_features(df_telecom, 'StreamingTV')\n",
    "df_telecom['StreamingMovies'] = coding_for_binary_features(df_telecom, 'StreamingMovies')\n",
    "df_telecom['PaperlessBilling'] = coding_for_binary_features(df_telecom, 'PaperlessBilling')\n",
    "df_telecom['Partner'] = coding_for_binary_features(df_telecom, 'Partner')\n",
    "df_telecom['Dependents'] = coding_for_binary_features(df_telecom, 'Dependents')\n",
    "\n",
    "df_telecom['is_male'] = df_telecom['gender'].replace(['Male'], 1).replace(['Female'], 0)\n",
    "df_telecom['is_DSL_service'] = df_telecom['InternetService'].replace(['DSL'], 1).replace(['Fiber optic'], 0)"
   ]
  },
  {
   "cell_type": "code",
   "execution_count": 104,
   "id": "81cf3d50",
   "metadata": {},
   "outputs": [],
   "source": [
    "# удаляем теперь неактуальные столбцы\n",
    "df_telecom = df_telecom.drop(['gender', 'InternetService'], axis=1)"
   ]
  },
  {
   "cell_type": "code",
   "execution_count": 105,
   "id": "9cc93734",
   "metadata": {},
   "outputs": [
    {
     "data": {
      "text/html": [
       "<div>\n",
       "<style scoped>\n",
       "    .dataframe tbody tr th:only-of-type {\n",
       "        vertical-align: middle;\n",
       "    }\n",
       "\n",
       "    .dataframe tbody tr th {\n",
       "        vertical-align: top;\n",
       "    }\n",
       "\n",
       "    .dataframe thead th {\n",
       "        text-align: right;\n",
       "    }\n",
       "</style>\n",
       "<table border=\"1\" class=\"dataframe\">\n",
       "  <thead>\n",
       "    <tr style=\"text-align: right;\">\n",
       "      <th></th>\n",
       "      <th>BeginDate</th>\n",
       "      <th>EndDate</th>\n",
       "      <th>Type</th>\n",
       "      <th>PaperlessBilling</th>\n",
       "      <th>PaymentMethod</th>\n",
       "      <th>MonthlyCharges</th>\n",
       "      <th>TotalCharges</th>\n",
       "      <th>MultipleLines</th>\n",
       "      <th>SeniorCitizen</th>\n",
       "      <th>Partner</th>\n",
       "      <th>Dependents</th>\n",
       "      <th>OnlineSecurity</th>\n",
       "      <th>OnlineBackup</th>\n",
       "      <th>DeviceProtection</th>\n",
       "      <th>TechSupport</th>\n",
       "      <th>StreamingTV</th>\n",
       "      <th>StreamingMovies</th>\n",
       "      <th>is_male</th>\n",
       "      <th>is_DSL_service</th>\n",
       "    </tr>\n",
       "    <tr>\n",
       "      <th>customerID</th>\n",
       "      <th></th>\n",
       "      <th></th>\n",
       "      <th></th>\n",
       "      <th></th>\n",
       "      <th></th>\n",
       "      <th></th>\n",
       "      <th></th>\n",
       "      <th></th>\n",
       "      <th></th>\n",
       "      <th></th>\n",
       "      <th></th>\n",
       "      <th></th>\n",
       "      <th></th>\n",
       "      <th></th>\n",
       "      <th></th>\n",
       "      <th></th>\n",
       "      <th></th>\n",
       "      <th></th>\n",
       "      <th></th>\n",
       "    </tr>\n",
       "  </thead>\n",
       "  <tbody>\n",
       "    <tr>\n",
       "      <th>3018-TFTSU</th>\n",
       "      <td>2018-10-01</td>\n",
       "      <td>2019-10-01</td>\n",
       "      <td>Month-to-month</td>\n",
       "      <td>0</td>\n",
       "      <td>Bank transfer (automatic)</td>\n",
       "      <td>81</td>\n",
       "      <td>858</td>\n",
       "      <td>0</td>\n",
       "      <td>0</td>\n",
       "      <td>0</td>\n",
       "      <td>0</td>\n",
       "      <td>1</td>\n",
       "      <td>0</td>\n",
       "      <td>1</td>\n",
       "      <td>0</td>\n",
       "      <td>0</td>\n",
       "      <td>0</td>\n",
       "      <td>1</td>\n",
       "      <td>0</td>\n",
       "    </tr>\n",
       "    <tr>\n",
       "      <th>6339-DKLMK</th>\n",
       "      <td>2019-01-01</td>\n",
       "      <td>2020-02-01</td>\n",
       "      <td>Month-to-month</td>\n",
       "      <td>1</td>\n",
       "      <td>Electronic check</td>\n",
       "      <td>31</td>\n",
       "      <td>389</td>\n",
       "      <td>0</td>\n",
       "      <td>0</td>\n",
       "      <td>0</td>\n",
       "      <td>0</td>\n",
       "      <td>0</td>\n",
       "      <td>1</td>\n",
       "      <td>0</td>\n",
       "      <td>0</td>\n",
       "      <td>0</td>\n",
       "      <td>0</td>\n",
       "      <td>0</td>\n",
       "      <td>1</td>\n",
       "    </tr>\n",
       "    <tr>\n",
       "      <th>0980-PVMRC</th>\n",
       "      <td>2016-10-01</td>\n",
       "      <td>2020-02-01</td>\n",
       "      <td>Month-to-month</td>\n",
       "      <td>1</td>\n",
       "      <td>Electronic check</td>\n",
       "      <td>50</td>\n",
       "      <td>2036</td>\n",
       "      <td>0</td>\n",
       "      <td>0</td>\n",
       "      <td>1</td>\n",
       "      <td>1</td>\n",
       "      <td>0</td>\n",
       "      <td>1</td>\n",
       "      <td>0</td>\n",
       "      <td>0</td>\n",
       "      <td>1</td>\n",
       "      <td>1</td>\n",
       "      <td>0</td>\n",
       "      <td>1</td>\n",
       "    </tr>\n",
       "    <tr>\n",
       "      <th>4254-QPEDE</th>\n",
       "      <td>2015-10-01</td>\n",
       "      <td>2020-02-01</td>\n",
       "      <td>Two year</td>\n",
       "      <td>0</td>\n",
       "      <td>Credit card (automatic)</td>\n",
       "      <td>66</td>\n",
       "      <td>3330</td>\n",
       "      <td>0</td>\n",
       "      <td>0</td>\n",
       "      <td>1</td>\n",
       "      <td>0</td>\n",
       "      <td>1</td>\n",
       "      <td>1</td>\n",
       "      <td>1</td>\n",
       "      <td>1</td>\n",
       "      <td>1</td>\n",
       "      <td>1</td>\n",
       "      <td>0</td>\n",
       "      <td>1</td>\n",
       "    </tr>\n",
       "    <tr>\n",
       "      <th>1228-FZFRV</th>\n",
       "      <td>2015-08-01</td>\n",
       "      <td>2019-10-01</td>\n",
       "      <td>Month-to-month</td>\n",
       "      <td>0</td>\n",
       "      <td>Credit card (automatic)</td>\n",
       "      <td>105</td>\n",
       "      <td>5341</td>\n",
       "      <td>1</td>\n",
       "      <td>0</td>\n",
       "      <td>1</td>\n",
       "      <td>1</td>\n",
       "      <td>1</td>\n",
       "      <td>0</td>\n",
       "      <td>1</td>\n",
       "      <td>0</td>\n",
       "      <td>1</td>\n",
       "      <td>1</td>\n",
       "      <td>1</td>\n",
       "      <td>0</td>\n",
       "    </tr>\n",
       "  </tbody>\n",
       "</table>\n",
       "</div>"
      ],
      "text/plain": [
       "            BeginDate    EndDate            Type  PaperlessBilling  \\\n",
       "customerID                                                           \n",
       "3018-TFTSU 2018-10-01 2019-10-01  Month-to-month                 0   \n",
       "6339-DKLMK 2019-01-01 2020-02-01  Month-to-month                 1   \n",
       "0980-PVMRC 2016-10-01 2020-02-01  Month-to-month                 1   \n",
       "4254-QPEDE 2015-10-01 2020-02-01        Two year                 0   \n",
       "1228-FZFRV 2015-08-01 2019-10-01  Month-to-month                 0   \n",
       "\n",
       "                        PaymentMethod  MonthlyCharges  TotalCharges  \\\n",
       "customerID                                                            \n",
       "3018-TFTSU  Bank transfer (automatic)              81           858   \n",
       "6339-DKLMK           Electronic check              31           389   \n",
       "0980-PVMRC           Electronic check              50          2036   \n",
       "4254-QPEDE    Credit card (automatic)              66          3330   \n",
       "1228-FZFRV    Credit card (automatic)             105          5341   \n",
       "\n",
       "            MultipleLines  SeniorCitizen  Partner  Dependents  OnlineSecurity  \\\n",
       "customerID                                                                      \n",
       "3018-TFTSU              0              0        0           0               1   \n",
       "6339-DKLMK              0              0        0           0               0   \n",
       "0980-PVMRC              0              0        1           1               0   \n",
       "4254-QPEDE              0              0        1           0               1   \n",
       "1228-FZFRV              1              0        1           1               1   \n",
       "\n",
       "            OnlineBackup  DeviceProtection  TechSupport  StreamingTV  \\\n",
       "customerID                                                             \n",
       "3018-TFTSU             0                 1            0            0   \n",
       "6339-DKLMK             1                 0            0            0   \n",
       "0980-PVMRC             1                 0            0            1   \n",
       "4254-QPEDE             1                 1            1            1   \n",
       "1228-FZFRV             0                 1            0            1   \n",
       "\n",
       "            StreamingMovies  is_male  is_DSL_service  \n",
       "customerID                                            \n",
       "3018-TFTSU                0        1               0  \n",
       "6339-DKLMK                0        0               1  \n",
       "0980-PVMRC                1        0               1  \n",
       "4254-QPEDE                1        0               1  \n",
       "1228-FZFRV                1        1               0  "
      ]
     },
     "metadata": {},
     "output_type": "display_data"
    },
    {
     "name": "stdout",
     "output_type": "stream",
     "text": [
      "----------------------------------------------------------------------------------------------------\n",
      "<class 'pandas.core.frame.DataFrame'>\n",
      "Index: 7043 entries, 7590-VHVEG to 3186-AJIEK\n",
      "Data columns (total 19 columns):\n",
      " #   Column            Non-Null Count  Dtype         \n",
      "---  ------            --------------  -----         \n",
      " 0   BeginDate         7043 non-null   datetime64[ns]\n",
      " 1   EndDate           7043 non-null   datetime64[ns]\n",
      " 2   Type              7043 non-null   object        \n",
      " 3   PaperlessBilling  7043 non-null   int64         \n",
      " 4   PaymentMethod     7043 non-null   object        \n",
      " 5   MonthlyCharges    7043 non-null   int32         \n",
      " 6   TotalCharges      7043 non-null   int32         \n",
      " 7   MultipleLines     7043 non-null   int64         \n",
      " 8   SeniorCitizen     7043 non-null   int64         \n",
      " 9   Partner           7043 non-null   int64         \n",
      " 10  Dependents        7043 non-null   int64         \n",
      " 11  OnlineSecurity    7043 non-null   int64         \n",
      " 12  OnlineBackup      7043 non-null   int64         \n",
      " 13  DeviceProtection  7043 non-null   int64         \n",
      " 14  TechSupport       7043 non-null   int64         \n",
      " 15  StreamingTV       7043 non-null   int64         \n",
      " 16  StreamingMovies   7043 non-null   int64         \n",
      " 17  is_male           7043 non-null   int64         \n",
      " 18  is_DSL_service    7043 non-null   int64         \n",
      "dtypes: datetime64[ns](2), int32(2), int64(13), object(2)\n",
      "memory usage: 1.3+ MB\n",
      "----------------------------------------------------------------------------------------------------\n",
      "Пропуски в данных\n"
     ]
    },
    {
     "data": {
      "text/plain": [
       "BeginDate           0.0\n",
       "Dependents          0.0\n",
       "is_male             0.0\n",
       "StreamingMovies     0.0\n",
       "StreamingTV         0.0\n",
       "TechSupport         0.0\n",
       "DeviceProtection    0.0\n",
       "OnlineBackup        0.0\n",
       "OnlineSecurity      0.0\n",
       "Partner             0.0\n",
       "EndDate             0.0\n",
       "SeniorCitizen       0.0\n",
       "MultipleLines       0.0\n",
       "TotalCharges        0.0\n",
       "MonthlyCharges      0.0\n",
       "PaymentMethod       0.0\n",
       "PaperlessBilling    0.0\n",
       "Type                0.0\n",
       "is_DSL_service      0.0\n",
       "dtype: float64"
      ]
     },
     "metadata": {},
     "output_type": "display_data"
    },
    {
     "name": "stdout",
     "output_type": "stream",
     "text": [
      "----------------------------------------------------------------------------------------------------\n",
      "Количество явных дубликатов - 103\n",
      "----------------------------------------------------------------------------------------------------\n"
     ]
    },
    {
     "data": {
      "text/html": [
       "<div>\n",
       "<style scoped>\n",
       "    .dataframe tbody tr th:only-of-type {\n",
       "        vertical-align: middle;\n",
       "    }\n",
       "\n",
       "    .dataframe tbody tr th {\n",
       "        vertical-align: top;\n",
       "    }\n",
       "\n",
       "    .dataframe thead th {\n",
       "        text-align: right;\n",
       "    }\n",
       "</style>\n",
       "<table border=\"1\" class=\"dataframe\">\n",
       "  <thead>\n",
       "    <tr style=\"text-align: right;\">\n",
       "      <th></th>\n",
       "      <th>PaperlessBilling</th>\n",
       "      <th>MonthlyCharges</th>\n",
       "      <th>TotalCharges</th>\n",
       "      <th>MultipleLines</th>\n",
       "      <th>SeniorCitizen</th>\n",
       "      <th>Partner</th>\n",
       "      <th>Dependents</th>\n",
       "      <th>OnlineSecurity</th>\n",
       "      <th>OnlineBackup</th>\n",
       "      <th>DeviceProtection</th>\n",
       "      <th>TechSupport</th>\n",
       "      <th>StreamingTV</th>\n",
       "      <th>StreamingMovies</th>\n",
       "      <th>is_male</th>\n",
       "      <th>is_DSL_service</th>\n",
       "    </tr>\n",
       "  </thead>\n",
       "  <tbody>\n",
       "    <tr>\n",
       "      <th>count</th>\n",
       "      <td>7043.000000</td>\n",
       "      <td>7043.000000</td>\n",
       "      <td>7043.000000</td>\n",
       "      <td>7043.000000</td>\n",
       "      <td>7043.000000</td>\n",
       "      <td>7043.000000</td>\n",
       "      <td>7043.000000</td>\n",
       "      <td>7043.000000</td>\n",
       "      <td>7043.000000</td>\n",
       "      <td>7043.000000</td>\n",
       "      <td>7043.000000</td>\n",
       "      <td>7043.000000</td>\n",
       "      <td>7043.000000</td>\n",
       "      <td>7043.000000</td>\n",
       "      <td>7043.000000</td>\n",
       "    </tr>\n",
       "    <tr>\n",
       "      <th>mean</th>\n",
       "      <td>0.592219</td>\n",
       "      <td>64.295897</td>\n",
       "      <td>2279.265086</td>\n",
       "      <td>0.421837</td>\n",
       "      <td>0.162147</td>\n",
       "      <td>0.483033</td>\n",
       "      <td>0.299588</td>\n",
       "      <td>0.286668</td>\n",
       "      <td>0.344881</td>\n",
       "      <td>0.343888</td>\n",
       "      <td>0.290217</td>\n",
       "      <td>0.384353</td>\n",
       "      <td>0.387903</td>\n",
       "      <td>0.504756</td>\n",
       "      <td>0.343746</td>\n",
       "    </tr>\n",
       "    <tr>\n",
       "      <th>std</th>\n",
       "      <td>0.491457</td>\n",
       "      <td>30.092727</td>\n",
       "      <td>2266.790864</td>\n",
       "      <td>0.493888</td>\n",
       "      <td>0.368612</td>\n",
       "      <td>0.499748</td>\n",
       "      <td>0.458110</td>\n",
       "      <td>0.452237</td>\n",
       "      <td>0.475363</td>\n",
       "      <td>0.475038</td>\n",
       "      <td>0.453895</td>\n",
       "      <td>0.486477</td>\n",
       "      <td>0.487307</td>\n",
       "      <td>0.500013</td>\n",
       "      <td>0.474991</td>\n",
       "    </tr>\n",
       "    <tr>\n",
       "      <th>min</th>\n",
       "      <td>0.000000</td>\n",
       "      <td>18.000000</td>\n",
       "      <td>0.000000</td>\n",
       "      <td>0.000000</td>\n",
       "      <td>0.000000</td>\n",
       "      <td>0.000000</td>\n",
       "      <td>0.000000</td>\n",
       "      <td>0.000000</td>\n",
       "      <td>0.000000</td>\n",
       "      <td>0.000000</td>\n",
       "      <td>0.000000</td>\n",
       "      <td>0.000000</td>\n",
       "      <td>0.000000</td>\n",
       "      <td>0.000000</td>\n",
       "      <td>0.000000</td>\n",
       "    </tr>\n",
       "    <tr>\n",
       "      <th>25%</th>\n",
       "      <td>0.000000</td>\n",
       "      <td>35.000000</td>\n",
       "      <td>398.000000</td>\n",
       "      <td>0.000000</td>\n",
       "      <td>0.000000</td>\n",
       "      <td>0.000000</td>\n",
       "      <td>0.000000</td>\n",
       "      <td>0.000000</td>\n",
       "      <td>0.000000</td>\n",
       "      <td>0.000000</td>\n",
       "      <td>0.000000</td>\n",
       "      <td>0.000000</td>\n",
       "      <td>0.000000</td>\n",
       "      <td>0.000000</td>\n",
       "      <td>0.000000</td>\n",
       "    </tr>\n",
       "    <tr>\n",
       "      <th>50%</th>\n",
       "      <td>1.000000</td>\n",
       "      <td>70.000000</td>\n",
       "      <td>1394.000000</td>\n",
       "      <td>0.000000</td>\n",
       "      <td>0.000000</td>\n",
       "      <td>0.000000</td>\n",
       "      <td>0.000000</td>\n",
       "      <td>0.000000</td>\n",
       "      <td>0.000000</td>\n",
       "      <td>0.000000</td>\n",
       "      <td>0.000000</td>\n",
       "      <td>0.000000</td>\n",
       "      <td>0.000000</td>\n",
       "      <td>1.000000</td>\n",
       "      <td>0.000000</td>\n",
       "    </tr>\n",
       "    <tr>\n",
       "      <th>75%</th>\n",
       "      <td>1.000000</td>\n",
       "      <td>89.000000</td>\n",
       "      <td>3786.500000</td>\n",
       "      <td>1.000000</td>\n",
       "      <td>0.000000</td>\n",
       "      <td>1.000000</td>\n",
       "      <td>1.000000</td>\n",
       "      <td>1.000000</td>\n",
       "      <td>1.000000</td>\n",
       "      <td>1.000000</td>\n",
       "      <td>1.000000</td>\n",
       "      <td>1.000000</td>\n",
       "      <td>1.000000</td>\n",
       "      <td>1.000000</td>\n",
       "      <td>1.000000</td>\n",
       "    </tr>\n",
       "    <tr>\n",
       "      <th>max</th>\n",
       "      <td>1.000000</td>\n",
       "      <td>118.000000</td>\n",
       "      <td>8684.000000</td>\n",
       "      <td>1.000000</td>\n",
       "      <td>1.000000</td>\n",
       "      <td>1.000000</td>\n",
       "      <td>1.000000</td>\n",
       "      <td>1.000000</td>\n",
       "      <td>1.000000</td>\n",
       "      <td>1.000000</td>\n",
       "      <td>1.000000</td>\n",
       "      <td>1.000000</td>\n",
       "      <td>1.000000</td>\n",
       "      <td>1.000000</td>\n",
       "      <td>1.000000</td>\n",
       "    </tr>\n",
       "  </tbody>\n",
       "</table>\n",
       "</div>"
      ],
      "text/plain": [
       "       PaperlessBilling  MonthlyCharges  TotalCharges  MultipleLines  \\\n",
       "count       7043.000000     7043.000000   7043.000000    7043.000000   \n",
       "mean           0.592219       64.295897   2279.265086       0.421837   \n",
       "std            0.491457       30.092727   2266.790864       0.493888   \n",
       "min            0.000000       18.000000      0.000000       0.000000   \n",
       "25%            0.000000       35.000000    398.000000       0.000000   \n",
       "50%            1.000000       70.000000   1394.000000       0.000000   \n",
       "75%            1.000000       89.000000   3786.500000       1.000000   \n",
       "max            1.000000      118.000000   8684.000000       1.000000   \n",
       "\n",
       "       SeniorCitizen      Partner   Dependents  OnlineSecurity  OnlineBackup  \\\n",
       "count    7043.000000  7043.000000  7043.000000     7043.000000   7043.000000   \n",
       "mean        0.162147     0.483033     0.299588        0.286668      0.344881   \n",
       "std         0.368612     0.499748     0.458110        0.452237      0.475363   \n",
       "min         0.000000     0.000000     0.000000        0.000000      0.000000   \n",
       "25%         0.000000     0.000000     0.000000        0.000000      0.000000   \n",
       "50%         0.000000     0.000000     0.000000        0.000000      0.000000   \n",
       "75%         0.000000     1.000000     1.000000        1.000000      1.000000   \n",
       "max         1.000000     1.000000     1.000000        1.000000      1.000000   \n",
       "\n",
       "       DeviceProtection  TechSupport  StreamingTV  StreamingMovies  \\\n",
       "count       7043.000000  7043.000000  7043.000000      7043.000000   \n",
       "mean           0.343888     0.290217     0.384353         0.387903   \n",
       "std            0.475038     0.453895     0.486477         0.487307   \n",
       "min            0.000000     0.000000     0.000000         0.000000   \n",
       "25%            0.000000     0.000000     0.000000         0.000000   \n",
       "50%            0.000000     0.000000     0.000000         0.000000   \n",
       "75%            1.000000     1.000000     1.000000         1.000000   \n",
       "max            1.000000     1.000000     1.000000         1.000000   \n",
       "\n",
       "           is_male  is_DSL_service  \n",
       "count  7043.000000     7043.000000  \n",
       "mean      0.504756        0.343746  \n",
       "std       0.500013        0.474991  \n",
       "min       0.000000        0.000000  \n",
       "25%       0.000000        0.000000  \n",
       "50%       1.000000        0.000000  \n",
       "75%       1.000000        1.000000  \n",
       "max       1.000000        1.000000  "
      ]
     },
     "metadata": {},
     "output_type": "display_data"
    },
    {
     "name": "stdout",
     "output_type": "stream",
     "text": [
      "----------------------------------------------------------------------------------------------------\n",
      "----------------------------------------------------------------------------------------------------\n"
     ]
    }
   ],
   "source": [
    "data_preview(df_telecom)"
   ]
  },
  {
   "cell_type": "code",
   "execution_count": 106,
   "id": "af65f2e9",
   "metadata": {},
   "outputs": [
    {
     "data": {
      "image/png": "[encoded data removed]",
      "text/plain": [
       "<Figure size 1440x576 with 1 Axes>"
      ]
     },
     "metadata": {
      "needs_background": "light"
     },
     "output_type": "display_data"
    }
   ],
   "source": [
    "plt.figure(figsize = (20,8))\n",
    "sns.histplot(df_telecom['MonthlyCharges'])\n",
    "plt.title('Распределение значений месячных трат (MonthlyCharges)')\n",
    "plt.xlabel('Месячные траты')\n",
    "plt.ylabel('Частота появления в датасете');\n",
    "plt.show()"
   ]
  },
  {
   "cell_type": "markdown",
   "id": "5160e155",
   "metadata": {},
   "source": [
    "Проведем группировку"
   ]
  },
  {
   "cell_type": "code",
   "execution_count": 107,
   "id": "d8fe6f9d",
   "metadata": {},
   "outputs": [],
   "source": [
    "df_telecom['MonthlyChargesGroup'] = pd.qcut(df_telecom['MonthlyCharges'], 3, labels=[0, 1, 2])"
   ]
  },
  {
   "cell_type": "code",
   "execution_count": 108,
   "id": "3848ddbd",
   "metadata": {},
   "outputs": [
    {
     "data": {
      "text/plain": [
       "0    0.342326\n",
       "2    0.333097\n",
       "1    0.324578\n",
       "Name: MonthlyChargesGroup, dtype: float64"
      ]
     },
     "execution_count": 108,
     "metadata": {},
     "output_type": "execute_result"
    }
   ],
   "source": [
    "df_telecom['MonthlyChargesGroup'].value_counts(normalize=True)"
   ]
  },
  {
   "cell_type": "markdown",
   "id": "b9dff04a",
   "metadata": {},
   "source": [
    "Выделяем клиентов по целевому признаку"
   ]
  },
  {
   "cell_type": "code",
   "execution_count": 109,
   "id": "75cc48ca",
   "metadata": {},
   "outputs": [],
   "source": [
    "df_telecom['escape_client'] = (df_telecom['EndDate'] != \"2020-02-01\") * 1"
   ]
  },
  {
   "cell_type": "code",
   "execution_count": 110,
   "id": "1cc27129",
   "metadata": {},
   "outputs": [
    {
     "data": {
      "text/plain": [
       "0    0.73463\n",
       "1    0.26537\n",
       "Name: escape_client, dtype: float64"
      ]
     },
     "execution_count": 110,
     "metadata": {},
     "output_type": "execute_result"
    }
   ],
   "source": [
    "df_telecom['escape_client'].value_counts(normalize=True)\n"
   ]
  },
  {
   "cell_type": "code",
   "execution_count": 111,
   "id": "bdd4a8a9",
   "metadata": {},
   "outputs": [],
   "source": [
    "df_group_0 = df_telecom.query('MonthlyChargesGroup == 0')\n",
    "df_group_1 = df_telecom.query('MonthlyChargesGroup == 1')\n",
    "df_group_2 = df_telecom.query('MonthlyChargesGroup == 2')"
   ]
  },
  {
   "cell_type": "code",
   "execution_count": 112,
   "id": "8df92775",
   "metadata": {},
   "outputs": [],
   "source": [
    "stats_pivot_on_groups = pd.DataFrame()\n",
    "stats_pivot_on_groups['group_0'] = df_group_0.describe().T['mean']\n",
    "stats_pivot_on_groups['group_1'] = df_group_1.describe().T['mean']\n",
    "stats_pivot_on_groups['group_2'] = df_group_2.describe().T['mean']"
   ]
  },
  {
   "cell_type": "code",
   "execution_count": 113,
   "id": "2f0e5e50",
   "metadata": {},
   "outputs": [
    {
     "data": {
      "text/html": [
       "<div>\n",
       "<style scoped>\n",
       "    .dataframe tbody tr th:only-of-type {\n",
       "        vertical-align: middle;\n",
       "    }\n",
       "\n",
       "    .dataframe tbody tr th {\n",
       "        vertical-align: top;\n",
       "    }\n",
       "\n",
       "    .dataframe thead th {\n",
       "        text-align: right;\n",
       "    }\n",
       "</style>\n",
       "<table border=\"1\" class=\"dataframe\">\n",
       "  <thead>\n",
       "    <tr style=\"text-align: right;\">\n",
       "      <th></th>\n",
       "      <th>group_0</th>\n",
       "      <th>group_1</th>\n",
       "      <th>group_2</th>\n",
       "    </tr>\n",
       "  </thead>\n",
       "  <tbody>\n",
       "    <tr>\n",
       "      <th>PaperlessBilling</th>\n",
       "      <td>0.388221</td>\n",
       "      <td>0.628609</td>\n",
       "      <td>0.766411</td>\n",
       "    </tr>\n",
       "    <tr>\n",
       "      <th>MonthlyCharges</th>\n",
       "      <td>28.085856</td>\n",
       "      <td>69.052056</td>\n",
       "      <td>96.874680</td>\n",
       "    </tr>\n",
       "    <tr>\n",
       "      <th>TotalCharges</th>\n",
       "      <td>721.800912</td>\n",
       "      <td>1979.614173</td>\n",
       "      <td>4171.868713</td>\n",
       "    </tr>\n",
       "    <tr>\n",
       "      <th>MultipleLines</th>\n",
       "      <td>0.156781</td>\n",
       "      <td>0.371391</td>\n",
       "      <td>0.743393</td>\n",
       "    </tr>\n",
       "    <tr>\n",
       "      <th>SeniorCitizen</th>\n",
       "      <td>0.070095</td>\n",
       "      <td>0.163605</td>\n",
       "      <td>0.255328</td>\n",
       "    </tr>\n",
       "    <tr>\n",
       "      <th>Partner</th>\n",
       "      <td>0.431771</td>\n",
       "      <td>0.451444</td>\n",
       "      <td>0.566496</td>\n",
       "    </tr>\n",
       "    <tr>\n",
       "      <th>Dependents</th>\n",
       "      <td>0.359187</td>\n",
       "      <td>0.281277</td>\n",
       "      <td>0.256181</td>\n",
       "    </tr>\n",
       "    <tr>\n",
       "      <th>OnlineSecurity</th>\n",
       "      <td>0.098714</td>\n",
       "      <td>0.388889</td>\n",
       "      <td>0.380222</td>\n",
       "    </tr>\n",
       "    <tr>\n",
       "      <th>OnlineBackup</th>\n",
       "      <td>0.090419</td>\n",
       "      <td>0.391076</td>\n",
       "      <td>0.561381</td>\n",
       "    </tr>\n",
       "    <tr>\n",
       "      <th>DeviceProtection</th>\n",
       "      <td>0.081294</td>\n",
       "      <td>0.362205</td>\n",
       "      <td>0.595908</td>\n",
       "    </tr>\n",
       "    <tr>\n",
       "      <th>TechSupport</th>\n",
       "      <td>0.088760</td>\n",
       "      <td>0.373141</td>\n",
       "      <td>0.416454</td>\n",
       "    </tr>\n",
       "    <tr>\n",
       "      <th>StreamingTV</th>\n",
       "      <td>0.057652</td>\n",
       "      <td>0.317585</td>\n",
       "      <td>0.785166</td>\n",
       "    </tr>\n",
       "    <tr>\n",
       "      <th>StreamingMovies</th>\n",
       "      <td>0.063459</td>\n",
       "      <td>0.319773</td>\n",
       "      <td>0.787724</td>\n",
       "    </tr>\n",
       "    <tr>\n",
       "      <th>is_male</th>\n",
       "      <td>0.516383</td>\n",
       "      <td>0.496063</td>\n",
       "      <td>0.501279</td>\n",
       "    </tr>\n",
       "    <tr>\n",
       "      <th>is_DSL_service</th>\n",
       "      <td>0.367068</td>\n",
       "      <td>0.594488</td>\n",
       "      <td>0.075448</td>\n",
       "    </tr>\n",
       "    <tr>\n",
       "      <th>escape_client</th>\n",
       "      <td>0.163832</td>\n",
       "      <td>0.295276</td>\n",
       "      <td>0.340580</td>\n",
       "    </tr>\n",
       "  </tbody>\n",
       "</table>\n",
       "</div>"
      ],
      "text/plain": [
       "                     group_0      group_1      group_2\n",
       "PaperlessBilling    0.388221     0.628609     0.766411\n",
       "MonthlyCharges     28.085856    69.052056    96.874680\n",
       "TotalCharges      721.800912  1979.614173  4171.868713\n",
       "MultipleLines       0.156781     0.371391     0.743393\n",
       "SeniorCitizen       0.070095     0.163605     0.255328\n",
       "Partner             0.431771     0.451444     0.566496\n",
       "Dependents          0.359187     0.281277     0.256181\n",
       "OnlineSecurity      0.098714     0.388889     0.380222\n",
       "OnlineBackup        0.090419     0.391076     0.561381\n",
       "DeviceProtection    0.081294     0.362205     0.595908\n",
       "TechSupport         0.088760     0.373141     0.416454\n",
       "StreamingTV         0.057652     0.317585     0.785166\n",
       "StreamingMovies     0.063459     0.319773     0.787724\n",
       "is_male             0.516383     0.496063     0.501279\n",
       "is_DSL_service      0.367068     0.594488     0.075448\n",
       "escape_client       0.163832     0.295276     0.340580"
      ]
     },
     "execution_count": 113,
     "metadata": {},
     "output_type": "execute_result"
    }
   ],
   "source": [
    "stats_pivot_on_groups"
   ]
  },
  {
   "cell_type": "code",
   "execution_count": 114,
   "id": "6860e44a",
   "metadata": {},
   "outputs": [
    {
     "data": {
      "image/png": "[encoded data removed]",
      "text/plain": [
       "<Figure size 1440x576 with 1 Axes>"
      ]
     },
     "metadata": {
      "needs_background": "light"
     },
     "output_type": "display_data"
    }
   ],
   "source": [
    "plt.figure(figsize = (20,8))\n",
    "sns.histplot(df_telecom['TotalCharges'])\n",
    "plt.title('Распределение значений суммарных трат (TotalCharges)')\n",
    "plt.xlabel('Суммарные траты')\n",
    "plt.ylabel('Частота появления в датасете');"
   ]
  },
  {
   "cell_type": "code",
   "execution_count": 115,
   "id": "f46d7773",
   "metadata": {},
   "outputs": [
    {
     "data": {
      "text/html": [
       "<div>\n",
       "<style scoped>\n",
       "    .dataframe tbody tr th:only-of-type {\n",
       "        vertical-align: middle;\n",
       "    }\n",
       "\n",
       "    .dataframe tbody tr th {\n",
       "        vertical-align: top;\n",
       "    }\n",
       "\n",
       "    .dataframe thead th {\n",
       "        text-align: right;\n",
       "    }\n",
       "</style>\n",
       "<table border=\"1\" class=\"dataframe\">\n",
       "  <thead>\n",
       "    <tr style=\"text-align: right;\">\n",
       "      <th></th>\n",
       "      <th>BeginDate</th>\n",
       "      <th>EndDate</th>\n",
       "      <th>Type</th>\n",
       "      <th>PaperlessBilling</th>\n",
       "      <th>PaymentMethod</th>\n",
       "      <th>MonthlyCharges</th>\n",
       "      <th>TotalCharges</th>\n",
       "      <th>MultipleLines</th>\n",
       "      <th>SeniorCitizen</th>\n",
       "      <th>Partner</th>\n",
       "      <th>...</th>\n",
       "      <th>OnlineSecurity</th>\n",
       "      <th>OnlineBackup</th>\n",
       "      <th>DeviceProtection</th>\n",
       "      <th>TechSupport</th>\n",
       "      <th>StreamingTV</th>\n",
       "      <th>StreamingMovies</th>\n",
       "      <th>is_male</th>\n",
       "      <th>is_DSL_service</th>\n",
       "      <th>MonthlyChargesGroup</th>\n",
       "      <th>escape_client</th>\n",
       "    </tr>\n",
       "    <tr>\n",
       "      <th>customerID</th>\n",
       "      <th></th>\n",
       "      <th></th>\n",
       "      <th></th>\n",
       "      <th></th>\n",
       "      <th></th>\n",
       "      <th></th>\n",
       "      <th></th>\n",
       "      <th></th>\n",
       "      <th></th>\n",
       "      <th></th>\n",
       "      <th></th>\n",
       "      <th></th>\n",
       "      <th></th>\n",
       "      <th></th>\n",
       "      <th></th>\n",
       "      <th></th>\n",
       "      <th></th>\n",
       "      <th></th>\n",
       "      <th></th>\n",
       "      <th></th>\n",
       "      <th></th>\n",
       "    </tr>\n",
       "  </thead>\n",
       "  <tbody>\n",
       "    <tr>\n",
       "      <th>4472-LVYGI</th>\n",
       "      <td>2020-02-01</td>\n",
       "      <td>2020-02-01</td>\n",
       "      <td>Two year</td>\n",
       "      <td>1</td>\n",
       "      <td>Bank transfer (automatic)</td>\n",
       "      <td>52</td>\n",
       "      <td>0</td>\n",
       "      <td>0</td>\n",
       "      <td>0</td>\n",
       "      <td>1</td>\n",
       "      <td>...</td>\n",
       "      <td>1</td>\n",
       "      <td>0</td>\n",
       "      <td>1</td>\n",
       "      <td>1</td>\n",
       "      <td>1</td>\n",
       "      <td>0</td>\n",
       "      <td>0</td>\n",
       "      <td>1</td>\n",
       "      <td>1</td>\n",
       "      <td>0</td>\n",
       "    </tr>\n",
       "    <tr>\n",
       "      <th>3115-CZMZD</th>\n",
       "      <td>2020-02-01</td>\n",
       "      <td>2020-02-01</td>\n",
       "      <td>Two year</td>\n",
       "      <td>0</td>\n",
       "      <td>Mailed check</td>\n",
       "      <td>20</td>\n",
       "      <td>0</td>\n",
       "      <td>0</td>\n",
       "      <td>0</td>\n",
       "      <td>0</td>\n",
       "      <td>...</td>\n",
       "      <td>0</td>\n",
       "      <td>0</td>\n",
       "      <td>0</td>\n",
       "      <td>0</td>\n",
       "      <td>0</td>\n",
       "      <td>0</td>\n",
       "      <td>1</td>\n",
       "      <td>0</td>\n",
       "      <td>0</td>\n",
       "      <td>0</td>\n",
       "    </tr>\n",
       "    <tr>\n",
       "      <th>5709-LVOEQ</th>\n",
       "      <td>2020-02-01</td>\n",
       "      <td>2020-02-01</td>\n",
       "      <td>Two year</td>\n",
       "      <td>0</td>\n",
       "      <td>Mailed check</td>\n",
       "      <td>80</td>\n",
       "      <td>0</td>\n",
       "      <td>0</td>\n",
       "      <td>0</td>\n",
       "      <td>1</td>\n",
       "      <td>...</td>\n",
       "      <td>1</td>\n",
       "      <td>1</td>\n",
       "      <td>1</td>\n",
       "      <td>0</td>\n",
       "      <td>1</td>\n",
       "      <td>1</td>\n",
       "      <td>0</td>\n",
       "      <td>1</td>\n",
       "      <td>1</td>\n",
       "      <td>0</td>\n",
       "    </tr>\n",
       "    <tr>\n",
       "      <th>4367-NUYAO</th>\n",
       "      <td>2020-02-01</td>\n",
       "      <td>2020-02-01</td>\n",
       "      <td>Two year</td>\n",
       "      <td>0</td>\n",
       "      <td>Mailed check</td>\n",
       "      <td>25</td>\n",
       "      <td>0</td>\n",
       "      <td>1</td>\n",
       "      <td>0</td>\n",
       "      <td>1</td>\n",
       "      <td>...</td>\n",
       "      <td>0</td>\n",
       "      <td>0</td>\n",
       "      <td>0</td>\n",
       "      <td>0</td>\n",
       "      <td>0</td>\n",
       "      <td>0</td>\n",
       "      <td>1</td>\n",
       "      <td>0</td>\n",
       "      <td>0</td>\n",
       "      <td>0</td>\n",
       "    </tr>\n",
       "    <tr>\n",
       "      <th>1371-DWPAZ</th>\n",
       "      <td>2020-02-01</td>\n",
       "      <td>2020-02-01</td>\n",
       "      <td>Two year</td>\n",
       "      <td>0</td>\n",
       "      <td>Credit card (automatic)</td>\n",
       "      <td>56</td>\n",
       "      <td>0</td>\n",
       "      <td>0</td>\n",
       "      <td>0</td>\n",
       "      <td>1</td>\n",
       "      <td>...</td>\n",
       "      <td>1</td>\n",
       "      <td>1</td>\n",
       "      <td>1</td>\n",
       "      <td>1</td>\n",
       "      <td>1</td>\n",
       "      <td>0</td>\n",
       "      <td>0</td>\n",
       "      <td>1</td>\n",
       "      <td>1</td>\n",
       "      <td>0</td>\n",
       "    </tr>\n",
       "    <tr>\n",
       "      <th>7644-OMVMY</th>\n",
       "      <td>2020-02-01</td>\n",
       "      <td>2020-02-01</td>\n",
       "      <td>Two year</td>\n",
       "      <td>0</td>\n",
       "      <td>Mailed check</td>\n",
       "      <td>19</td>\n",
       "      <td>0</td>\n",
       "      <td>0</td>\n",
       "      <td>0</td>\n",
       "      <td>1</td>\n",
       "      <td>...</td>\n",
       "      <td>0</td>\n",
       "      <td>0</td>\n",
       "      <td>0</td>\n",
       "      <td>0</td>\n",
       "      <td>0</td>\n",
       "      <td>0</td>\n",
       "      <td>1</td>\n",
       "      <td>0</td>\n",
       "      <td>0</td>\n",
       "      <td>0</td>\n",
       "    </tr>\n",
       "    <tr>\n",
       "      <th>3213-VVOLG</th>\n",
       "      <td>2020-02-01</td>\n",
       "      <td>2020-02-01</td>\n",
       "      <td>Two year</td>\n",
       "      <td>0</td>\n",
       "      <td>Mailed check</td>\n",
       "      <td>25</td>\n",
       "      <td>0</td>\n",
       "      <td>1</td>\n",
       "      <td>0</td>\n",
       "      <td>1</td>\n",
       "      <td>...</td>\n",
       "      <td>0</td>\n",
       "      <td>0</td>\n",
       "      <td>0</td>\n",
       "      <td>0</td>\n",
       "      <td>0</td>\n",
       "      <td>0</td>\n",
       "      <td>1</td>\n",
       "      <td>0</td>\n",
       "      <td>0</td>\n",
       "      <td>0</td>\n",
       "    </tr>\n",
       "    <tr>\n",
       "      <th>2520-SGTTA</th>\n",
       "      <td>2020-02-01</td>\n",
       "      <td>2020-02-01</td>\n",
       "      <td>Two year</td>\n",
       "      <td>0</td>\n",
       "      <td>Mailed check</td>\n",
       "      <td>20</td>\n",
       "      <td>0</td>\n",
       "      <td>0</td>\n",
       "      <td>0</td>\n",
       "      <td>1</td>\n",
       "      <td>...</td>\n",
       "      <td>0</td>\n",
       "      <td>0</td>\n",
       "      <td>0</td>\n",
       "      <td>0</td>\n",
       "      <td>0</td>\n",
       "      <td>0</td>\n",
       "      <td>0</td>\n",
       "      <td>0</td>\n",
       "      <td>0</td>\n",
       "      <td>0</td>\n",
       "    </tr>\n",
       "    <tr>\n",
       "      <th>2923-ARZLG</th>\n",
       "      <td>2020-02-01</td>\n",
       "      <td>2020-02-01</td>\n",
       "      <td>One year</td>\n",
       "      <td>1</td>\n",
       "      <td>Mailed check</td>\n",
       "      <td>19</td>\n",
       "      <td>0</td>\n",
       "      <td>0</td>\n",
       "      <td>0</td>\n",
       "      <td>1</td>\n",
       "      <td>...</td>\n",
       "      <td>0</td>\n",
       "      <td>0</td>\n",
       "      <td>0</td>\n",
       "      <td>0</td>\n",
       "      <td>0</td>\n",
       "      <td>0</td>\n",
       "      <td>1</td>\n",
       "      <td>0</td>\n",
       "      <td>0</td>\n",
       "      <td>0</td>\n",
       "    </tr>\n",
       "    <tr>\n",
       "      <th>4075-WKNIU</th>\n",
       "      <td>2020-02-01</td>\n",
       "      <td>2020-02-01</td>\n",
       "      <td>Two year</td>\n",
       "      <td>0</td>\n",
       "      <td>Mailed check</td>\n",
       "      <td>73</td>\n",
       "      <td>0</td>\n",
       "      <td>1</td>\n",
       "      <td>0</td>\n",
       "      <td>1</td>\n",
       "      <td>...</td>\n",
       "      <td>0</td>\n",
       "      <td>1</td>\n",
       "      <td>1</td>\n",
       "      <td>1</td>\n",
       "      <td>1</td>\n",
       "      <td>0</td>\n",
       "      <td>0</td>\n",
       "      <td>1</td>\n",
       "      <td>1</td>\n",
       "      <td>0</td>\n",
       "    </tr>\n",
       "    <tr>\n",
       "      <th>2775-SEFEE</th>\n",
       "      <td>2020-02-01</td>\n",
       "      <td>2020-02-01</td>\n",
       "      <td>Two year</td>\n",
       "      <td>1</td>\n",
       "      <td>Bank transfer (automatic)</td>\n",
       "      <td>61</td>\n",
       "      <td>0</td>\n",
       "      <td>1</td>\n",
       "      <td>0</td>\n",
       "      <td>0</td>\n",
       "      <td>...</td>\n",
       "      <td>1</td>\n",
       "      <td>1</td>\n",
       "      <td>0</td>\n",
       "      <td>1</td>\n",
       "      <td>0</td>\n",
       "      <td>0</td>\n",
       "      <td>1</td>\n",
       "      <td>1</td>\n",
       "      <td>1</td>\n",
       "      <td>0</td>\n",
       "    </tr>\n",
       "  </tbody>\n",
       "</table>\n",
       "<p>11 rows × 21 columns</p>\n",
       "</div>"
      ],
      "text/plain": [
       "            BeginDate    EndDate      Type  PaperlessBilling  \\\n",
       "customerID                                                     \n",
       "4472-LVYGI 2020-02-01 2020-02-01  Two year                 1   \n",
       "3115-CZMZD 2020-02-01 2020-02-01  Two year                 0   \n",
       "5709-LVOEQ 2020-02-01 2020-02-01  Two year                 0   \n",
       "4367-NUYAO 2020-02-01 2020-02-01  Two year                 0   \n",
       "1371-DWPAZ 2020-02-01 2020-02-01  Two year                 0   \n",
       "7644-OMVMY 2020-02-01 2020-02-01  Two year                 0   \n",
       "3213-VVOLG 2020-02-01 2020-02-01  Two year                 0   \n",
       "2520-SGTTA 2020-02-01 2020-02-01  Two year                 0   \n",
       "2923-ARZLG 2020-02-01 2020-02-01  One year                 1   \n",
       "4075-WKNIU 2020-02-01 2020-02-01  Two year                 0   \n",
       "2775-SEFEE 2020-02-01 2020-02-01  Two year                 1   \n",
       "\n",
       "                        PaymentMethod  MonthlyCharges  TotalCharges  \\\n",
       "customerID                                                            \n",
       "4472-LVYGI  Bank transfer (automatic)              52             0   \n",
       "3115-CZMZD               Mailed check              20             0   \n",
       "5709-LVOEQ               Mailed check              80             0   \n",
       "4367-NUYAO               Mailed check              25             0   \n",
       "1371-DWPAZ    Credit card (automatic)              56             0   \n",
       "7644-OMVMY               Mailed check              19             0   \n",
       "3213-VVOLG               Mailed check              25             0   \n",
       "2520-SGTTA               Mailed check              20             0   \n",
       "2923-ARZLG               Mailed check              19             0   \n",
       "4075-WKNIU               Mailed check              73             0   \n",
       "2775-SEFEE  Bank transfer (automatic)              61             0   \n",
       "\n",
       "            MultipleLines  SeniorCitizen  Partner  ...  OnlineSecurity  \\\n",
       "customerID                                         ...                   \n",
       "4472-LVYGI              0              0        1  ...               1   \n",
       "3115-CZMZD              0              0        0  ...               0   \n",
       "5709-LVOEQ              0              0        1  ...               1   \n",
       "4367-NUYAO              1              0        1  ...               0   \n",
       "1371-DWPAZ              0              0        1  ...               1   \n",
       "7644-OMVMY              0              0        1  ...               0   \n",
       "3213-VVOLG              1              0        1  ...               0   \n",
       "2520-SGTTA              0              0        1  ...               0   \n",
       "2923-ARZLG              0              0        1  ...               0   \n",
       "4075-WKNIU              1              0        1  ...               0   \n",
       "2775-SEFEE              1              0        0  ...               1   \n",
       "\n",
       "            OnlineBackup  DeviceProtection  TechSupport  StreamingTV  \\\n",
       "customerID                                                             \n",
       "4472-LVYGI             0                 1            1            1   \n",
       "3115-CZMZD             0                 0            0            0   \n",
       "5709-LVOEQ             1                 1            0            1   \n",
       "4367-NUYAO             0                 0            0            0   \n",
       "1371-DWPAZ             1                 1            1            1   \n",
       "7644-OMVMY             0                 0            0            0   \n",
       "3213-VVOLG             0                 0            0            0   \n",
       "2520-SGTTA             0                 0            0            0   \n",
       "2923-ARZLG             0                 0            0            0   \n",
       "4075-WKNIU             1                 1            1            1   \n",
       "2775-SEFEE             1                 0            1            0   \n",
       "\n",
       "            StreamingMovies  is_male  is_DSL_service  MonthlyChargesGroup  \\\n",
       "customerID                                                                  \n",
       "4472-LVYGI                0        0               1                    1   \n",
       "3115-CZMZD                0        1               0                    0   \n",
       "5709-LVOEQ                1        0               1                    1   \n",
       "4367-NUYAO                0        1               0                    0   \n",
       "1371-DWPAZ                0        0               1                    1   \n",
       "7644-OMVMY                0        1               0                    0   \n",
       "3213-VVOLG                0        1               0                    0   \n",
       "2520-SGTTA                0        0               0                    0   \n",
       "2923-ARZLG                0        1               0                    0   \n",
       "4075-WKNIU                0        0               1                    1   \n",
       "2775-SEFEE                0        1               1                    1   \n",
       "\n",
       "           escape_client  \n",
       "customerID                \n",
       "4472-LVYGI             0  \n",
       "3115-CZMZD             0  \n",
       "5709-LVOEQ             0  \n",
       "4367-NUYAO             0  \n",
       "1371-DWPAZ             0  \n",
       "7644-OMVMY             0  \n",
       "3213-VVOLG             0  \n",
       "2520-SGTTA             0  \n",
       "2923-ARZLG             0  \n",
       "4075-WKNIU             0  \n",
       "2775-SEFEE             0  \n",
       "\n",
       "[11 rows x 21 columns]"
      ]
     },
     "execution_count": 115,
     "metadata": {},
     "output_type": "execute_result"
    }
   ],
   "source": [
    "df_telecom.query('TotalCharges == 0')"
   ]
  },
  {
   "cell_type": "markdown",
   "id": "365047e1",
   "metadata": {},
   "source": [
    "Это клиенты, начавшие пользоваться услугами в феврале 2020 года, в этом случае суммарные траты равны месячным"
   ]
  },
  {
   "cell_type": "code",
   "execution_count": 116,
   "id": "3c519675",
   "metadata": {},
   "outputs": [],
   "source": [
    "df_telecom.loc[df_telecom['TotalCharges'] == 0, 'TotalCharges'] = df_telecom['MonthlyCharges']"
   ]
  },
  {
   "cell_type": "code",
   "execution_count": 117,
   "id": "362087f6",
   "metadata": {
    "scrolled": false
   },
   "outputs": [
    {
     "data": {
      "image/png": "[encoded data removed]",
      "text/plain": [
       "<Figure size 1440x576 with 1 Axes>"
      ]
     },
     "metadata": {
      "needs_background": "light"
     },
     "output_type": "display_data"
    }
   ],
   "source": [
    "plt.figure(figsize = (20,8))\n",
    "sns.histplot(df_telecom['BeginDate'])\n",
    "plt.title('Распределение фактов регистрации клиентов во времени (BeginDate)')\n",
    "plt.xlabel('Дата')\n",
    "plt.ylabel('Частота появления в датасете');"
   ]
  },
  {
   "cell_type": "markdown",
   "id": "2bd883e6",
   "metadata": {},
   "source": [
    "Наблюдается пик в начале 2014 года, что связано с началом работы компании. С начала 2015 по конец 2018 года - величина вновь привлеченных клиентов стабильна. Далее с начала 2019 по начало 2020 года снова наблюдаем бурный рост количества новых клиентов."
   ]
  },
  {
   "cell_type": "markdown",
   "id": "05711a56",
   "metadata": {},
   "source": [
    "Посмотрим распределение оттока клиентов во времени:"
   ]
  },
  {
   "cell_type": "code",
   "execution_count": 118,
   "id": "e93dc37b",
   "metadata": {},
   "outputs": [
    {
     "data": {
      "image/png": "[encoded data removed]",
      "text/plain": [
       "<Figure size 1440x576 with 1 Axes>"
      ]
     },
     "metadata": {
      "needs_background": "light"
     },
     "output_type": "display_data"
    }
   ],
   "source": [
    "plt.figure(figsize = (20,8))\n",
    "sns.histplot(df_telecom.query('EndDate != \"2020-02-01\"')['EndDate'])\n",
    "plt.title('Распределение оттока клиентов во времени (EndDate)')\n",
    "plt.xlabel('Дата')\n",
    "plt.ylabel('Частота появления в датасете');"
   ]
  },
  {
   "cell_type": "markdown",
   "id": "f78bb98c",
   "metadata": {},
   "source": [
    "Посмотрим уникальные значения поля:"
   ]
  },
  {
   "cell_type": "code",
   "execution_count": 119,
   "id": "fb3ab70b",
   "metadata": {},
   "outputs": [
    {
     "data": {
      "text/plain": [
       "2019-11-01    485\n",
       "2019-12-01    466\n",
       "2020-01-01    460\n",
       "2019-10-01    458\n",
       "Name: EndDate, dtype: int64"
      ]
     },
     "execution_count": 119,
     "metadata": {},
     "output_type": "execute_result"
    }
   ],
   "source": [
    "df_telecom.query('EndDate != \"2020-02-01\"')['EndDate'].value_counts()"
   ]
  },
  {
   "cell_type": "markdown",
   "id": "ed7a5c94",
   "metadata": {},
   "source": [
    "Только в эти четыре дня происходил отток клиентов, причем распределение практически равномерное"
   ]
  },
  {
   "cell_type": "code",
   "execution_count": 120,
   "id": "825a58f0",
   "metadata": {},
   "outputs": [
    {
     "data": {
      "image/png": "[encoded data removed]",
      "text/plain": [
       "<Figure size 1440x576 with 1 Axes>"
      ]
     },
     "metadata": {
      "needs_background": "light"
     },
     "output_type": "display_data"
    }
   ],
   "source": [
    "plt.figure(figsize = (20,8))\n",
    "\n",
    "ax = sns.histplot(df_telecom.loc[df_telecom['escape_client'] == 1,'MonthlyCharges'], \n",
    "                  color='black', \n",
    "                  label='Оттекшие клиенты')\n",
    "sns.histplot(df_telecom['MonthlyCharges'],\n",
    "             ax=ax, \n",
    "             alpha=0.4, \n",
    "             label='Все клиенты')\n",
    "ax.legend()\n",
    "plt.title('Распределение значений ежемесячных трат (MonthlyCharges)')\n",
    "plt.xlabel('Ежемесячные траты')\n",
    "plt.ylabel('Частота появления в датасете');"
   ]
  },
  {
   "cell_type": "markdown",
   "id": "1a519418",
   "metadata": {},
   "source": [
    "Посмотрим сколько времени ушедшие клиенты пользовались услугами компании:"
   ]
  },
  {
   "cell_type": "code",
   "execution_count": 121,
   "id": "2b73bcf8",
   "metadata": {},
   "outputs": [],
   "source": [
    "df_telecom['TotalTime'] = (df_telecom['EndDate'] - df_telecom['BeginDate']).dt.days"
   ]
  },
  {
   "cell_type": "code",
   "execution_count": 122,
   "id": "d8a142ee",
   "metadata": {},
   "outputs": [
    {
     "data": {
      "image/png": "[encoded data removed]",
      "text/plain": [
       "<Figure size 1440x576 with 1 Axes>"
      ]
     },
     "metadata": {
      "needs_background": "light"
     },
     "output_type": "display_data"
    }
   ],
   "source": [
    "plt.figure(figsize = (20,8))\n",
    "\n",
    "ax = sns.histplot(df_telecom.query('escape_client == 1')['TotalTime'],\n",
    "                  color='r', \n",
    "                  label='Оттекшие клиенты')\n",
    "sns.histplot(df_telecom['TotalTime'],\n",
    "             ax=ax, \n",
    "             alpha=0.4, \n",
    "             label='Все клиенты')\n",
    "ax.legend()\n",
    "plt.title('Распределение значений длительности использования услуг (TotalTime)')\n",
    "plt.xlabel('Длинтельность использования услуг, дней')\n",
    "plt.ylabel('Частота появления в датасете');"
   ]
  },
  {
   "cell_type": "code",
   "execution_count": 123,
   "id": "46054fbc",
   "metadata": {},
   "outputs": [
    {
     "data": {
      "text/plain": [
       "count    1869.000000\n",
       "mean      547.352060\n",
       "std       594.389607\n",
       "min        30.000000\n",
       "25%        61.000000\n",
       "50%       304.000000\n",
       "75%       883.000000\n",
       "max      2191.000000\n",
       "Name: TotalTime, dtype: float64"
      ]
     },
     "execution_count": 123,
     "metadata": {},
     "output_type": "execute_result"
    }
   ],
   "source": [
    "df_telecom.query('escape_client == 1')['TotalTime'].describe() "
   ]
  },
  {
   "cell_type": "code",
   "execution_count": 124,
   "id": "bab2cab6",
   "metadata": {},
   "outputs": [
    {
     "data": {
      "text/plain": [
       "count    7043.000000\n",
       "mean      985.996166\n",
       "std       747.587844\n",
       "min         0.000000\n",
       "25%       273.000000\n",
       "50%       883.000000\n",
       "75%      1676.000000\n",
       "max      2191.000000\n",
       "Name: TotalTime, dtype: float64"
      ]
     },
     "execution_count": 124,
     "metadata": {},
     "output_type": "execute_result"
    }
   ],
   "source": [
    "df_telecom['TotalTime'].describe()"
   ]
  },
  {
   "cell_type": "markdown",
   "id": "1d31993e",
   "metadata": {},
   "source": [
    "Средняя длительность пользования услугами у оттекших клиентов практически в два раза меньше, чем у тех, которые остались"
   ]
  },
  {
   "cell_type": "markdown",
   "id": "5faed7ea",
   "metadata": {},
   "source": [
    "# Подготовка данных для модели"
   ]
  },
  {
   "cell_type": "code",
   "execution_count": 125,
   "id": "9f2d87c2",
   "metadata": {},
   "outputs": [],
   "source": [
    "SEED = 70722"
   ]
  },
  {
   "cell_type": "markdown",
   "id": "3ef2fe07",
   "metadata": {},
   "source": [
    "Удалим признаки с датой:"
   ]
  },
  {
   "cell_type": "code",
   "execution_count": 126,
   "id": "376bb4d9",
   "metadata": {},
   "outputs": [],
   "source": [
    "df_telecom = df_telecom.drop(['BeginDate', 'EndDate'], axis=1)"
   ]
  },
  {
   "cell_type": "code",
   "execution_count": 127,
   "id": "c2e771f3",
   "metadata": {},
   "outputs": [
    {
     "data": {
      "text/plain": [
       "(7043, 20)"
      ]
     },
     "execution_count": 127,
     "metadata": {},
     "output_type": "execute_result"
    }
   ],
   "source": [
    "df_telecom.shape"
   ]
  },
  {
   "cell_type": "markdown",
   "id": "04e430af",
   "metadata": {},
   "source": [
    "Закодируем два оставшихся признака прямым кодированием. В данном случае это самый рациональный метод кодирования, так как пространство признаков не большое, и число признаков увеличится всего на 4."
   ]
  },
  {
   "cell_type": "code",
   "execution_count": 129,
   "id": "49fc58ca",
   "metadata": {},
   "outputs": [
    {
     "data": {
      "text/plain": [
       "(7043, 24)"
      ]
     },
     "execution_count": 129,
     "metadata": {},
     "output_type": "execute_result"
    }
   ],
   "source": [
    "df = pd.get_dummies(df_telecom, drop_first=True)\n",
    "df.shape\n"
   ]
  },
  {
   "cell_type": "code",
   "execution_count": 130,
   "id": "aec6257d",
   "metadata": {},
   "outputs": [
    {
     "data": {
      "image/png": "[encoded data removed]",
      "text/plain": [
       "<Figure size 1080x1080 with 2 Axes>"
      ]
     },
     "metadata": {
      "needs_background": "light"
     },
     "output_type": "display_data"
    }
   ],
   "source": [
    "corrMatrix = df.corr()\n",
    "plt.figure(figsize=(15, 15))\n",
    "sns.heatmap(corrMatrix, annot=False);"
   ]
  },
  {
   "cell_type": "markdown",
   "id": "c3453a81",
   "metadata": {},
   "source": [
    "Сгенерированный признак длительности использования услуг компании очень сильно коррелирует с суммарными тратами (корреляции по бинарным признакам не оцениваем). Действительно, признаки дублируют друг друга по своей сути. Так как отношение ежемесячных трат и суммарных трат по сути и будет являтся длительностью использования услуг компании. Сделаем два варианта данных для моделей с ними и без них."
   ]
  },
  {
   "cell_type": "markdown",
   "id": "d76dbccb",
   "metadata": {},
   "source": [
    "Остальные признаки имеют умеренную и слабую корреляцию. Посмотрим на коэффициент инфляции диспресии"
   ]
  },
  {
   "cell_type": "code",
   "execution_count": 131,
   "id": "a436a7fa",
   "metadata": {},
   "outputs": [
    {
     "data": {
      "text/plain": [
       "PaperlessBilling                          2.939183\n",
       "MonthlyCharges                           41.063204\n",
       "TotalCharges                             17.341021\n",
       "MultipleLines                             2.670912\n",
       "SeniorCitizen                             1.371209\n",
       "Partner                                   2.819411\n",
       "Dependents                                1.959808\n",
       "OnlineSecurity                            2.180569\n",
       "OnlineBackup                              2.342027\n",
       "DeviceProtection                          2.421458\n",
       "TechSupport                               2.261035\n",
       "StreamingTV                               3.223822\n",
       "StreamingMovies                           3.262297\n",
       "is_male                                   1.971995\n",
       "is_DSL_service                            3.171590\n",
       "escape_client                             1.884632\n",
       "TotalTime                                15.598557\n",
       "Type_One year                             1.974671\n",
       "Type_Two year                             3.335466\n",
       "PaymentMethod_Credit card (automatic)     1.854389\n",
       "PaymentMethod_Electronic check            2.788757\n",
       "PaymentMethod_Mailed check                1.878120\n",
       "MonthlyChargesGroup_1                     6.640640\n",
       "MonthlyChargesGroup_2                    17.142822\n",
       "dtype: float64"
      ]
     },
     "execution_count": 131,
     "metadata": {},
     "output_type": "execute_result"
    }
   ],
   "source": [
    "pd.Series([variance_inflation_factor(df.values, i)for i in range(df.shape[1])],index=df.columns)\n"
   ]
  },
  {
   "cell_type": "markdown",
   "id": "d8d5562c",
   "metadata": {},
   "source": [
    "Признаки соответствующие ежемесячным тратам, длительности использования услуг, и месячных трат по группам имееют очень большой коэффициент инфляции дисперсии. Можно попробовать построить модель с ними, и без них."
   ]
  },
  {
   "cell_type": "markdown",
   "id": "0378d00d",
   "metadata": {},
   "source": [
    "Запишем целевой признак:"
   ]
  },
  {
   "cell_type": "code",
   "execution_count": 132,
   "id": "f9127ebb",
   "metadata": {},
   "outputs": [],
   "source": [
    "target = df['escape_client']"
   ]
  },
  {
   "cell_type": "markdown",
   "id": "f4712657",
   "metadata": {},
   "source": [
    "И остальные признаки:"
   ]
  },
  {
   "cell_type": "code",
   "execution_count": 133,
   "id": "c974cb49",
   "metadata": {},
   "outputs": [],
   "source": [
    "features = df.drop('escape_client', axis=1)"
   ]
  },
  {
   "cell_type": "markdown",
   "id": "ab55ad75",
   "metadata": {},
   "source": [
    "Произведем деление на обучающую и отложенную выборку (возьмем соотношение 4:1):"
   ]
  },
  {
   "cell_type": "code",
   "execution_count": 134,
   "id": "f7430457",
   "metadata": {},
   "outputs": [],
   "source": [
    "features_train, features_test, target_train, target_test = train_test_split(features, \n",
    "                                                                            target, \n",
    "                                                                            train_size=.8, \n",
    "                                                                            random_state=SEED,\n",
    "                                                                            stratify=target)"
   ]
  },
  {
   "cell_type": "code",
   "execution_count": 135,
   "id": "41f9f37a",
   "metadata": {},
   "outputs": [
    {
     "data": {
      "text/plain": [
       "((5634, 23), (5634,), (1409, 23), (1409,))"
      ]
     },
     "execution_count": 135,
     "metadata": {},
     "output_type": "execute_result"
    }
   ],
   "source": [
    "features_train.shape, target_train.shape, features_test.shape, target_test.shape"
   ]
  },
  {
   "cell_type": "code",
   "execution_count": 136,
   "id": "bcf7fb26",
   "metadata": {},
   "outputs": [],
   "source": [
    "features_train_vif = features_train.drop(['MonthlyCharges', 'TotalTime'] , axis=1)\n",
    "features_test_vif = features_test.drop(['MonthlyCharges', 'TotalTime'], axis=1)"
   ]
  },
  {
   "cell_type": "code",
   "execution_count": 137,
   "id": "40f64f5d",
   "metadata": {},
   "outputs": [
    {
     "data": {
      "text/plain": [
       "PaperlessBilling                         2.664609\n",
       "TotalCharges                             7.803995\n",
       "MultipleLines                            2.613550\n",
       "SeniorCitizen                            1.353149\n",
       "Partner                                  2.739644\n",
       "Dependents                               1.925772\n",
       "OnlineSecurity                           2.155069\n",
       "OnlineBackup                             2.284410\n",
       "DeviceProtection                         2.414180\n",
       "TechSupport                              2.150313\n",
       "StreamingTV                              3.142210\n",
       "StreamingMovies                          3.180272\n",
       "is_male                                  1.861288\n",
       "is_DSL_service                           3.003510\n",
       "Type_One year                            1.652464\n",
       "Type_Two year                            2.358273\n",
       "PaymentMethod_Credit card (automatic)    1.651359\n",
       "PaymentMethod_Electronic check           2.235709\n",
       "PaymentMethod_Mailed check               1.516757\n",
       "MonthlyChargesGroup_1                    2.844975\n",
       "MonthlyChargesGroup_2                    8.545525\n",
       "dtype: float64"
      ]
     },
     "execution_count": 137,
     "metadata": {},
     "output_type": "execute_result"
    }
   ],
   "source": [
    "pd.Series([variance_inflation_factor(features_train_vif.values, i)for i in range(features_train_vif.shape[1])],\n",
    "          index=features_train_vif.columns)"
   ]
  },
  {
   "cell_type": "markdown",
   "id": "90711da6",
   "metadata": {},
   "source": [
    "Все коэффициенты в пределах допустимых значений."
   ]
  },
  {
   "cell_type": "code",
   "execution_count": 138,
   "id": "4d080ffb",
   "metadata": {},
   "outputs": [
    {
     "data": {
      "text/plain": [
       "((5634, 21), (5634,), (1409, 21), (1409,))"
      ]
     },
     "execution_count": 138,
     "metadata": {},
     "output_type": "execute_result"
    }
   ],
   "source": [
    "features_train_vif.shape, target_train.shape, features_test_vif.shape, target_test.shape\n"
   ]
  },
  {
   "cell_type": "code",
   "execution_count": 139,
   "id": "f3f59887",
   "metadata": {},
   "outputs": [
    {
     "data": {
      "text/plain": [
       "(0.2653532126375577, 0.2654364797728886)"
      ]
     },
     "execution_count": 139,
     "metadata": {},
     "output_type": "execute_result"
    }
   ],
   "source": [
    "target_train.mean(), target_test.mean()"
   ]
  },
  {
   "cell_type": "markdown",
   "id": "e8cf2059",
   "metadata": {},
   "source": [
    "Для борьбы с дисбалансом классов воспользуемся апсемплингом и подготовим третий вариант набора данных:"
   ]
  },
  {
   "cell_type": "code",
   "execution_count": 140,
   "id": "5e74dc06",
   "metadata": {},
   "outputs": [],
   "source": [
    "def upsample(features, target, repeat):\n",
    "    features_zeros = features[target == 0]\n",
    "    features_ones = features[target == 1]\n",
    "    target_zeros = target[target == 0]\n",
    "    target_ones = target[target == 1]\n",
    "\n",
    "    features_upsampled = pd.concat([features_zeros] + [features_ones] * repeat)\n",
    "    target_upsampled = pd.concat([target_zeros] + [target_ones] * repeat)\n",
    "    \n",
    "    features_upsampled, target_upsampled = shuffle(\n",
    "        features_upsampled, target_upsampled, random_state=SEED)\n",
    "    \n",
    "    return features_upsampled, target_upsampled"
   ]
  },
  {
   "cell_type": "code",
   "execution_count": 141,
   "id": "e771c21f",
   "metadata": {},
   "outputs": [
    {
     "data": {
      "text/plain": [
       "0.5200602968460112"
      ]
     },
     "execution_count": 141,
     "metadata": {},
     "output_type": "execute_result"
    }
   ],
   "source": [
    "features_upsampled, target_upsampled = upsample(features_train, target_train, 3)\n",
    "target_upsampled.mean()"
   ]
  },
  {
   "cell_type": "markdown",
   "id": "77f1cd7c",
   "metadata": {},
   "source": [
    "# Разработка и отбор лучшей модели"
   ]
  },
  {
   "cell_type": "code",
   "execution_count": 142,
   "id": "8e5f7795",
   "metadata": {},
   "outputs": [],
   "source": [
    "# Функция обучения моделей с параметрами по умолчанию.\n",
    "# Аргументы: класс модели, обучающая выборка и (необязательно) режим использования сбалансированной развесовки классов.\n",
    "# Возвращает метрики на 5-х кратной кросс-валидации в формате Series.\n",
    "def train (model, features, target, SEED, notation, balanced_weights=False):\n",
    "    model_instance = None\n",
    "    class_weights = None\n",
    "    \n",
    "    # CatBoost не имеет режима class_weight='balanced', для него веса зададим вручную:\n",
    "    if balanced_weights == True:\n",
    "        if model == CatBoostClassifier:\n",
    "            class_weights = [1 - np.mean(target), np.mean(target)]\n",
    "        else:\n",
    "            class_weights = 'balanced'\n",
    "    \n",
    "    if model == LogisticRegression:\n",
    "        model_instance = model(random_state=SEED, solver='lbfgs', max_iter=1000, class_weight=class_weights)\n",
    "    elif model == RandomForestClassifier:\n",
    "        model_instance = model(random_state=SEED, n_estimators=100, class_weight=class_weights)\n",
    "    elif model == CatBoostClassifier:\n",
    "        model_instance = model(random_state=SEED, verbose=0, class_weights=class_weights)\n",
    "    else:\n",
    "        model_instance = model(random_state=SEED, class_weight=class_weights)\n",
    "\n",
    "\n",
    "    # Обучим модель:\n",
    "    model_instance.fit(features, target)\n",
    "        \n",
    "    # Вычислим интересующие нас метрики:\n",
    "    f1 = np.mean(cross_val_score(model_instance, features, target, cv=5, scoring=make_scorer(f1_score)))\n",
    "    roc_auc = np.mean(cross_val_score(model_instance, features, target, cv=5, scoring=make_scorer(roc_auc_score)))\n",
    "    \n",
    "    stat = pd.Series([type(model_instance).__name__ + notation, f1, roc_auc], index=['Model', 'F1', 'ROC_AUC'])\n",
    "    return stat, model_instance"
   ]
  },
  {
   "cell_type": "code",
   "execution_count": 143,
   "id": "c7c62c74",
   "metadata": {},
   "outputs": [],
   "source": [
    "model_list = [LogisticRegression, RandomForestClassifier, CatBoostClassifier]"
   ]
  },
  {
   "cell_type": "code",
   "execution_count": null,
   "id": "2809d8fe",
   "metadata": {},
   "outputs": [],
   "source": []
  },
  {
   "cell_type": "code",
   "execution_count": 144,
   "id": "42f86e5a",
   "metadata": {},
   "outputs": [],
   "source": [
    "stats = pd.DataFrame({'Model':[], 'F1':[], 'ROC_AUC':[]})"
   ]
  },
  {
   "cell_type": "markdown",
   "id": "0708468a",
   "metadata": {},
   "source": [
    "Обучим модели на всех признаках (raw):"
   ]
  },
  {
   "cell_type": "code",
   "execution_count": 145,
   "id": "e71f9a6b",
   "metadata": {},
   "outputs": [
    {
     "name": "stderr",
     "output_type": "stream",
     "text": [
      "100%|████████████████████████████████████████████████████████████████████████████████████| 3/3 [01:50<00:00, 36.94s/it]\n"
     ]
    }
   ],
   "source": [
    "model_instances = []\n",
    "for model in tqdm(model_list):\n",
    "    stat_row, model_instance = train (model, features_train, target_train, SEED, '_raw')\n",
    "    \n",
    "    new_index = len(stats.index)\n",
    "    stats.loc[new_index] = stat_row\n",
    "\n",
    "    model_instances.append(model_instance)"
   ]
  },
  {
   "cell_type": "code",
   "execution_count": 146,
   "id": "225d96a7",
   "metadata": {},
   "outputs": [
    {
     "data": {
      "text/html": [
       "<div>\n",
       "<style scoped>\n",
       "    .dataframe tbody tr th:only-of-type {\n",
       "        vertical-align: middle;\n",
       "    }\n",
       "\n",
       "    .dataframe tbody tr th {\n",
       "        vertical-align: top;\n",
       "    }\n",
       "\n",
       "    .dataframe thead th {\n",
       "        text-align: right;\n",
       "    }\n",
       "</style>\n",
       "<table border=\"1\" class=\"dataframe\">\n",
       "  <thead>\n",
       "    <tr style=\"text-align: right;\">\n",
       "      <th></th>\n",
       "      <th>Model</th>\n",
       "      <th>F1</th>\n",
       "      <th>ROC_AUC</th>\n",
       "    </tr>\n",
       "  </thead>\n",
       "  <tbody>\n",
       "    <tr>\n",
       "      <th>0</th>\n",
       "      <td>LogisticRegression_raw</td>\n",
       "      <td>0.585972</td>\n",
       "      <td>0.715222</td>\n",
       "    </tr>\n",
       "    <tr>\n",
       "      <th>1</th>\n",
       "      <td>RandomForestClassifier_raw</td>\n",
       "      <td>0.598431</td>\n",
       "      <td>0.720946</td>\n",
       "    </tr>\n",
       "    <tr>\n",
       "      <th>2</th>\n",
       "      <td>CatBoostClassifier_raw</td>\n",
       "      <td>0.680554</td>\n",
       "      <td>0.770152</td>\n",
       "    </tr>\n",
       "  </tbody>\n",
       "</table>\n",
       "</div>"
      ],
      "text/plain": [
       "                        Model        F1   ROC_AUC\n",
       "0      LogisticRegression_raw  0.585972  0.715222\n",
       "1  RandomForestClassifier_raw  0.598431  0.720946\n",
       "2      CatBoostClassifier_raw  0.680554  0.770152"
      ]
     },
     "execution_count": 146,
     "metadata": {},
     "output_type": "execute_result"
    }
   ],
   "source": [
    "stats"
   ]
  },
  {
   "cell_type": "markdown",
   "id": "f9afac38",
   "metadata": {},
   "source": [
    "Лучшей моделью является CatBoostClassifier, как по F1-мере, так и по roc_auc (0.68 и 0.77 на обучающей выборке с 5-х кратной кросс валидацией соответственно). Запишем ее для тестирования в следующем разделе:"
   ]
  },
  {
   "cell_type": "code",
   "execution_count": 147,
   "id": "f08363f7",
   "metadata": {},
   "outputs": [],
   "source": [
    "best_model_raw = model_instances[2]"
   ]
  },
  {
   "cell_type": "markdown",
   "id": "752f91c9",
   "metadata": {},
   "source": [
    "Проделаем то же самое, но с балансировкой классов:\n",
    "\n"
   ]
  },
  {
   "cell_type": "code",
   "execution_count": 148,
   "id": "430fbe00",
   "metadata": {},
   "outputs": [
    {
     "name": "stderr",
     "output_type": "stream",
     "text": [
      "100%|████████████████████████████████████████████████████████████████████████████████████| 3/3 [01:42<00:00, 34.17s/it]\n"
     ]
    }
   ],
   "source": [
    "model_instances = []\n",
    "for model in tqdm(model_list):\n",
    "    stat_row, model_instance = train (model, features_train, target_train, SEED, '_raw_balanced', balanced_weights=True)\n",
    "    \n",
    "    new_index = len(stats.index)\n",
    "    stats.loc[new_index] = stat_row\n",
    "\n",
    "    model_instances.append(model_instance)"
   ]
  },
  {
   "cell_type": "code",
   "execution_count": 149,
   "id": "d6646da8",
   "metadata": {},
   "outputs": [
    {
     "data": {
      "text/html": [
       "<div>\n",
       "<style scoped>\n",
       "    .dataframe tbody tr th:only-of-type {\n",
       "        vertical-align: middle;\n",
       "    }\n",
       "\n",
       "    .dataframe tbody tr th {\n",
       "        vertical-align: top;\n",
       "    }\n",
       "\n",
       "    .dataframe thead th {\n",
       "        text-align: right;\n",
       "    }\n",
       "</style>\n",
       "<table border=\"1\" class=\"dataframe\">\n",
       "  <thead>\n",
       "    <tr style=\"text-align: right;\">\n",
       "      <th></th>\n",
       "      <th>Model</th>\n",
       "      <th>F1</th>\n",
       "      <th>ROC_AUC</th>\n",
       "    </tr>\n",
       "  </thead>\n",
       "  <tbody>\n",
       "    <tr>\n",
       "      <th>0</th>\n",
       "      <td>LogisticRegression_raw</td>\n",
       "      <td>0.585972</td>\n",
       "      <td>0.715222</td>\n",
       "    </tr>\n",
       "    <tr>\n",
       "      <th>1</th>\n",
       "      <td>RandomForestClassifier_raw</td>\n",
       "      <td>0.598431</td>\n",
       "      <td>0.720946</td>\n",
       "    </tr>\n",
       "    <tr>\n",
       "      <th>2</th>\n",
       "      <td>CatBoostClassifier_raw</td>\n",
       "      <td>0.680554</td>\n",
       "      <td>0.770152</td>\n",
       "    </tr>\n",
       "    <tr>\n",
       "      <th>3</th>\n",
       "      <td>LogisticRegression_raw_balanced</td>\n",
       "      <td>0.621495</td>\n",
       "      <td>0.759357</td>\n",
       "    </tr>\n",
       "    <tr>\n",
       "      <th>4</th>\n",
       "      <td>RandomForestClassifier_raw_balanced</td>\n",
       "      <td>0.583868</td>\n",
       "      <td>0.712195</td>\n",
       "    </tr>\n",
       "    <tr>\n",
       "      <th>5</th>\n",
       "      <td>CatBoostClassifier_raw_balanced</td>\n",
       "      <td>0.565434</td>\n",
       "      <td>0.697768</td>\n",
       "    </tr>\n",
       "  </tbody>\n",
       "</table>\n",
       "</div>"
      ],
      "text/plain": [
       "                                 Model        F1   ROC_AUC\n",
       "0               LogisticRegression_raw  0.585972  0.715222\n",
       "1           RandomForestClassifier_raw  0.598431  0.720946\n",
       "2               CatBoostClassifier_raw  0.680554  0.770152\n",
       "3      LogisticRegression_raw_balanced  0.621495  0.759357\n",
       "4  RandomForestClassifier_raw_balanced  0.583868  0.712195\n",
       "5      CatBoostClassifier_raw_balanced  0.565434  0.697768"
      ]
     },
     "execution_count": 149,
     "metadata": {},
     "output_type": "execute_result"
    }
   ],
   "source": [
    "stats"
   ]
  },
  {
   "cell_type": "markdown",
   "id": "7bd10a25",
   "metadata": {},
   "source": [
    "Показатели регрессионной модели увеличились, но незначительно.У случайного леса показатели не изменились, а у кетбуста показатели снизились.\n",
    "\n",
    "Обучим модели на признаках скорректированных с помощью коэффициента инфляции дисперссии (без MonthlyCharges и TotalTime):"
   ]
  },
  {
   "cell_type": "code",
   "execution_count": 150,
   "id": "29b32fef",
   "metadata": {},
   "outputs": [
    {
     "name": "stderr",
     "output_type": "stream",
     "text": [
      "100%|████████████████████████████████████████████████████████████████████████████████████| 3/3 [01:35<00:00, 31.74s/it]\n"
     ]
    }
   ],
   "source": [
    "model_instances = []\n",
    "for model in tqdm(model_list):\n",
    "    stat_row, model_instance = train (model, features_train_vif, target_train, SEED, '_vif')\n",
    "    \n",
    "    new_index = len(stats.index)\n",
    "    stats.loc[new_index] = stat_row\n",
    "\n",
    "    model_instances.append(model_instance)"
   ]
  },
  {
   "cell_type": "code",
   "execution_count": 151,
   "id": "3dfc0d77",
   "metadata": {},
   "outputs": [
    {
     "data": {
      "text/html": [
       "<div>\n",
       "<style scoped>\n",
       "    .dataframe tbody tr th:only-of-type {\n",
       "        vertical-align: middle;\n",
       "    }\n",
       "\n",
       "    .dataframe tbody tr th {\n",
       "        vertical-align: top;\n",
       "    }\n",
       "\n",
       "    .dataframe thead th {\n",
       "        text-align: right;\n",
       "    }\n",
       "</style>\n",
       "<table border=\"1\" class=\"dataframe\">\n",
       "  <thead>\n",
       "    <tr style=\"text-align: right;\">\n",
       "      <th></th>\n",
       "      <th>Model</th>\n",
       "      <th>F1</th>\n",
       "      <th>ROC_AUC</th>\n",
       "    </tr>\n",
       "  </thead>\n",
       "  <tbody>\n",
       "    <tr>\n",
       "      <th>0</th>\n",
       "      <td>LogisticRegression_raw</td>\n",
       "      <td>0.585972</td>\n",
       "      <td>0.715222</td>\n",
       "    </tr>\n",
       "    <tr>\n",
       "      <th>1</th>\n",
       "      <td>RandomForestClassifier_raw</td>\n",
       "      <td>0.598431</td>\n",
       "      <td>0.720946</td>\n",
       "    </tr>\n",
       "    <tr>\n",
       "      <th>2</th>\n",
       "      <td>CatBoostClassifier_raw</td>\n",
       "      <td>0.680554</td>\n",
       "      <td>0.770152</td>\n",
       "    </tr>\n",
       "    <tr>\n",
       "      <th>3</th>\n",
       "      <td>LogisticRegression_raw_balanced</td>\n",
       "      <td>0.621495</td>\n",
       "      <td>0.759357</td>\n",
       "    </tr>\n",
       "    <tr>\n",
       "      <th>4</th>\n",
       "      <td>RandomForestClassifier_raw_balanced</td>\n",
       "      <td>0.583868</td>\n",
       "      <td>0.712195</td>\n",
       "    </tr>\n",
       "    <tr>\n",
       "      <th>5</th>\n",
       "      <td>CatBoostClassifier_raw_balanced</td>\n",
       "      <td>0.565434</td>\n",
       "      <td>0.697768</td>\n",
       "    </tr>\n",
       "    <tr>\n",
       "      <th>6</th>\n",
       "      <td>LogisticRegression_vif</td>\n",
       "      <td>0.540634</td>\n",
       "      <td>0.686767</td>\n",
       "    </tr>\n",
       "    <tr>\n",
       "      <th>7</th>\n",
       "      <td>RandomForestClassifier_vif</td>\n",
       "      <td>0.544469</td>\n",
       "      <td>0.689153</td>\n",
       "    </tr>\n",
       "    <tr>\n",
       "      <th>8</th>\n",
       "      <td>CatBoostClassifier_vif</td>\n",
       "      <td>0.581819</td>\n",
       "      <td>0.711971</td>\n",
       "    </tr>\n",
       "  </tbody>\n",
       "</table>\n",
       "</div>"
      ],
      "text/plain": [
       "                                 Model        F1   ROC_AUC\n",
       "0               LogisticRegression_raw  0.585972  0.715222\n",
       "1           RandomForestClassifier_raw  0.598431  0.720946\n",
       "2               CatBoostClassifier_raw  0.680554  0.770152\n",
       "3      LogisticRegression_raw_balanced  0.621495  0.759357\n",
       "4  RandomForestClassifier_raw_balanced  0.583868  0.712195\n",
       "5      CatBoostClassifier_raw_balanced  0.565434  0.697768\n",
       "6               LogisticRegression_vif  0.540634  0.686767\n",
       "7           RandomForestClassifier_vif  0.544469  0.689153\n",
       "8               CatBoostClassifier_vif  0.581819  0.711971"
      ]
     },
     "execution_count": 151,
     "metadata": {},
     "output_type": "execute_result"
    }
   ],
   "source": [
    "stats"
   ]
  },
  {
   "cell_type": "markdown",
   "id": "cc3c04cd",
   "metadata": {},
   "source": [
    "Показатели F1-меры и roc_auc снизились. Балансировку классов делать не будем.\n",
    "\n",
    "Обучим модели на признаках с апсемплингом:"
   ]
  },
  {
   "cell_type": "code",
   "execution_count": 152,
   "id": "69eac6f9",
   "metadata": {},
   "outputs": [
    {
     "name": "stderr",
     "output_type": "stream",
     "text": [
      "100%|████████████████████████████████████████████████████████████████████████████████████| 3/3 [01:53<00:00, 37.79s/it]\n"
     ]
    }
   ],
   "source": [
    "model_instances = []\n",
    "for model in tqdm(model_list):\n",
    "    stat_row, model_instance = train (model, features_upsampled, target_upsampled, SEED, '_upsampling')\n",
    "    \n",
    "    new_index = len(stats.index)\n",
    "    stats.loc[new_index] = stat_row\n",
    "\n",
    "    model_instances.append(model_instance)"
   ]
  },
  {
   "cell_type": "code",
   "execution_count": 153,
   "id": "132982f4",
   "metadata": {},
   "outputs": [
    {
     "data": {
      "text/html": [
       "<div>\n",
       "<style scoped>\n",
       "    .dataframe tbody tr th:only-of-type {\n",
       "        vertical-align: middle;\n",
       "    }\n",
       "\n",
       "    .dataframe tbody tr th {\n",
       "        vertical-align: top;\n",
       "    }\n",
       "\n",
       "    .dataframe thead th {\n",
       "        text-align: right;\n",
       "    }\n",
       "</style>\n",
       "<table border=\"1\" class=\"dataframe\">\n",
       "  <thead>\n",
       "    <tr style=\"text-align: right;\">\n",
       "      <th></th>\n",
       "      <th>Model</th>\n",
       "      <th>F1</th>\n",
       "      <th>ROC_AUC</th>\n",
       "    </tr>\n",
       "  </thead>\n",
       "  <tbody>\n",
       "    <tr>\n",
       "      <th>0</th>\n",
       "      <td>LogisticRegression_raw</td>\n",
       "      <td>0.585972</td>\n",
       "      <td>0.715222</td>\n",
       "    </tr>\n",
       "    <tr>\n",
       "      <th>1</th>\n",
       "      <td>RandomForestClassifier_raw</td>\n",
       "      <td>0.598431</td>\n",
       "      <td>0.720946</td>\n",
       "    </tr>\n",
       "    <tr>\n",
       "      <th>2</th>\n",
       "      <td>CatBoostClassifier_raw</td>\n",
       "      <td>0.680554</td>\n",
       "      <td>0.770152</td>\n",
       "    </tr>\n",
       "    <tr>\n",
       "      <th>3</th>\n",
       "      <td>LogisticRegression_raw_balanced</td>\n",
       "      <td>0.621495</td>\n",
       "      <td>0.759357</td>\n",
       "    </tr>\n",
       "    <tr>\n",
       "      <th>4</th>\n",
       "      <td>RandomForestClassifier_raw_balanced</td>\n",
       "      <td>0.583868</td>\n",
       "      <td>0.712195</td>\n",
       "    </tr>\n",
       "    <tr>\n",
       "      <th>5</th>\n",
       "      <td>CatBoostClassifier_raw_balanced</td>\n",
       "      <td>0.565434</td>\n",
       "      <td>0.697768</td>\n",
       "    </tr>\n",
       "    <tr>\n",
       "      <th>6</th>\n",
       "      <td>LogisticRegression_vif</td>\n",
       "      <td>0.540634</td>\n",
       "      <td>0.686767</td>\n",
       "    </tr>\n",
       "    <tr>\n",
       "      <th>7</th>\n",
       "      <td>RandomForestClassifier_vif</td>\n",
       "      <td>0.544469</td>\n",
       "      <td>0.689153</td>\n",
       "    </tr>\n",
       "    <tr>\n",
       "      <th>8</th>\n",
       "      <td>CatBoostClassifier_vif</td>\n",
       "      <td>0.581819</td>\n",
       "      <td>0.711971</td>\n",
       "    </tr>\n",
       "    <tr>\n",
       "      <th>9</th>\n",
       "      <td>LogisticRegression_upsampling</td>\n",
       "      <td>0.785018</td>\n",
       "      <td>0.764646</td>\n",
       "    </tr>\n",
       "    <tr>\n",
       "      <th>10</th>\n",
       "      <td>RandomForestClassifier_upsampling</td>\n",
       "      <td>0.924729</td>\n",
       "      <td>0.913424</td>\n",
       "    </tr>\n",
       "    <tr>\n",
       "      <th>11</th>\n",
       "      <td>CatBoostClassifier_upsampling</td>\n",
       "      <td>0.885359</td>\n",
       "      <td>0.875131</td>\n",
       "    </tr>\n",
       "  </tbody>\n",
       "</table>\n",
       "</div>"
      ],
      "text/plain": [
       "                                  Model        F1   ROC_AUC\n",
       "0                LogisticRegression_raw  0.585972  0.715222\n",
       "1            RandomForestClassifier_raw  0.598431  0.720946\n",
       "2                CatBoostClassifier_raw  0.680554  0.770152\n",
       "3       LogisticRegression_raw_balanced  0.621495  0.759357\n",
       "4   RandomForestClassifier_raw_balanced  0.583868  0.712195\n",
       "5       CatBoostClassifier_raw_balanced  0.565434  0.697768\n",
       "6                LogisticRegression_vif  0.540634  0.686767\n",
       "7            RandomForestClassifier_vif  0.544469  0.689153\n",
       "8                CatBoostClassifier_vif  0.581819  0.711971\n",
       "9         LogisticRegression_upsampling  0.785018  0.764646\n",
       "10    RandomForestClassifier_upsampling  0.924729  0.913424\n",
       "11        CatBoostClassifier_upsampling  0.885359  0.875131"
      ]
     },
     "execution_count": 153,
     "metadata": {},
     "output_type": "execute_result"
    }
   ],
   "source": [
    "stats"
   ]
  },
  {
   "cell_type": "markdown",
   "id": "8805ae02",
   "metadata": {},
   "source": [
    "Качество моделей с апсемплингом существенно вырасло. Лучшей моделью является RandomForestClassifier. Модель случайного леса с апсемплингом увеличила F1-меру с 0.59 до 0.92, а roc_auc c 0.72 до 0.91 (показатели CatBoostClassifier со всеми признаками). Запишем лучшую модель и сравним ее на тестировании с моделью кетбуст на полных данных:"
   ]
  },
  {
   "cell_type": "code",
   "execution_count": 154,
   "id": "f983a6b0",
   "metadata": {},
   "outputs": [],
   "source": [
    "best_model_upsampling = model_instances[1]"
   ]
  },
  {
   "cell_type": "markdown",
   "id": "b8dc80bb",
   "metadata": {},
   "source": [
    "# Тестирование"
   ]
  },
  {
   "cell_type": "code",
   "execution_count": 162,
   "id": "36932942",
   "metadata": {},
   "outputs": [],
   "source": [
    "def testing_model(features_test, target_test, model):\n",
    "    predictions_test = model.predict(features_test)\n",
    "    probabilities_test = model.predict_proba(features_test)[:,1]\n",
    "    fpr, tpr, threshold = roc_curve(target_test, probabilities_test)\n",
    "    \n",
    "    plt.figure(figsize = (20,8))\n",
    "\n",
    "    f1 = f1_score(target_test, predictions_test)\n",
    "    roc_auc = roc_auc_score(target_test, probabilities_test)\n",
    "    \n",
    "    print('Класс модели: ', type(model).__name__)\n",
    "    print('F1-мера: ', f1)\n",
    "    print('roc-auc: ', roc_auc)\n",
    "    \n",
    "    fpr, tpr, thresholds = roc_curve(target_test, probabilities_test, pos_label=1)\n",
    "    plt.plot(fpr, tpr, label=type(model).__name__)\n",
    "    plt.xlabel('Вероятность ошибки 1-рода')\n",
    "    plt.ylabel('Recall')\n",
    "    plt.title('ROC-кривая модели класса ' + type(model).__name__)\n",
    "    plt.plot([0, 1], [0, 1])\n",
    "    plt.xlim([0.0, 1.0])\n",
    "    plt.ylim([0.0, 1.05])\n",
    "    plt.legend();\n",
    "    \n",
    "    cmatrix = confusion_matrix(target_test, predictions_test)\n",
    "    plt.figure(figsize=(20, 8))\n",
    "    sns.heatmap(cmatrix, \n",
    "                annot=True,  \n",
    "                cmap='Blues', \n",
    "                fmt='d').set(title='Матрица ошибок', xlabel='Предсказания', ylabel='Правильные ответы')\n",
    "    plt.show();"
   ]
  },
  {
   "cell_type": "markdown",
   "id": "dcd86825",
   "metadata": {},
   "source": [
    "Протестируем лучшую модель на полных данных (raw):"
   ]
  },
  {
   "cell_type": "code",
   "execution_count": 163,
   "id": "9ab44c87",
   "metadata": {},
   "outputs": [
    {
     "name": "stdout",
     "output_type": "stream",
     "text": [
      "Класс модели:  CatBoostClassifier\n",
      "F1-мера:  0.7134328358208956\n",
      "roc-auc:  0.9037471905758351\n"
     ]
    },
    {
     "data": {
      "image/png": "[encoded data removed]",
      "text/plain": [
       "<Figure size 1440x576 with 1 Axes>"
      ]
     },
     "metadata": {
      "needs_background": "light"
     },
     "output_type": "display_data"
    },
    {
     "data": {
      "image/png": "[encoded data removed]",
      "text/plain": [
       "<Figure size 1440x576 with 2 Axes>"
      ]
     },
     "metadata": {
      "needs_background": "light"
     },
     "output_type": "display_data"
    }
   ],
   "source": [
    "testing_model(features_test, target_test, best_model_raw)"
   ]
  },
  {
   "cell_type": "markdown",
   "id": "bc8bed4e",
   "metadata": {},
   "source": [
    "Лучшая модель на данных с апсемплингом (случайный лес):"
   ]
  },
  {
   "cell_type": "code",
   "execution_count": 164,
   "id": "db40d3f7",
   "metadata": {},
   "outputs": [
    {
     "name": "stdout",
     "output_type": "stream",
     "text": [
      "Класс модели:  RandomForestClassifier\n",
      "F1-мера:  0.6111833550065019\n",
      "roc-auc:  0.8324369009791006\n"
     ]
    },
    {
     "data": {
      "image/png": "[encoded data removed]",
      "text/plain": [
       "<Figure size 1440x576 with 1 Axes>"
      ]
     },
     "metadata": {
      "needs_background": "light"
     },
     "output_type": "display_data"
    },
    {
     "data": {
      "image/png": "[encoded data removed]",
      "text/plain": [
       "<Figure size 1440x576 with 2 Axes>"
      ]
     },
     "metadata": {
      "needs_background": "light"
     },
     "output_type": "display_data"
    }
   ],
   "source": [
    "testing_model(features_test, target_test, best_model_upsampling)"
   ]
  },
  {
   "cell_type": "markdown",
   "id": "39db7656",
   "metadata": {},
   "source": [
    "Лучшей моделью оказалась модель класса CatBoostClassifier на полных данных. \n",
    "Показатели:\n",
    "F1-мера 0.71;\n",
    "roc-auc 0.90."
   ]
  },
  {
   "cell_type": "code",
   "execution_count": 165,
   "id": "597513a6",
   "metadata": {},
   "outputs": [],
   "source": [
    "best_model = best_model_raw"
   ]
  },
  {
   "cell_type": "markdown",
   "id": "259e23bd",
   "metadata": {},
   "source": [
    "# Анализ важности признаков модели\n"
   ]
  },
  {
   "cell_type": "code",
   "execution_count": 167,
   "id": "fe24264f",
   "metadata": {},
   "outputs": [],
   "source": [
    "train_dataset = Pool(features_train, target_train)\n",
    "feature_importance = best_model.get_feature_importance(train_dataset, prettified = True)"
   ]
  },
  {
   "cell_type": "code",
   "execution_count": 168,
   "id": "56661610",
   "metadata": {},
   "outputs": [
    {
     "data": {
      "text/html": [
       "<div>\n",
       "<style scoped>\n",
       "    .dataframe tbody tr th:only-of-type {\n",
       "        vertical-align: middle;\n",
       "    }\n",
       "\n",
       "    .dataframe tbody tr th {\n",
       "        vertical-align: top;\n",
       "    }\n",
       "\n",
       "    .dataframe thead th {\n",
       "        text-align: right;\n",
       "    }\n",
       "</style>\n",
       "<table border=\"1\" class=\"dataframe\">\n",
       "  <thead>\n",
       "    <tr style=\"text-align: right;\">\n",
       "      <th></th>\n",
       "      <th>Feature Id</th>\n",
       "      <th>Importances</th>\n",
       "    </tr>\n",
       "  </thead>\n",
       "  <tbody>\n",
       "    <tr>\n",
       "      <th>0</th>\n",
       "      <td>TotalTime</td>\n",
       "      <td>49.158203</td>\n",
       "    </tr>\n",
       "    <tr>\n",
       "      <th>1</th>\n",
       "      <td>MonthlyCharges</td>\n",
       "      <td>11.013623</td>\n",
       "    </tr>\n",
       "    <tr>\n",
       "      <th>2</th>\n",
       "      <td>TotalCharges</td>\n",
       "      <td>6.982575</td>\n",
       "    </tr>\n",
       "    <tr>\n",
       "      <th>3</th>\n",
       "      <td>Type_Two year</td>\n",
       "      <td>6.458374</td>\n",
       "    </tr>\n",
       "    <tr>\n",
       "      <th>4</th>\n",
       "      <td>Type_One year</td>\n",
       "      <td>2.990345</td>\n",
       "    </tr>\n",
       "    <tr>\n",
       "      <th>5</th>\n",
       "      <td>PaymentMethod_Electronic check</td>\n",
       "      <td>2.597734</td>\n",
       "    </tr>\n",
       "    <tr>\n",
       "      <th>6</th>\n",
       "      <td>is_DSL_service</td>\n",
       "      <td>2.537828</td>\n",
       "    </tr>\n",
       "    <tr>\n",
       "      <th>7</th>\n",
       "      <td>PaperlessBilling</td>\n",
       "      <td>2.091208</td>\n",
       "    </tr>\n",
       "    <tr>\n",
       "      <th>8</th>\n",
       "      <td>TechSupport</td>\n",
       "      <td>1.891189</td>\n",
       "    </tr>\n",
       "    <tr>\n",
       "      <th>9</th>\n",
       "      <td>is_male</td>\n",
       "      <td>1.374476</td>\n",
       "    </tr>\n",
       "    <tr>\n",
       "      <th>10</th>\n",
       "      <td>SeniorCitizen</td>\n",
       "      <td>1.370542</td>\n",
       "    </tr>\n",
       "    <tr>\n",
       "      <th>11</th>\n",
       "      <td>PaymentMethod_Mailed check</td>\n",
       "      <td>1.341167</td>\n",
       "    </tr>\n",
       "    <tr>\n",
       "      <th>12</th>\n",
       "      <td>OnlineSecurity</td>\n",
       "      <td>1.309210</td>\n",
       "    </tr>\n",
       "    <tr>\n",
       "      <th>13</th>\n",
       "      <td>MultipleLines</td>\n",
       "      <td>1.204055</td>\n",
       "    </tr>\n",
       "    <tr>\n",
       "      <th>14</th>\n",
       "      <td>StreamingMovies</td>\n",
       "      <td>1.152298</td>\n",
       "    </tr>\n",
       "    <tr>\n",
       "      <th>15</th>\n",
       "      <td>OnlineBackup</td>\n",
       "      <td>1.042882</td>\n",
       "    </tr>\n",
       "    <tr>\n",
       "      <th>16</th>\n",
       "      <td>Dependents</td>\n",
       "      <td>0.961769</td>\n",
       "    </tr>\n",
       "    <tr>\n",
       "      <th>17</th>\n",
       "      <td>Partner</td>\n",
       "      <td>0.918212</td>\n",
       "    </tr>\n",
       "    <tr>\n",
       "      <th>18</th>\n",
       "      <td>MonthlyChargesGroup_2</td>\n",
       "      <td>0.845631</td>\n",
       "    </tr>\n",
       "    <tr>\n",
       "      <th>19</th>\n",
       "      <td>StreamingTV</td>\n",
       "      <td>0.830406</td>\n",
       "    </tr>\n",
       "    <tr>\n",
       "      <th>20</th>\n",
       "      <td>PaymentMethod_Credit card (automatic)</td>\n",
       "      <td>0.767781</td>\n",
       "    </tr>\n",
       "    <tr>\n",
       "      <th>21</th>\n",
       "      <td>DeviceProtection</td>\n",
       "      <td>0.679248</td>\n",
       "    </tr>\n",
       "    <tr>\n",
       "      <th>22</th>\n",
       "      <td>MonthlyChargesGroup_1</td>\n",
       "      <td>0.481243</td>\n",
       "    </tr>\n",
       "  </tbody>\n",
       "</table>\n",
       "</div>"
      ],
      "text/plain": [
       "                               Feature Id  Importances\n",
       "0                               TotalTime    49.158203\n",
       "1                          MonthlyCharges    11.013623\n",
       "2                            TotalCharges     6.982575\n",
       "3                           Type_Two year     6.458374\n",
       "4                           Type_One year     2.990345\n",
       "5          PaymentMethod_Electronic check     2.597734\n",
       "6                          is_DSL_service     2.537828\n",
       "7                        PaperlessBilling     2.091208\n",
       "8                             TechSupport     1.891189\n",
       "9                                 is_male     1.374476\n",
       "10                          SeniorCitizen     1.370542\n",
       "11             PaymentMethod_Mailed check     1.341167\n",
       "12                         OnlineSecurity     1.309210\n",
       "13                          MultipleLines     1.204055\n",
       "14                        StreamingMovies     1.152298\n",
       "15                           OnlineBackup     1.042882\n",
       "16                             Dependents     0.961769\n",
       "17                                Partner     0.918212\n",
       "18                  MonthlyChargesGroup_2     0.845631\n",
       "19                            StreamingTV     0.830406\n",
       "20  PaymentMethod_Credit card (automatic)     0.767781\n",
       "21                       DeviceProtection     0.679248\n",
       "22                  MonthlyChargesGroup_1     0.481243"
      ]
     },
     "execution_count": 168,
     "metadata": {},
     "output_type": "execute_result"
    }
   ],
   "source": [
    "feature_importance"
   ]
  },
  {
   "cell_type": "code",
   "execution_count": 170,
   "id": "03570487",
   "metadata": {},
   "outputs": [
    {
     "data": {
      "image/png": "[encoded data removed]",
      "text/plain": [
       "<Figure size 1440x576 with 1 Axes>"
      ]
     },
     "metadata": {
      "needs_background": "light"
     },
     "output_type": "display_data"
    }
   ],
   "source": [
    "plt.figure(figsize = (20,8))\n",
    "sns.barplot(y=feature_importance['Feature Id'], x=feature_importance['Importances']);"
   ]
  },
  {
   "cell_type": "markdown",
   "id": "f3f2ff17",
   "metadata": {},
   "source": [
    "Достаточно логично, что на лояльность клиентов виляет время использования услуг. Как правило, чем дольше ты пользуешься услугами компании, тем меньше вероятность что ты от туда уйдешь. Второй и третий признак - месячные траты, тоже достаточно логично, учитывая исследовательский анализ данных проведенных ранее. Затем идут признаки, отвечающие за срок договора, гендер и т.д.\n",
    "\n",
    "В первую очередь на лояльность клиентов влияет время использования услуг. Чем дольше они пользуются услугами компании, тем меньше вероятность что они уйдут.\n",
    "Второй и третий признак это месячные траты."
   ]
  },
  {
   "cell_type": "code",
   "execution_count": null,
   "id": "e45e34e8",
   "metadata": {},
   "outputs": [],
   "source": []
  },
  {
   "cell_type": "code",
   "execution_count": null,
   "id": "581f08a9",
   "metadata": {},
   "outputs": [],
   "source": []
  },
  {
   "cell_type": "code",
   "execution_count": null,
   "id": "2dac75dc",
   "metadata": {},
   "outputs": [],
   "source": []
  }
 ],
 "metadata": {
  "kernelspec": {
   "display_name": "Python 3 (ipykernel)",
   "language": "python",
   "name": "python3"
  },
  "language_info": {
   "codemirror_mode": {
    "name": "ipython",
    "version": 3
   },
   "file_extension": ".py",
   "mimetype": "text/x-python",
   "name": "python",
   "nbconvert_exporter": "python",
   "pygments_lexer": "ipython3",
   "version": "3.9.13"
  }
 },
 "nbformat": 4,
 "nbformat_minor": 5
}
