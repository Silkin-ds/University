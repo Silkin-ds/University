{
  "nbformat": 4,
  "nbformat_minor": 0,
  "metadata": {
    "colab": {
      "provenance": [],
      "collapsed_sections": [
        "BJ7Y1uEUzM5b",
        "i1Mp7-ygcOZE",
        "Jwhmg5OMlMR_",
        "8i0J019P7vFW"
      ]
    },
    "kernelspec": {
      "name": "python3",
      "display_name": "Python 3"
    },
    "language_info": {
      "name": "python"
    }
  },
  "cells": [
    {
      "cell_type": "code",
      "source": [
        "!pip install scikit-fuzzy"
      ],
      "metadata": {
        "colab": {
          "base_uri": "https://localhost:8080/"
        },
        "id": "6wRBmL5Lax0x",
        "outputId": "85332b71-9a8c-4241-cf4c-cfecc89a4d66"
      },
      "execution_count": 2,
      "outputs": [
        {
          "output_type": "stream",
          "name": "stdout",
          "text": [
            "Collecting scikit-fuzzy\n",
            "  Downloading scikit-fuzzy-0.4.2.tar.gz (993 kB)\n",
            "\u001b[2K     \u001b[90m━━━━━━━━━━━━━━━━━━━━━━━━━━━━━━━━━━━━━━\u001b[0m \u001b[32m994.0/994.0 kB\u001b[0m \u001b[31m10.6 MB/s\u001b[0m eta \u001b[36m0:00:00\u001b[0m\n",
            "\u001b[?25h  Preparing metadata (setup.py) ... \u001b[?25l\u001b[?25hdone\n",
            "Requirement already satisfied: numpy>=1.6.0 in /usr/local/lib/python3.10/dist-packages (from scikit-fuzzy) (1.23.5)\n",
            "Requirement already satisfied: scipy>=0.9.0 in /usr/local/lib/python3.10/dist-packages (from scikit-fuzzy) (1.11.2)\n",
            "Requirement already satisfied: networkx>=1.9.0 in /usr/local/lib/python3.10/dist-packages (from scikit-fuzzy) (3.1)\n",
            "Building wheels for collected packages: scikit-fuzzy\n",
            "  Building wheel for scikit-fuzzy (setup.py) ... \u001b[?25l\u001b[?25hdone\n",
            "  Created wheel for scikit-fuzzy: filename=scikit_fuzzy-0.4.2-py3-none-any.whl size=894079 sha256=53800275dad067955516ad46e660388f0c48b0bc8d3827d0b158f0f7860252c0\n",
            "  Stored in directory: /root/.cache/pip/wheels/4f/86/1b/dfd97134a2c8313e519bcebd95d3fedc7be7944db022094bc8\n",
            "Successfully built scikit-fuzzy\n",
            "Installing collected packages: scikit-fuzzy\n",
            "Successfully installed scikit-fuzzy-0.4.2\n"
          ]
        }
      ]
    },
    {
      "cell_type": "code",
      "source": [
        "import numpy as np\n",
        "import skfuzzy as sf\n",
        "\n",
        "from skfuzzy import control as ctrl"
      ],
      "metadata": {
        "id": "EC5MtdQNarSK"
      },
      "execution_count": 3,
      "outputs": []
    },
    {
      "cell_type": "code",
      "execution_count": null,
      "metadata": {
        "id": "SwPJQ_xzaRZS"
      },
      "outputs": [],
      "source": [
        "location = ctrl.Antecedent(np.arange(0, 200, 1), 'location')\n",
        "condition = ctrl.Antecedent(np.arange(0, 100, 1), 'condition')\n",
        "price = ctrl.Consequent(np.arange(20, 250, 1), 'price')\n",
        "\n",
        "price.automf(names=['low', 'medium', 'high'])\n",
        "\n",
        "condition['bad'] = sf.trapmf(condition.universe, [0, 10, 25, 40])\n",
        "condition['medium'] = sf.trapmf(condition.universe, [30, 40, 55, 70])\n",
        "condition['good'] = sf.trapmf(condition.universe, [60, 70, 100, 100])\n",
        "\n",
        "location['bad'] = sf.trapmf(location.universe, [25, 100, 200, 200])\n",
        "location['average'] = sf.trapmf(location.universe, [10, 15, 30, 45])\n",
        "location['good'] = sf.trapmf(location.universe, [0, 5, 10, 15])\n",
        "\n",
        "condition.view()\n",
        "location.view()\n",
        "price.view()\n",
        "\n",
        "rule1 = ctrl.Rule(condition['bad'] & location['bad'], price['low'])\n",
        "rule2 = ctrl.Rule(condition['bad'] & location['average'], price['low'])\n",
        "rule3 = ctrl.Rule(condition['bad'] & location['good'], price['medium'])\n",
        "rule4 = ctrl.Rule(condition['medium'] & location['bad'], price['low'])\n",
        "rule5 = ctrl.Rule(condition['medium'] & location['average'], price['medium'])\n",
        "rule6 = ctrl.Rule(condition['medium'] & location['good'], price['high'])\n",
        "rule7 = ctrl.Rule(condition['good'] & location['bad'], price['medium'])\n",
        "rule8 = ctrl.Rule(condition['good'] & location['average'], price['medium'])\n",
        "rule9 = ctrl.Rule(condition['good'] & location['good'], price['high'])\n",
        "\n",
        "price_ctrl = ctrl.ControlSystem([rule1, rule2, rule3, rule4, rule5, rule6, rule7, rule8, rule9])\n",
        "price_simulator = ctrl.ControlSystemSimulation(price_ctrl)\n",
        "\n",
        "price_simulator.input['condition'] = 71\n",
        "price_simulator.input['location'] = 20\n",
        "\n",
        "price_simulator.compute()\n",
        "print(price_simulator.output['price'])\n",
        "\n",
        "\n",
        "condition.view(sim=price_simulator)\n",
        "location.view(sim=price_simulator)\n",
        "price.view(sim=price_simulator)"
      ]
    },
    {
      "cell_type": "markdown",
      "source": [
        "#1"
      ],
      "metadata": {
        "id": "BJ7Y1uEUzM5b"
      }
    },
    {
      "cell_type": "code",
      "source": [
        "quality = ctrl.Antecedent(np.arange(0, 100, 1), 'quality')\n",
        "attractiveness = ctrl.Antecedent(np.arange(0, 100, 1), 'attractiveness')\n",
        "price = ctrl.Consequent(np.arange(200, 2500, 1), 'price')\n",
        "\n",
        "price.automf(names=['low', 'medium', 'high'])\n",
        "\n",
        "quality['bad'] = sf.trapmf(quality.universe, [0, 10, 30, 40])\n",
        "quality['medium'] = sf.trapmf(quality.universe, [35, 50, 60, 75])\n",
        "quality['good'] = sf.trapmf(quality.universe, [70, 80, 90, 100])\n",
        "\n",
        "attractiveness['bad'] = sf.trapmf(attractiveness.universe, [0, 10, 30, 40])\n",
        "attractiveness['average'] = sf.trapmf(attractiveness.universe, [35, 50, 60, 75])\n",
        "attractiveness['good'] = sf.trapmf(attractiveness.universe, [70, 80, 90, 100])\n",
        "\n",
        "quality.view()\n",
        "attractiveness.view()\n",
        "price.view()\n",
        "\n",
        "rule1 = ctrl.Rule(quality['bad'] & attractiveness['bad'], price['low'])\n",
        "rule2 = ctrl.Rule(quality['bad'] & attractiveness['average'], price['low'])\n",
        "rule3 = ctrl.Rule(quality['bad'] & attractiveness['good'], price['medium'])\n",
        "rule4 = ctrl.Rule(quality['medium'] & attractiveness['bad'], price['low'])\n",
        "rule5 = ctrl.Rule(quality['medium'] & attractiveness['average'], price['medium'])\n",
        "rule6 = ctrl.Rule(quality['medium'] & attractiveness['good'], price['high'])\n",
        "rule7 = ctrl.Rule(quality['good'] & attractiveness['bad'], price['medium'])\n",
        "rule8 = ctrl.Rule(quality['good'] & attractiveness['average'], price['medium'])\n",
        "rule9 = ctrl.Rule(quality['good'] & attractiveness['good'], price['high'])\n",
        "\n",
        "price_ctrl = ctrl.ControlSystem([rule1, rule2, rule3, rule4, rule5, rule6, rule7, rule8, rule9])\n",
        "price_simulator = ctrl.ControlSystemSimulation(price_ctrl)\n",
        "\n",
        "price_simulator.input['quality'] = 80\n",
        "price_simulator.input['attractiveness'] = 20\n",
        "\n",
        "price_simulator.compute()\n",
        "print(price_simulator.output['price'])\n",
        "\n",
        "\n",
        "quality.view(sim=price_simulator)\n",
        "attractiveness.view(sim=price_simulator)\n",
        "price.view(sim=price_simulator)"
      ],
      "metadata": {
        "id": "7TAcBu7czO4h"
      },
      "execution_count": null,
      "outputs": []
    },
    {
      "cell_type": "markdown",
      "source": [
        "#2"
      ],
      "metadata": {
        "id": "i1Mp7-ygcOZE"
      }
    },
    {
      "cell_type": "code",
      "source": [
        "size = ctrl.Antecedent(np.arange(4.7, 6.5, 0.1), 'size')\n",
        "capacity = ctrl.Antecedent(np.arange(5, 20, 1), 'capacity')\n",
        "time = ctrl.Antecedent(np.arange(1, 14, 1), 'time')\n",
        "price = ctrl.Consequent(np.arange(5, 250, 1), 'price')\n",
        "\n",
        "price.automf(names=['low', 'medium', 'high'])\n",
        "\n",
        "size['bad'] = sf.trapmf(size.universe, [4.7, 5, 5.2, 5.4])\n",
        "size['medium'] = sf.trapmf(size.universe, [5.3, 5.5, 5.7, 5.9])\n",
        "size['good'] = sf.trapmf(size.universe, [5.8, 6, 6.3, 6.5])\n",
        "\n",
        "capacity['bad'] = sf.trapmf(capacity.universe, [0, 5, 7, 9])\n",
        "capacity['average'] = sf.trapmf(capacity.universe, [8, 10, 13, 15])\n",
        "capacity['good'] = sf.trapmf(capacity.universe, [14, 16, 18, 20])\n",
        "\n",
        "time['bad'] = sf.trapmf(time.universe, [1, 2, 3, 5])\n",
        "time['medium'] = sf.trapmf(time.universe, [4, 5, 7, 9])\n",
        "time['good'] = sf.trapmf(time.universe, [8, 10, 12, 14])\n",
        "\n",
        "size.view()\n",
        "capacity.view()\n",
        "time.view()\n",
        "price.view()\n",
        "\n",
        "rule1 = ctrl.Rule(size['bad'] & capacity['bad'] & time['bad'], price['low'])\n",
        "rule2 = ctrl.Rule(size['bad'] & capacity['bad'] & time['medium'], price['low'])\n",
        "rule3 = ctrl.Rule(size['bad'] & capacity['bad'] & time['good'], price['medium'])\n",
        "\n",
        "rule4 = ctrl.Rule(size['bad'] & capacity['average'] & time['bad'], price['low'])\n",
        "rule5 = ctrl.Rule(size['bad'] & capacity['average'] & time['medium'], price['medium'])\n",
        "rule6 = ctrl.Rule(size['bad'] & capacity['average'] & time['good'], price['medium'])\n",
        "\n",
        "rule7 = ctrl.Rule(size['bad'] & capacity['good'] & time['bad'], price['low'])\n",
        "rule8 = ctrl.Rule(size['bad'] & capacity['good'] & time['medium'], price['medium'])\n",
        "rule9 = ctrl.Rule(size['bad'] & capacity['good'] & time['good'], price['high'])\n",
        "\n",
        "rule10 = ctrl.Rule(size['medium'] & capacity['bad'] & time['bad'], price['low'])\n",
        "rule11 = ctrl.Rule(size['medium'] & capacity['bad'] & time['medium'], price['medium'])\n",
        "rule12 = ctrl.Rule(size['medium'] & capacity['bad'] & time['good'], price['medium'])\n",
        "\n",
        "rule13 = ctrl.Rule(size['medium'] & capacity['average'] & time['bad'], price['medium'])\n",
        "rule14 = ctrl.Rule(size['medium'] & capacity['average'] & time['medium'], price['medium'])\n",
        "rule15 = ctrl.Rule(size['medium'] & capacity['average'] & time['good'], price['medium'])\n",
        "\n",
        "rule16 = ctrl.Rule(size['medium'] & capacity['good'] & time['bad'], price['medium'])\n",
        "rule17 = ctrl.Rule(size['medium'] & capacity['good'] & time['medium'], price['medium'])\n",
        "rule18 = ctrl.Rule(size['medium'] & capacity['good'] & time['good'], price['high'])\n",
        "\n",
        "rule19 = ctrl.Rule(size['good'] & capacity['bad'] & time['bad'], price['low'])\n",
        "rule20 = ctrl.Rule(size['good'] & capacity['bad'] & time['medium'], price['medium'])\n",
        "rule21 = ctrl.Rule(size['good'] & capacity['bad'] & time['good'], price['medium'])\n",
        "\n",
        "rule22 = ctrl.Rule(size['good'] & capacity['average'] & time['bad'], price['medium'])\n",
        "rule23 = ctrl.Rule(size['good'] & capacity['average'] & time['medium'], price['medium'])\n",
        "rule24 = ctrl.Rule(size['good'] & capacity['average'] & time['good'], price['high'])\n",
        "\n",
        "rule25 = ctrl.Rule(size['good'] & capacity['good'] & time['bad'], price['medium'])\n",
        "rule26 = ctrl.Rule(size['good'] & capacity['good'] & time['medium'], price['high'])\n",
        "rule27 = ctrl.Rule(size['good'] & capacity['good'] & time['good'], price['high'])\n",
        "\n",
        "price_ctrl = ctrl.ControlSystem([rule1, rule2, rule3, rule4, rule5, rule6, rule7, rule8, rule9, rule10,\n",
        "                                 rule11, rule12, rule13, rule14, rule15, rule16, rule17, rule18, rule19,\n",
        "                                 rule20, rule21, rule22, rule23, rule24, rule25, rule26, rule27])\n",
        "price_simulator = ctrl.ControlSystemSimulation(price_ctrl)\n",
        "\n",
        "price_simulator.input['size'] = 5.9\n",
        "price_simulator.input['capacity'] = 15\n",
        "price_simulator.input['time'] = 10\n",
        "\n",
        "price_simulator.compute()\n",
        "print(price_simulator.output['price'])\n",
        "\n",
        "size.view(sim=price_simulator)\n",
        "capacity.view(sim=price_simulator)\n",
        "time.view(sim=price_simulator)\n",
        "price.view(sim=price_simulator)"
      ],
      "metadata": {
        "id": "j5-eDPMRciL9"
      },
      "execution_count": null,
      "outputs": []
    },
    {
      "cell_type": "markdown",
      "source": [
        "#3"
      ],
      "metadata": {
        "id": "Jwhmg5OMlMR_"
      }
    },
    {
      "cell_type": "code",
      "source": [
        "weight = ctrl.Antecedent(np.arange(40, 200, 1), 'weight')\n",
        "calories = ctrl.Antecedent(np.arange(1200, 4000, 1), 'calories')\n",
        "health = ctrl.Antecedent(np.arange(0, 100, 1), 'health')\n",
        "intensity = ctrl.Consequent(np.arange(2, 5, 1), 'intensity')\n",
        "\n",
        "intensity.automf(names=['low', 'medium', 'high'])\n",
        "\n",
        "weight['bad'] = sf.trapmf(weight.universe, [90, 100, 150, 200])\n",
        "weight['medium'] = sf.trapmf(weight.universe, [75, 80, 85, 100])\n",
        "weight['good'] = sf.trapmf(weight.universe, [50, 60, 70, 80])\n",
        "\n",
        "calories['bad'] = sf.trapmf(calories.universe, [2100, 2500, 3000, 4000])\n",
        "calories['average'] = sf.trapmf(calories.universe, [1600, 1800, 2000, 2200])\n",
        "calories['good'] = sf.trapmf(calories.universe, [1200, 1500, 1600, 1700])\n",
        "\n",
        "health['bad'] = sf.trapmf(health.universe, [0, 10, 30, 50])\n",
        "health['medium'] = sf.trapmf(health.universe, [45, 60, 70, 80])\n",
        "health['good'] = sf.trapmf(health.universe, [75, 80, 90, 100])\n",
        "\n",
        "weight.view()\n",
        "calories.view()\n",
        "health.view()\n",
        "intensity.view()\n",
        "\n",
        "rule1 = ctrl.Rule(weight['bad'] & calories['bad'] & health['bad'], intensity['low'])\n",
        "rule2 = ctrl.Rule(weight['bad'] & calories['bad'] & health['medium'], intensity['low'])\n",
        "rule3 = ctrl.Rule(weight['bad'] & calories['bad'] & health['good'], intensity['medium'])\n",
        "\n",
        "rule4 = ctrl.Rule(weight['bad'] & calories['average'] & health['bad'], intensity['low'])\n",
        "rule5 = ctrl.Rule(weight['bad'] & calories['average'] & health['medium'], intensity['medium'])\n",
        "rule6 = ctrl.Rule(weight['bad'] & calories['average'] & health['good'], intensity['medium'])\n",
        "\n",
        "rule7 = ctrl.Rule(weight['bad'] & calories['good'] & health['bad'], intensity['low'])\n",
        "rule8 = ctrl.Rule(weight['bad'] & calories['good'] & health['medium'], intensity['medium'])\n",
        "rule9 = ctrl.Rule(weight['bad'] & calories['good'] & health['good'], intensity['high'])\n",
        "\n",
        "rule10 = ctrl.Rule(weight['medium'] & calories['bad'] & health['bad'], intensity['low'])\n",
        "rule11 = ctrl.Rule(weight['medium'] & calories['bad'] & health['medium'], intensity['medium'])\n",
        "rule12 = ctrl.Rule(weight['medium'] & calories['bad'] & health['good'], intensity['medium'])\n",
        "\n",
        "rule13 = ctrl.Rule(weight['medium'] & calories['average'] & health['bad'], intensity['medium'])\n",
        "rule14 = ctrl.Rule(weight['medium'] & calories['average'] & health['medium'], intensity['medium'])\n",
        "rule15 = ctrl.Rule(weight['medium'] & calories['average'] & health['good'], intensity['medium'])\n",
        "\n",
        "rule16 = ctrl.Rule(weight['medium'] & calories['good'] & health['bad'], intensity['medium'])\n",
        "rule17 = ctrl.Rule(weight['medium'] & calories['good'] & health['medium'], intensity['medium'])\n",
        "rule18 = ctrl.Rule(weight['medium'] & calories['good'] & health['good'], intensity['high'])\n",
        "\n",
        "rule19 = ctrl.Rule(weight['good'] & calories['bad'] & health['bad'], intensity['low'])\n",
        "rule20 = ctrl.Rule(weight['good'] & calories['bad'] & health['medium'], intensity['medium'])\n",
        "rule21 = ctrl.Rule(weight['good'] & calories['bad'] & health['good'], intensity['medium'])\n",
        "\n",
        "rule22 = ctrl.Rule(weight['good'] & calories['average'] & health['bad'], intensity['medium'])\n",
        "rule23 = ctrl.Rule(weight['good'] & calories['average'] & health['medium'], intensity['medium'])\n",
        "rule24 = ctrl.Rule(weight['good'] & calories['average'] & health['good'], intensity['high'])\n",
        "\n",
        "rule25 = ctrl.Rule(weight['good'] & calories['good'] & health['bad'], intensity['medium'])\n",
        "rule26 = ctrl.Rule(weight['good'] & calories['good'] & health['medium'], intensity['high'])\n",
        "rule27 = ctrl.Rule(weight['good'] & calories['good'] & health['good'], intensity['high'])\n",
        "\n",
        "intensity_ctrl = ctrl.ControlSystem([rule1, rule2, rule3, rule4, rule5, rule6, rule7, rule8, rule9, rule10,\n",
        "                                 rule11, rule12, rule13, rule14, rule15, rule16, rule17, rule18, rule19,\n",
        "                                 rule20, rule21, rule22, rule23, rule24, rule25, rule26, rule27])\n",
        "intensity_simulator = ctrl.ControlSystemSimulation(intensity_ctrl)\n",
        "\n",
        "intensity_simulator.input['weight'] = 65\n",
        "intensity_simulator.input['calories'] = 1500\n",
        "intensity_simulator.input['health'] = 85\n",
        "\n",
        "intensity_simulator.compute()\n",
        "print(intensity_simulator.output['intensity'])\n",
        "\n",
        "weight.view(sim=intensity_simulator)\n",
        "calories.view(sim=intensity_simulator)\n",
        "health.view(sim=intensity_simulator)\n",
        "intensity.view(sim=intensity_simulator)"
      ],
      "metadata": {
        "id": "E0o9iQ7plNFT"
      },
      "execution_count": null,
      "outputs": []
    },
    {
      "cell_type": "markdown",
      "source": [
        "#4"
      ],
      "metadata": {
        "id": "pFgQGfRn7Uqn"
      }
    },
    {
      "cell_type": "code",
      "source": [],
      "metadata": {
        "id": "SrGuu1zt7XhP"
      },
      "execution_count": null,
      "outputs": []
    },
    {
      "cell_type": "markdown",
      "source": [
        "#5"
      ],
      "metadata": {
        "id": "8i0J019P7vFW"
      }
    },
    {
      "cell_type": "code",
      "source": [
        "temperature = ctrl.Antecedent(np.arange(-10, 20, 0.1), 'temperature')\n",
        "wind = ctrl.Antecedent(np.arange(1.5, 2.5, 0.1), 'wind')\n",
        "size = ctrl.Consequent(np.arange(10, 41, 1), 'size')\n",
        "\n",
        "size.automf(names=['low', 'medium', 'high'])\n",
        "\n",
        "temperature['bad'] = sf.trapmf(temperature.universe, [-10, -10, 0, 5])\n",
        "temperature['medium'] = sf.trapmf(temperature.universe, [0, 5, 10, 15])\n",
        "temperature['good'] = sf.trapmf(temperature.universe, [10, 15, 20, 20])\n",
        "\n",
        "wind['bad'] = sf.trapmf(wind.universe, [2.1, 2.2, 2.5, 2.5])\n",
        "wind['average'] = sf.trapmf(wind.universe, [1.7, 1.9, 2.0, 2.2])\n",
        "wind['good'] = sf.trapmf(wind.universe, [1.5, 1.6, 1.7, 1.8])\n",
        "\n",
        "temperature.view()\n",
        "wind.view()\n",
        "size.view()\n",
        "\n",
        "rule1 = ctrl.Rule(temperature['bad'] & wind['bad'], size['low'])\n",
        "rule2 = ctrl.Rule(temperature['bad'] & wind['average'], size['low'])\n",
        "rule3 = ctrl.Rule(temperature['bad'] & wind['good'], size['medium'])\n",
        "rule4 = ctrl.Rule(temperature['medium'] & wind['bad'], size['low'])\n",
        "rule5 = ctrl.Rule(temperature['medium'] & wind['average'], size['medium'])\n",
        "rule6 = ctrl.Rule(temperature['medium'] & wind['good'], size['high'])\n",
        "rule7 = ctrl.Rule(temperature['good'] & wind['bad'], size['medium'])\n",
        "rule8 = ctrl.Rule(temperature['good'] & wind['average'], size['medium'])\n",
        "rule9 = ctrl.Rule(temperature['good'] & wind['good'], size['high'])\n",
        "\n",
        "size_ctrl = ctrl.ControlSystem([rule1, rule2, rule3, rule4, rule5, rule6, rule7, rule8, rule9])\n",
        "size_simulator = ctrl.ControlSystemSimulation(size_ctrl)\n",
        "\n",
        "size_simulator.input['temperature'] = 15\n",
        "size_simulator.input['wind'] = 2.0\n",
        "\n",
        "size_simulator.compute()\n",
        "print(size_simulator.output['size'])\n",
        "\n",
        "\n",
        "temperature.view(sim=size_simulator)\n",
        "wind.view(sim=size_simulator)\n",
        "size.view(sim=size_simulator)"
      ],
      "metadata": {
        "id": "Gv-iW3kb7wDJ"
      },
      "execution_count": null,
      "outputs": []
    },
    {
      "cell_type": "markdown",
      "source": [
        "#6"
      ],
      "metadata": {
        "id": "sb5HlaOgIDE7"
      }
    },
    {
      "cell_type": "code",
      "source": [
        "time = ctrl.Antecedent(np.arange(0, 24, 0.5), 'time')\n",
        "day = ctrl.Antecedent(np.arange(1, 8, 1), 'day')\n",
        "intensity = ctrl.Consequent(np.arange(0, 100, 1), 'intensity')\n",
        "\n",
        "intensity.automf(names=['low', 'medium', 'high'])\n",
        "\n",
        "time['bad'] = sf.trapmf(time.universe, [13, 15, 17, 23.5])\n",
        "time['medium'] = sf.trapmf(time.universe, [6, 8, 10, 14])\n",
        "time['good'] = sf.trapmf(time.universe, [0, 3, 5, 7])\n",
        "\n",
        "day['bad'] = sf.trapmf(day.universe, [5, 6, 7, 7])\n",
        "day['average'] = sf.trapmf(day.universe, [3, 4, 5, 6])\n",
        "day['good'] = sf.trapmf(day.universe, [1, 2, 3, 4])\n",
        "\n",
        "time.view()\n",
        "day.view()\n",
        "intensity.view()\n",
        "\n",
        "rule1 = ctrl.Rule(time['bad'] & day['bad'], intensity['low'])\n",
        "rule2 = ctrl.Rule(time['bad'] & day['average'], intensity['low'])\n",
        "rule3 = ctrl.Rule(time['bad'] & day['good'], intensity['medium'])\n",
        "rule4 = ctrl.Rule(time['medium'] & day['bad'], intensity['low'])\n",
        "rule5 = ctrl.Rule(time['medium'] & day['average'], intensity['medium'])\n",
        "rule6 = ctrl.Rule(time['medium'] & day['good'], intensity['high'])\n",
        "rule7 = ctrl.Rule(time['good'] & day['bad'], intensity['medium'])\n",
        "rule8 = ctrl.Rule(time['good'] & day['average'], intensity['medium'])\n",
        "rule9 = ctrl.Rule(time['good'] & day['good'], intensity['high'])\n",
        "\n",
        "intensity_ctrl = ctrl.ControlSystem([rule1, rule2, rule3, rule4, rule5, rule6, rule7, rule8, rule9])\n",
        "intensity_simulator = ctrl.ControlSystemSimulation(intensity_ctrl)\n",
        "\n",
        "intensity_simulator.input['time'] = 14.5\n",
        "intensity_simulator.input['day'] = 4\n",
        "\n",
        "intensity_simulator.compute()\n",
        "print(intensity_simulator.output['intensity'])\n",
        "\n",
        "\n",
        "time.view(sim=intensity_simulator)\n",
        "day.view(sim=intensity_simulator)\n",
        "intensity.view(sim=intensity_simulator)\n"
      ],
      "metadata": {
        "id": "V0LHMn6TIFNv"
      },
      "execution_count": null,
      "outputs": []
    }
  ]
}