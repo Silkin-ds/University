{
  "nbformat": 4,
  "nbformat_minor": 0,
  "metadata": {
    "colab": {
      "provenance": [],
      "gpuType": "V28"
    },
    "kernelspec": {
      "name": "python3",
      "display_name": "Python 3"
    },
    "language_info": {
      "name": "python"
    },
    "accelerator": "TPU"
  },
  "cells": [
    {
      "cell_type": "code",
      "execution_count": null,
      "metadata": {
        "id": "blTQlUcqkCP1"
      },
      "outputs": [],
      "source": [
        "import tensorflow as tf\n",
        "\n",
        "import numpy as np\n",
        "import matplotlib.pyplot as plt\n",
        "\n",
        "from tensorflow.keras.models import Sequential\n",
        "from tensorflow.keras.layers import Dense, Conv2D, MaxPooling2D, Dropout, Flatten, Input, BatchNormalization\n",
        "from tensorflow.keras.utils import to_categorical\n",
        "from tensorflow.keras.preprocessing import image\n",
        "from tensorflow.keras.preprocessing.image import ImageDataGenerator\n",
        "from tensorflow.keras.callbacks import ReduceLROnPlateau, ModelCheckpoint\n",
        "\n",
        "from sklearn.model_selection import train_test_split\n",
        "from google.colab import files"
      ]
    },
    {
      "cell_type": "code",
      "metadata": {
        "id": "rzU1bjUis3ma",
        "outputId": "952df977-804f-48f6-fed2-1a210d82fe08",
        "colab": {
          "base_uri": "https://localhost:8080/",
          "height": 73
        }
      },
      "source": [
        "file = files.upload()"
      ],
      "execution_count": null,
      "outputs": [
        {
          "output_type": "display_data",
          "data": {
            "text/plain": [
              "<IPython.core.display.HTML object>"
            ],
            "text/html": [
              "\n",
              "     <input type=\"file\" id=\"files-f453bfb0-b3cc-4014-830f-236fcf3c6979\" name=\"files[]\" multiple disabled\n",
              "        style=\"border:none\" />\n",
              "     <output id=\"result-f453bfb0-b3cc-4014-830f-236fcf3c6979\">\n",
              "      Upload widget is only available when the cell has been executed in the\n",
              "      current browser session. Please rerun this cell to enable.\n",
              "      </output>\n",
              "      <script>// Copyright 2017 Google LLC\n",
              "//\n",
              "// Licensed under the Apache License, Version 2.0 (the \"License\");\n",
              "// you may not use this file except in compliance with the License.\n",
              "// You may obtain a copy of the License at\n",
              "//\n",
              "//      http://www.apache.org/licenses/LICENSE-2.0\n",
              "//\n",
              "// Unless required by applicable law or agreed to in writing, software\n",
              "// distributed under the License is distributed on an \"AS IS\" BASIS,\n",
              "// WITHOUT WARRANTIES OR CONDITIONS OF ANY KIND, either express or implied.\n",
              "// See the License for the specific language governing permissions and\n",
              "// limitations under the License.\n",
              "\n",
              "/**\n",
              " * @fileoverview Helpers for google.colab Python module.\n",
              " */\n",
              "(function(scope) {\n",
              "function span(text, styleAttributes = {}) {\n",
              "  const element = document.createElement('span');\n",
              "  element.textContent = text;\n",
              "  for (const key of Object.keys(styleAttributes)) {\n",
              "    element.style[key] = styleAttributes[key];\n",
              "  }\n",
              "  return element;\n",
              "}\n",
              "\n",
              "// Max number of bytes which will be uploaded at a time.\n",
              "const MAX_PAYLOAD_SIZE = 100 * 1024;\n",
              "\n",
              "function _uploadFiles(inputId, outputId) {\n",
              "  const steps = uploadFilesStep(inputId, outputId);\n",
              "  const outputElement = document.getElementById(outputId);\n",
              "  // Cache steps on the outputElement to make it available for the next call\n",
              "  // to uploadFilesContinue from Python.\n",
              "  outputElement.steps = steps;\n",
              "\n",
              "  return _uploadFilesContinue(outputId);\n",
              "}\n",
              "\n",
              "// This is roughly an async generator (not supported in the browser yet),\n",
              "// where there are multiple asynchronous steps and the Python side is going\n",
              "// to poll for completion of each step.\n",
              "// This uses a Promise to block the python side on completion of each step,\n",
              "// then passes the result of the previous step as the input to the next step.\n",
              "function _uploadFilesContinue(outputId) {\n",
              "  const outputElement = document.getElementById(outputId);\n",
              "  const steps = outputElement.steps;\n",
              "\n",
              "  const next = steps.next(outputElement.lastPromiseValue);\n",
              "  return Promise.resolve(next.value.promise).then((value) => {\n",
              "    // Cache the last promise value to make it available to the next\n",
              "    // step of the generator.\n",
              "    outputElement.lastPromiseValue = value;\n",
              "    return next.value.response;\n",
              "  });\n",
              "}\n",
              "\n",
              "/**\n",
              " * Generator function which is called between each async step of the upload\n",
              " * process.\n",
              " * @param {string} inputId Element ID of the input file picker element.\n",
              " * @param {string} outputId Element ID of the output display.\n",
              " * @return {!Iterable<!Object>} Iterable of next steps.\n",
              " */\n",
              "function* uploadFilesStep(inputId, outputId) {\n",
              "  const inputElement = document.getElementById(inputId);\n",
              "  inputElement.disabled = false;\n",
              "\n",
              "  const outputElement = document.getElementById(outputId);\n",
              "  outputElement.innerHTML = '';\n",
              "\n",
              "  const pickedPromise = new Promise((resolve) => {\n",
              "    inputElement.addEventListener('change', (e) => {\n",
              "      resolve(e.target.files);\n",
              "    });\n",
              "  });\n",
              "\n",
              "  const cancel = document.createElement('button');\n",
              "  inputElement.parentElement.appendChild(cancel);\n",
              "  cancel.textContent = 'Cancel upload';\n",
              "  const cancelPromise = new Promise((resolve) => {\n",
              "    cancel.onclick = () => {\n",
              "      resolve(null);\n",
              "    };\n",
              "  });\n",
              "\n",
              "  // Wait for the user to pick the files.\n",
              "  const files = yield {\n",
              "    promise: Promise.race([pickedPromise, cancelPromise]),\n",
              "    response: {\n",
              "      action: 'starting',\n",
              "    }\n",
              "  };\n",
              "\n",
              "  cancel.remove();\n",
              "\n",
              "  // Disable the input element since further picks are not allowed.\n",
              "  inputElement.disabled = true;\n",
              "\n",
              "  if (!files) {\n",
              "    return {\n",
              "      response: {\n",
              "        action: 'complete',\n",
              "      }\n",
              "    };\n",
              "  }\n",
              "\n",
              "  for (const file of files) {\n",
              "    const li = document.createElement('li');\n",
              "    li.append(span(file.name, {fontWeight: 'bold'}));\n",
              "    li.append(span(\n",
              "        `(${file.type || 'n/a'}) - ${file.size} bytes, ` +\n",
              "        `last modified: ${\n",
              "            file.lastModifiedDate ? file.lastModifiedDate.toLocaleDateString() :\n",
              "                                    'n/a'} - `));\n",
              "    const percent = span('0% done');\n",
              "    li.appendChild(percent);\n",
              "\n",
              "    outputElement.appendChild(li);\n",
              "\n",
              "    const fileDataPromise = new Promise((resolve) => {\n",
              "      const reader = new FileReader();\n",
              "      reader.onload = (e) => {\n",
              "        resolve(e.target.result);\n",
              "      };\n",
              "      reader.readAsArrayBuffer(file);\n",
              "    });\n",
              "    // Wait for the data to be ready.\n",
              "    let fileData = yield {\n",
              "      promise: fileDataPromise,\n",
              "      response: {\n",
              "        action: 'continue',\n",
              "      }\n",
              "    };\n",
              "\n",
              "    // Use a chunked sending to avoid message size limits. See b/62115660.\n",
              "    let position = 0;\n",
              "    do {\n",
              "      const length = Math.min(fileData.byteLength - position, MAX_PAYLOAD_SIZE);\n",
              "      const chunk = new Uint8Array(fileData, position, length);\n",
              "      position += length;\n",
              "\n",
              "      const base64 = btoa(String.fromCharCode.apply(null, chunk));\n",
              "      yield {\n",
              "        response: {\n",
              "          action: 'append',\n",
              "          file: file.name,\n",
              "          data: base64,\n",
              "        },\n",
              "      };\n",
              "\n",
              "      let percentDone = fileData.byteLength === 0 ?\n",
              "          100 :\n",
              "          Math.round((position / fileData.byteLength) * 100);\n",
              "      percent.textContent = `${percentDone}% done`;\n",
              "\n",
              "    } while (position < fileData.byteLength);\n",
              "  }\n",
              "\n",
              "  // All done.\n",
              "  yield {\n",
              "    response: {\n",
              "      action: 'complete',\n",
              "    }\n",
              "  };\n",
              "}\n",
              "\n",
              "scope.google = scope.google || {};\n",
              "scope.google.colab = scope.google.colab || {};\n",
              "scope.google.colab._files = {\n",
              "  _uploadFiles,\n",
              "  _uploadFilesContinue,\n",
              "};\n",
              "})(self);\n",
              "</script> "
            ]
          },
          "metadata": {}
        },
        {
          "output_type": "stream",
          "name": "stdout",
          "text": [
            "Saving kaggle.json to kaggle.json\n"
          ]
        }
      ]
    },
    {
      "cell_type": "code",
      "metadata": {
        "id": "292OceAu7GyX",
        "outputId": "567869ea-a928-4906-eb98-0b9f9814440a",
        "colab": {
          "base_uri": "https://localhost:8080/"
        }
      },
      "source": [
        "!ls"
      ],
      "execution_count": null,
      "outputs": [
        {
          "output_type": "stream",
          "name": "stdout",
          "text": [
            "kaggle.json  sample_data\n"
          ]
        }
      ]
    },
    {
      "cell_type": "markdown",
      "metadata": {
        "id": "OQlIZDwptlS6"
      },
      "source": [
        "Копируем токен в каталог .kaggle"
      ]
    },
    {
      "cell_type": "code",
      "metadata": {
        "id": "NoZlnpjytrj5"
      },
      "source": [
        "!mkdir ~/.kaggle\n",
        "!mv kaggle.json ~/.kaggle"
      ],
      "execution_count": null,
      "outputs": []
    },
    {
      "cell_type": "code",
      "metadata": {
        "id": "bgHmgITFf8oB"
      },
      "source": [
        "!chmod 600 /root/.kaggle/kaggle.json"
      ],
      "execution_count": null,
      "outputs": []
    },
    {
      "cell_type": "markdown",
      "metadata": {
        "id": "0xB767r3uDGa"
      },
      "source": [
        "## Загружаем данные с сайта Kaggle"
      ]
    },
    {
      "cell_type": "code",
      "metadata": {
        "id": "-jtLp-DhuJzh",
        "outputId": "a97e28b9-8fc5-406a-bdb8-5fd2f3498006",
        "colab": {
          "base_uri": "https://localhost:8080/"
        }
      },
      "source": [
        "!kaggle competitions download -c digit-recognizer"
      ],
      "execution_count": null,
      "outputs": [
        {
          "output_type": "stream",
          "name": "stdout",
          "text": [
            "Downloading digit-recognizer.zip to /content\n",
            "\r  0% 0.00/15.3M [00:00<?, ?B/s]\r 85% 13.0M/15.3M [00:00<00:00, 131MB/s]\n",
            "\r100% 15.3M/15.3M [00:00<00:00, 140MB/s]\n"
          ]
        }
      ]
    },
    {
      "cell_type": "code",
      "metadata": {
        "id": "c7RGdlX9vKpB",
        "outputId": "2438c44a-1a3d-4d45-e8c1-6b2bb235f201",
        "colab": {
          "base_uri": "https://localhost:8080/"
        }
      },
      "source": [
        "!ls"
      ],
      "execution_count": null,
      "outputs": [
        {
          "output_type": "stream",
          "name": "stdout",
          "text": [
            "digit-recognizer.zip  sample_data\n"
          ]
        }
      ]
    },
    {
      "cell_type": "code",
      "source": [
        "!unzip digit-recognizer.zip"
      ],
      "metadata": {
        "colab": {
          "base_uri": "https://localhost:8080/"
        },
        "id": "XLV1p4sto8Tx",
        "outputId": "5ef59fa2-b2f1-4e86-fcfe-e0549dfbf8d6"
      },
      "execution_count": null,
      "outputs": [
        {
          "output_type": "stream",
          "name": "stdout",
          "text": [
            "Archive:  digit-recognizer.zip\n",
            "  inflating: sample_submission.csv   \n",
            "  inflating: test.csv                \n",
            "  inflating: train.csv               \n"
          ]
        }
      ]
    },
    {
      "cell_type": "code",
      "metadata": {
        "id": "f1d2fF_hrxN_",
        "outputId": "e9ade57b-4e9d-4b97-e3dd-d9eaf3fd6652",
        "colab": {
          "base_uri": "https://localhost:8080/"
        }
      },
      "source": [
        "!unzip test.csv.zip"
      ],
      "execution_count": null,
      "outputs": [
        {
          "output_type": "stream",
          "name": "stdout",
          "text": [
            "unzip:  cannot find or open test.csv.zip, test.csv.zip.zip or test.csv.zip.ZIP.\n"
          ]
        }
      ]
    },
    {
      "cell_type": "code",
      "metadata": {
        "id": "cFGckFMvr7IA",
        "outputId": "6913a8cf-1044-4cea-8c3a-baca3ff9b192",
        "colab": {
          "base_uri": "https://localhost:8080/"
        }
      },
      "source": [
        "!unzip train.csv.zip"
      ],
      "execution_count": null,
      "outputs": [
        {
          "output_type": "stream",
          "name": "stdout",
          "text": [
            "unzip:  cannot find or open train.csv.zip, train.csv.zip.zip or train.csv.zip.ZIP.\n"
          ]
        }
      ]
    },
    {
      "cell_type": "code",
      "source": [
        "!head train.csv"
      ],
      "metadata": {
        "colab": {
          "base_uri": "https://localhost:8080/"
        },
        "id": "7kl1xs0bl6KA",
        "outputId": "068cbf6a-5cb9-42a2-f950-1967bb3effb9"
      },
      "execution_count": null,
      "outputs": [
        {
          "output_type": "stream",
          "name": "stdout",
          "text": [
            "label,pixel0,pixel1,pixel2,pixel3,pixel4,pixel5,pixel6,pixel7,pixel8,pixel9,pixel10,pixel11,pixel12,pixel13,pixel14,pixel15,pixel16,pixel17,pixel18,pixel19,pixel20,pixel21,pixel22,pixel23,pixel24,pixel25,pixel26,pixel27,pixel28,pixel29,pixel30,pixel31,pixel32,pixel33,pixel34,pixel35,pixel36,pixel37,pixel38,pixel39,pixel40,pixel41,pixel42,pixel43,pixel44,pixel45,pixel46,pixel47,pixel48,pixel49,pixel50,pixel51,pixel52,pixel53,pixel54,pixel55,pixel56,pixel57,pixel58,pixel59,pixel60,pixel61,pixel62,pixel63,pixel64,pixel65,pixel66,pixel67,pixel68,pixel69,pixel70,pixel71,pixel72,pixel73,pixel74,pixel75,pixel76,pixel77,pixel78,pixel79,pixel80,pixel81,pixel82,pixel83,pixel84,pixel85,pixel86,pixel87,pixel88,pixel89,pixel90,pixel91,pixel92,pixel93,pixel94,pixel95,pixel96,pixel97,pixel98,pixel99,pixel100,pixel101,pixel102,pixel103,pixel104,pixel105,pixel106,pixel107,pixel108,pixel109,pixel110,pixel111,pixel112,pixel113,pixel114,pixel115,pixel116,pixel117,pixel118,pixel119,pixel120,pixel121,pixel122,pixel123,pixel124,pixel125,pixel126,pixel127,pixel128,pixel129,pixel130,pixel131,pixel132,pixel133,pixel134,pixel135,pixel136,pixel137,pixel138,pixel139,pixel140,pixel141,pixel142,pixel143,pixel144,pixel145,pixel146,pixel147,pixel148,pixel149,pixel150,pixel151,pixel152,pixel153,pixel154,pixel155,pixel156,pixel157,pixel158,pixel159,pixel160,pixel161,pixel162,pixel163,pixel164,pixel165,pixel166,pixel167,pixel168,pixel169,pixel170,pixel171,pixel172,pixel173,pixel174,pixel175,pixel176,pixel177,pixel178,pixel179,pixel180,pixel181,pixel182,pixel183,pixel184,pixel185,pixel186,pixel187,pixel188,pixel189,pixel190,pixel191,pixel192,pixel193,pixel194,pixel195,pixel196,pixel197,pixel198,pixel199,pixel200,pixel201,pixel202,pixel203,pixel204,pixel205,pixel206,pixel207,pixel208,pixel209,pixel210,pixel211,pixel212,pixel213,pixel214,pixel215,pixel216,pixel217,pixel218,pixel219,pixel220,pixel221,pixel222,pixel223,pixel224,pixel225,pixel226,pixel227,pixel228,pixel229,pixel230,pixel231,pixel232,pixel233,pixel234,pixel235,pixel236,pixel237,pixel238,pixel239,pixel240,pixel241,pixel242,pixel243,pixel244,pixel245,pixel246,pixel247,pixel248,pixel249,pixel250,pixel251,pixel252,pixel253,pixel254,pixel255,pixel256,pixel257,pixel258,pixel259,pixel260,pixel261,pixel262,pixel263,pixel264,pixel265,pixel266,pixel267,pixel268,pixel269,pixel270,pixel271,pixel272,pixel273,pixel274,pixel275,pixel276,pixel277,pixel278,pixel279,pixel280,pixel281,pixel282,pixel283,pixel284,pixel285,pixel286,pixel287,pixel288,pixel289,pixel290,pixel291,pixel292,pixel293,pixel294,pixel295,pixel296,pixel297,pixel298,pixel299,pixel300,pixel301,pixel302,pixel303,pixel304,pixel305,pixel306,pixel307,pixel308,pixel309,pixel310,pixel311,pixel312,pixel313,pixel314,pixel315,pixel316,pixel317,pixel318,pixel319,pixel320,pixel321,pixel322,pixel323,pixel324,pixel325,pixel326,pixel327,pixel328,pixel329,pixel330,pixel331,pixel332,pixel333,pixel334,pixel335,pixel336,pixel337,pixel338,pixel339,pixel340,pixel341,pixel342,pixel343,pixel344,pixel345,pixel346,pixel347,pixel348,pixel349,pixel350,pixel351,pixel352,pixel353,pixel354,pixel355,pixel356,pixel357,pixel358,pixel359,pixel360,pixel361,pixel362,pixel363,pixel364,pixel365,pixel366,pixel367,pixel368,pixel369,pixel370,pixel371,pixel372,pixel373,pixel374,pixel375,pixel376,pixel377,pixel378,pixel379,pixel380,pixel381,pixel382,pixel383,pixel384,pixel385,pixel386,pixel387,pixel388,pixel389,pixel390,pixel391,pixel392,pixel393,pixel394,pixel395,pixel396,pixel397,pixel398,pixel399,pixel400,pixel401,pixel402,pixel403,pixel404,pixel405,pixel406,pixel407,pixel408,pixel409,pixel410,pixel411,pixel412,pixel413,pixel414,pixel415,pixel416,pixel417,pixel418,pixel419,pixel420,pixel421,pixel422,pixel423,pixel424,pixel425,pixel426,pixel427,pixel428,pixel429,pixel430,pixel431,pixel432,pixel433,pixel434,pixel435,pixel436,pixel437,pixel438,pixel439,pixel440,pixel441,pixel442,pixel443,pixel444,pixel445,pixel446,pixel447,pixel448,pixel449,pixel450,pixel451,pixel452,pixel453,pixel454,pixel455,pixel456,pixel457,pixel458,pixel459,pixel460,pixel461,pixel462,pixel463,pixel464,pixel465,pixel466,pixel467,pixel468,pixel469,pixel470,pixel471,pixel472,pixel473,pixel474,pixel475,pixel476,pixel477,pixel478,pixel479,pixel480,pixel481,pixel482,pixel483,pixel484,pixel485,pixel486,pixel487,pixel488,pixel489,pixel490,pixel491,pixel492,pixel493,pixel494,pixel495,pixel496,pixel497,pixel498,pixel499,pixel500,pixel501,pixel502,pixel503,pixel504,pixel505,pixel506,pixel507,pixel508,pixel509,pixel510,pixel511,pixel512,pixel513,pixel514,pixel515,pixel516,pixel517,pixel518,pixel519,pixel520,pixel521,pixel522,pixel523,pixel524,pixel525,pixel526,pixel527,pixel528,pixel529,pixel530,pixel531,pixel532,pixel533,pixel534,pixel535,pixel536,pixel537,pixel538,pixel539,pixel540,pixel541,pixel542,pixel543,pixel544,pixel545,pixel546,pixel547,pixel548,pixel549,pixel550,pixel551,pixel552,pixel553,pixel554,pixel555,pixel556,pixel557,pixel558,pixel559,pixel560,pixel561,pixel562,pixel563,pixel564,pixel565,pixel566,pixel567,pixel568,pixel569,pixel570,pixel571,pixel572,pixel573,pixel574,pixel575,pixel576,pixel577,pixel578,pixel579,pixel580,pixel581,pixel582,pixel583,pixel584,pixel585,pixel586,pixel587,pixel588,pixel589,pixel590,pixel591,pixel592,pixel593,pixel594,pixel595,pixel596,pixel597,pixel598,pixel599,pixel600,pixel601,pixel602,pixel603,pixel604,pixel605,pixel606,pixel607,pixel608,pixel609,pixel610,pixel611,pixel612,pixel613,pixel614,pixel615,pixel616,pixel617,pixel618,pixel619,pixel620,pixel621,pixel622,pixel623,pixel624,pixel625,pixel626,pixel627,pixel628,pixel629,pixel630,pixel631,pixel632,pixel633,pixel634,pixel635,pixel636,pixel637,pixel638,pixel639,pixel640,pixel641,pixel642,pixel643,pixel644,pixel645,pixel646,pixel647,pixel648,pixel649,pixel650,pixel651,pixel652,pixel653,pixel654,pixel655,pixel656,pixel657,pixel658,pixel659,pixel660,pixel661,pixel662,pixel663,pixel664,pixel665,pixel666,pixel667,pixel668,pixel669,pixel670,pixel671,pixel672,pixel673,pixel674,pixel675,pixel676,pixel677,pixel678,pixel679,pixel680,pixel681,pixel682,pixel683,pixel684,pixel685,pixel686,pixel687,pixel688,pixel689,pixel690,pixel691,pixel692,pixel693,pixel694,pixel695,pixel696,pixel697,pixel698,pixel699,pixel700,pixel701,pixel702,pixel703,pixel704,pixel705,pixel706,pixel707,pixel708,pixel709,pixel710,pixel711,pixel712,pixel713,pixel714,pixel715,pixel716,pixel717,pixel718,pixel719,pixel720,pixel721,pixel722,pixel723,pixel724,pixel725,pixel726,pixel727,pixel728,pixel729,pixel730,pixel731,pixel732,pixel733,pixel734,pixel735,pixel736,pixel737,pixel738,pixel739,pixel740,pixel741,pixel742,pixel743,pixel744,pixel745,pixel746,pixel747,pixel748,pixel749,pixel750,pixel751,pixel752,pixel753,pixel754,pixel755,pixel756,pixel757,pixel758,pixel759,pixel760,pixel761,pixel762,pixel763,pixel764,pixel765,pixel766,pixel767,pixel768,pixel769,pixel770,pixel771,pixel772,pixel773,pixel774,pixel775,pixel776,pixel777,pixel778,pixel779,pixel780,pixel781,pixel782,pixel783\r\n",
            "1,0,0,0,0,0,0,0,0,0,0,0,0,0,0,0,0,0,0,0,0,0,0,0,0,0,0,0,0,0,0,0,0,0,0,0,0,0,0,0,0,0,0,0,0,0,0,0,0,0,0,0,0,0,0,0,0,0,0,0,0,0,0,0,0,0,0,0,0,0,0,0,0,0,0,0,0,0,0,0,0,0,0,0,0,0,0,0,0,0,0,0,0,0,0,0,0,0,0,0,0,0,0,0,0,0,0,0,0,0,0,0,0,0,0,0,0,0,0,0,0,0,0,0,0,0,0,0,0,0,0,0,0,188,255,94,0,0,0,0,0,0,0,0,0,0,0,0,0,0,0,0,0,0,0,0,0,0,0,0,191,250,253,93,0,0,0,0,0,0,0,0,0,0,0,0,0,0,0,0,0,0,0,0,0,0,0,123,248,253,167,10,0,0,0,0,0,0,0,0,0,0,0,0,0,0,0,0,0,0,0,0,0,0,80,247,253,208,13,0,0,0,0,0,0,0,0,0,0,0,0,0,0,0,0,0,0,0,0,0,0,29,207,253,235,77,0,0,0,0,0,0,0,0,0,0,0,0,0,0,0,0,0,0,0,0,0,0,54,209,253,253,88,0,0,0,0,0,0,0,0,0,0,0,0,0,0,0,0,0,0,0,0,0,0,93,254,253,238,170,17,0,0,0,0,0,0,0,0,0,0,0,0,0,0,0,0,0,0,0,0,0,23,210,254,253,159,0,0,0,0,0,0,0,0,0,0,0,0,0,0,0,0,0,0,0,0,0,0,16,209,253,254,240,81,0,0,0,0,0,0,0,0,0,0,0,0,0,0,0,0,0,0,0,0,0,0,27,253,253,254,13,0,0,0,0,0,0,0,0,0,0,0,0,0,0,0,0,0,0,0,0,0,0,20,206,254,254,198,7,0,0,0,0,0,0,0,0,0,0,0,0,0,0,0,0,0,0,0,0,0,0,168,253,253,196,7,0,0,0,0,0,0,0,0,0,0,0,0,0,0,0,0,0,0,0,0,0,0,20,203,253,248,76,0,0,0,0,0,0,0,0,0,0,0,0,0,0,0,0,0,0,0,0,0,0,22,188,253,245,93,0,0,0,0,0,0,0,0,0,0,0,0,0,0,0,0,0,0,0,0,0,0,0,103,253,253,191,0,0,0,0,0,0,0,0,0,0,0,0,0,0,0,0,0,0,0,0,0,0,0,89,240,253,195,25,0,0,0,0,0,0,0,0,0,0,0,0,0,0,0,0,0,0,0,0,0,0,15,220,253,253,80,0,0,0,0,0,0,0,0,0,0,0,0,0,0,0,0,0,0,0,0,0,0,0,94,253,253,253,94,0,0,0,0,0,0,0,0,0,0,0,0,0,0,0,0,0,0,0,0,0,0,0,89,251,253,250,131,0,0,0,0,0,0,0,0,0,0,0,0,0,0,0,0,0,0,0,0,0,0,0,0,214,218,95,0,0,0,0,0,0,0,0,0,0,0,0,0,0,0,0,0,0,0,0,0,0,0,0,0,0,0,0,0,0,0,0,0,0,0,0,0,0,0,0,0,0,0,0,0,0,0,0,0,0,0,0,0,0,0,0,0,0,0,0,0,0,0,0,0,0,0,0,0,0,0,0,0,0,0,0,0,0,0,0,0,0,0,0,0,0,0,0,0,0,0,0,0,0,0,0,0,0,0,0,0,0,0,0,0,0,0,0,0,0,0,0,0,0,0,0,0,0,0,0,0,0,0,0,0,0,0,0,0\r\n",
            "0,0,0,0,0,0,0,0,0,0,0,0,0,0,0,0,0,0,0,0,0,0,0,0,0,0,0,0,0,0,0,0,0,0,0,0,0,0,0,0,0,0,0,0,0,0,0,0,0,0,0,0,0,0,0,0,0,0,0,0,0,0,0,0,0,0,0,0,0,0,0,0,0,0,0,0,0,0,0,0,0,0,0,0,0,0,0,0,0,0,0,0,0,0,0,0,0,0,0,0,0,0,0,0,0,0,0,0,0,0,0,0,0,0,0,0,0,0,0,0,0,0,0,18,30,137,137,192,86,72,1,0,0,0,0,0,0,0,0,0,0,0,0,0,0,0,0,0,0,13,86,250,254,254,254,254,217,246,151,32,0,0,0,0,0,0,0,0,0,0,0,0,0,0,0,0,16,179,254,254,254,254,254,254,254,254,254,231,54,15,0,0,0,0,0,0,0,0,0,0,0,0,0,0,72,254,254,254,254,254,254,254,254,254,254,254,254,104,0,0,0,0,0,0,0,0,0,0,0,0,0,61,191,254,254,254,254,254,109,83,199,254,254,254,254,243,85,0,0,0,0,0,0,0,0,0,0,0,0,172,254,254,254,202,147,147,45,0,11,29,200,254,254,254,171,0,0,0,0,0,0,0,0,0,0,0,1,174,254,254,89,67,0,0,0,0,0,0,128,252,254,254,212,76,0,0,0,0,0,0,0,0,0,0,47,254,254,254,29,0,0,0,0,0,0,0,0,83,254,254,254,153,0,0,0,0,0,0,0,0,0,0,80,254,254,240,24,0,0,0,0,0,0,0,0,25,240,254,254,153,0,0,0,0,0,0,0,0,0,0,64,254,254,186,7,0,0,0,0,0,0,0,0,0,166,254,254,224,12,0,0,0,0,0,0,0,0,14,232,254,254,254,29,0,0,0,0,0,0,0,0,0,75,254,254,254,17,0,0,0,0,0,0,0,0,18,254,254,254,254,29,0,0,0,0,0,0,0,0,0,48,254,254,254,17,0,0,0,0,0,0,0,0,2,163,254,254,254,29,0,0,0,0,0,0,0,0,0,48,254,254,254,17,0,0,0,0,0,0,0,0,0,94,254,254,254,200,12,0,0,0,0,0,0,0,16,209,254,254,150,1,0,0,0,0,0,0,0,0,0,15,206,254,254,254,202,66,0,0,0,0,0,21,161,254,254,245,31,0,0,0,0,0,0,0,0,0,0,0,60,212,254,254,254,194,48,48,34,41,48,209,254,254,254,171,0,0,0,0,0,0,0,0,0,0,0,0,0,86,243,254,254,254,254,254,233,243,254,254,254,254,254,86,0,0,0,0,0,0,0,0,0,0,0,0,0,0,114,254,254,254,254,254,254,254,254,254,254,239,86,11,0,0,0,0,0,0,0,0,0,0,0,0,0,0,13,182,254,254,254,254,254,254,254,254,243,70,0,0,0,0,0,0,0,0,0,0,0,0,0,0,0,0,0,8,76,146,254,255,254,255,146,19,15,0,0,0,0,0,0,0,0,0,0,0,0,0,0,0,0,0,0,0,0,0,0,0,0,0,0,0,0,0,0,0,0,0,0,0,0,0,0,0,0,0,0,0,0,0,0,0,0,0,0,0,0,0,0,0,0,0,0,0,0,0,0,0,0,0,0,0,0,0,0,0,0,0,0,0,0,0,0,0,0,0,0,0,0,0,0,0,0,0,0,0,0,0,0,0,0,0,0,0,0,0,0,0,0,0,0,0,0,0,0,0,0,0,0,0,0,0,0,0,0,0\r\n",
            "1,0,0,0,0,0,0,0,0,0,0,0,0,0,0,0,0,0,0,0,0,0,0,0,0,0,0,0,0,0,0,0,0,0,0,0,0,0,0,0,0,0,0,0,0,0,0,0,0,0,0,0,0,0,0,0,0,0,0,0,0,0,0,0,0,0,0,0,0,0,0,0,0,0,0,0,0,0,0,0,0,0,0,0,0,0,0,0,0,0,0,0,0,0,0,0,0,0,0,0,0,0,0,0,0,0,0,0,0,0,0,0,0,0,0,0,0,0,0,0,0,0,0,0,0,3,141,139,3,0,0,0,0,0,0,0,0,0,0,0,0,0,0,0,0,0,0,0,0,0,0,0,0,9,254,254,8,0,0,0,0,0,0,0,0,0,0,0,0,0,0,0,0,0,0,0,0,0,0,0,0,9,254,254,8,0,0,0,0,0,0,0,0,0,0,0,0,0,0,0,0,0,0,0,0,0,0,0,0,9,254,254,106,0,0,0,0,0,0,0,0,0,0,0,0,0,0,0,0,0,0,0,0,0,0,0,0,9,254,254,184,0,0,0,0,0,0,0,0,0,0,0,0,0,0,0,0,0,0,0,0,0,0,0,0,9,254,254,184,0,0,0,0,0,0,0,0,0,0,0,0,0,0,0,0,0,0,0,0,0,0,0,0,9,254,254,184,0,0,0,0,0,0,0,0,0,0,0,0,0,0,0,0,0,0,0,0,0,0,0,0,6,185,254,184,0,0,0,0,0,0,0,0,0,0,0,0,0,0,0,0,0,0,0,0,0,0,0,0,0,89,254,184,0,0,0,0,0,0,0,0,0,0,0,0,0,0,0,0,0,0,0,0,0,0,0,0,4,146,254,184,0,0,0,0,0,0,0,0,0,0,0,0,0,0,0,0,0,0,0,0,0,0,0,0,9,254,254,184,0,0,0,0,0,0,0,0,0,0,0,0,0,0,0,0,0,0,0,0,0,0,0,0,9,254,254,184,0,0,0,0,0,0,0,0,0,0,0,0,0,0,0,0,0,0,0,0,0,0,0,0,9,254,254,184,0,0,0,0,0,0,0,0,0,0,0,0,0,0,0,0,0,0,0,0,0,0,0,0,9,254,254,184,0,0,0,0,0,0,0,0,0,0,0,0,0,0,0,0,0,0,0,0,0,0,0,0,9,254,254,184,0,0,0,0,0,0,0,0,0,0,0,0,0,0,0,0,0,0,0,0,0,0,0,0,156,254,254,184,0,0,0,0,0,0,0,0,0,0,0,0,0,0,0,0,0,0,0,0,0,0,0,0,185,255,255,184,0,0,0,0,0,0,0,0,0,0,0,0,0,0,0,0,0,0,0,0,0,0,0,0,185,254,254,184,0,0,0,0,0,0,0,0,0,0,0,0,0,0,0,0,0,0,0,0,0,0,0,0,185,254,254,184,0,0,0,0,0,0,0,0,0,0,0,0,0,0,0,0,0,0,0,0,0,0,0,0,63,254,254,62,0,0,0,0,0,0,0,0,0,0,0,0,0,0,0,0,0,0,0,0,0,0,0,0,0,0,0,0,0,0,0,0,0,0,0,0,0,0,0,0,0,0,0,0,0,0,0,0,0,0,0,0,0,0,0,0,0,0,0,0,0,0,0,0,0,0,0,0,0,0,0,0,0,0,0,0,0,0,0,0,0,0,0,0,0,0,0,0,0,0,0,0,0,0,0,0,0,0,0,0,0,0,0,0,0,0,0,0,0,0,0,0,0,0,0,0,0,0,0,0,0,0,0,0\n",
            "4,0,0,0,0,0,0,0,0,0,0,0,0,0,0,0,0,0,0,0,0,0,0,0,0,0,0,0,0,0,0,0,0,0,0,0,0,0,0,0,0,0,0,0,0,0,0,0,0,0,0,0,0,0,0,0,0,0,0,0,0,0,0,0,0,0,0,0,0,0,0,0,0,0,0,0,0,0,0,0,0,0,0,0,0,0,0,0,0,0,0,0,0,0,0,0,0,0,0,0,0,0,0,0,0,0,0,0,0,0,0,0,0,0,0,0,0,0,0,0,0,0,0,0,0,0,0,0,0,0,0,0,0,0,0,0,0,0,0,0,0,0,0,0,0,0,0,220,179,6,0,0,0,0,0,0,0,0,9,77,0,0,0,0,0,0,0,0,0,0,0,0,0,0,0,28,247,17,0,0,0,0,0,0,0,0,27,202,0,0,0,0,0,0,0,0,0,0,0,0,0,0,0,0,242,155,0,0,0,0,0,0,0,0,27,254,63,0,0,0,0,0,0,0,0,0,0,0,0,0,0,0,160,207,6,0,0,0,0,0,0,0,27,254,65,0,0,0,0,0,0,0,0,0,0,0,0,0,0,0,127,254,21,0,0,0,0,0,0,0,20,239,65,0,0,0,0,0,0,0,0,0,0,0,0,0,0,0,77,254,21,0,0,0,0,0,0,0,0,195,65,0,0,0,0,0,0,0,0,0,0,0,0,0,0,0,70,254,21,0,0,0,0,0,0,0,0,195,142,0,0,0,0,0,0,0,0,0,0,0,0,0,0,0,56,251,21,0,0,0,0,0,0,0,0,195,227,0,0,0,0,0,0,0,0,0,0,0,0,0,0,0,0,222,153,5,0,0,0,0,0,0,0,120,240,13,0,0,0,0,0,0,0,0,0,0,0,0,0,0,0,67,251,40,0,0,0,0,0,0,0,94,255,69,0,0,0,0,0,0,0,0,0,0,0,0,0,0,0,0,234,184,0,0,0,0,0,0,0,19,245,69,0,0,0,0,0,0,0,0,0,0,0,0,0,0,0,0,234,169,0,0,0,0,0,0,0,3,199,182,10,0,0,0,0,0,0,0,0,0,0,0,0,0,0,0,154,205,4,0,0,26,72,128,203,208,254,254,131,0,0,0,0,0,0,0,0,0,0,0,0,0,0,0,61,254,129,113,186,245,251,189,75,56,136,254,73,0,0,0,0,0,0,0,0,0,0,0,0,0,0,0,15,216,233,233,159,104,52,0,0,0,38,254,73,0,0,0,0,0,0,0,0,0,0,0,0,0,0,0,0,0,0,0,0,0,0,0,0,0,18,254,73,0,0,0,0,0,0,0,0,0,0,0,0,0,0,0,0,0,0,0,0,0,0,0,0,0,18,254,73,0,0,0,0,0,0,0,0,0,0,0,0,0,0,0,0,0,0,0,0,0,0,0,0,0,5,206,106,0,0,0,0,0,0,0,0,0,0,0,0,0,0,0,0,0,0,0,0,0,0,0,0,0,0,186,159,0,0,0,0,0,0,0,0,0,0,0,0,0,0,0,0,0,0,0,0,0,0,0,0,0,6,209,101,0,0,0,0,0,0,0,0,0,0,0,0,0,0,0,0,0,0,0,0,0,0,0,0,0,0,0,0,0,0,0,0,0,0,0,0,0,0,0,0,0,0,0,0,0,0,0,0,0,0,0,0,0,0,0,0,0,0,0,0,0,0,0,0,0,0,0,0,0,0,0,0,0,0,0,0,0,0,0,0,0,0,0,0,0,0,0,0,0,0\n",
            "0,0,0,0,0,0,0,0,0,0,0,0,0,0,0,0,0,0,0,0,0,0,0,0,0,0,0,0,0,0,0,0,0,0,0,0,0,0,0,0,0,0,0,0,0,0,0,0,0,0,0,0,0,0,0,0,0,0,0,0,0,0,0,0,0,0,0,0,0,0,0,0,0,0,0,0,0,0,0,0,0,0,0,0,0,0,0,0,0,0,0,0,0,0,0,0,0,0,0,0,0,0,0,0,0,0,0,0,0,0,0,0,0,0,0,0,0,0,0,0,0,0,1,25,130,155,254,254,254,157,30,2,0,0,0,0,0,0,0,0,0,0,0,0,0,0,0,0,0,8,103,253,253,253,253,253,253,253,253,114,2,0,0,0,0,0,0,0,0,0,0,0,0,0,0,0,11,208,253,253,253,253,253,253,253,253,253,253,107,0,0,0,0,0,0,0,0,0,0,0,0,0,0,0,31,253,253,253,253,253,253,253,253,253,253,253,215,101,3,0,0,0,0,0,0,0,0,0,0,0,0,23,210,253,253,253,248,161,222,222,246,253,253,253,253,253,39,0,0,0,0,0,0,0,0,0,0,0,0,136,253,253,253,229,77,0,0,0,70,218,253,253,253,253,215,91,0,0,0,0,0,0,0,0,0,0,5,214,253,253,253,195,0,0,0,0,0,104,224,253,253,253,253,215,29,0,0,0,0,0,0,0,0,0,116,253,253,253,247,75,0,0,0,0,0,0,26,200,253,253,253,253,216,4,0,0,0,0,0,0,0,0,254,253,253,253,195,0,0,0,0,0,0,0,0,26,200,253,253,253,253,5,0,0,0,0,0,0,0,0,254,253,253,253,99,0,0,0,0,0,0,0,0,0,25,231,253,253,253,36,0,0,0,0,0,0,0,0,254,253,253,253,99,0,0,0,0,0,0,0,0,0,0,223,253,253,253,129,0,0,0,0,0,0,0,0,254,253,253,253,99,0,0,0,0,0,0,0,0,0,0,127,253,253,253,129,0,0,0,0,0,0,0,0,254,253,253,253,99,0,0,0,0,0,0,0,0,0,0,139,253,253,253,90,0,0,0,0,0,0,0,0,254,253,253,253,99,0,0,0,0,0,0,0,0,0,78,248,253,253,253,5,0,0,0,0,0,0,0,0,254,253,253,253,216,34,0,0,0,0,0,0,0,33,152,253,253,253,107,1,0,0,0,0,0,0,0,0,206,253,253,253,253,140,0,0,0,0,0,30,139,234,253,253,253,154,2,0,0,0,0,0,0,0,0,0,16,205,253,253,253,250,208,106,106,106,200,237,253,253,253,253,209,22,0,0,0,0,0,0,0,0,0,0,0,82,253,253,253,253,253,253,253,253,253,253,253,253,253,209,22,0,0,0,0,0,0,0,0,0,0,0,0,1,91,253,253,253,253,253,253,253,253,253,253,213,90,7,0,0,0,0,0,0,0,0,0,0,0,0,0,0,1,18,129,208,253,253,253,253,159,129,90,4,0,0,0,0,0,0,0,0,0,0,0,0,0,0,0,0,0,0,0,0,0,0,0,0,0,0,0,0,0,0,0,0,0,0,0,0,0,0,0,0,0,0,0,0,0,0,0,0,0,0,0,0,0,0,0,0,0,0,0,0,0,0,0,0,0,0,0,0,0,0,0,0,0,0,0,0,0,0,0,0,0,0,0,0,0,0,0,0,0,0,0,0,0,0,0,0,0,0,0,0,0,0,0,0,0,0,0,0,0,0,0,0,0,0,0,0,0,0,0,0,0\n",
            "0,0,0,0,0,0,0,0,0,0,0,0,0,0,0,0,0,0,0,0,0,0,0,0,0,0,0,0,0,0,0,0,0,0,0,0,0,0,0,0,0,0,0,0,0,0,0,0,0,0,0,0,0,0,0,0,0,0,0,0,0,0,0,0,0,0,0,0,0,0,0,0,0,0,0,0,0,0,0,0,0,0,0,0,0,0,0,0,0,0,0,0,0,0,0,0,0,0,0,0,0,0,0,0,0,0,0,0,0,0,0,0,0,0,0,0,0,0,0,0,0,0,0,0,0,3,141,202,254,193,44,0,0,0,0,0,0,0,0,0,0,0,0,0,0,0,0,0,0,0,0,0,5,165,254,179,163,249,244,72,0,0,0,0,0,0,0,0,0,0,0,0,0,0,0,0,0,0,0,0,135,254,150,0,0,189,254,243,31,0,0,0,0,0,0,0,0,0,0,0,0,0,0,0,0,0,0,82,248,209,5,0,0,164,236,254,115,0,0,0,0,0,0,0,0,0,0,0,0,0,0,0,0,0,8,211,254,58,0,0,0,0,33,230,212,6,0,0,0,0,0,0,0,0,0,0,0,0,0,0,0,0,119,254,156,3,0,0,0,0,18,230,254,33,0,0,0,0,0,0,0,0,0,0,0,0,0,0,0,10,212,254,35,0,0,0,0,0,33,254,254,33,0,0,0,0,0,0,0,0,0,0,0,0,0,0,0,116,254,154,3,0,0,0,0,0,33,254,254,33,0,0,0,0,0,0,0,0,0,0,0,0,0,0,0,124,254,115,0,0,0,0,0,0,160,254,239,23,0,0,0,0,0,0,0,0,0,0,0,0,0,0,0,203,254,35,0,0,0,0,0,0,197,254,178,0,0,0,0,0,0,0,0,0,0,0,0,0,0,0,23,239,221,11,0,0,0,0,0,0,198,255,123,0,0,0,0,0,0,0,0,0,0,0,0,0,0,0,23,238,178,0,0,0,0,0,0,10,219,254,96,0,0,0,0,0,0,0,0,0,0,0,0,0,0,0,30,249,204,0,0,0,0,0,0,25,235,254,62,0,0,0,0,0,0,0,0,0,0,0,0,0,0,0,26,243,204,0,0,0,0,0,0,91,254,248,36,0,0,0,0,0,0,0,0,0,0,0,0,0,0,0,33,254,204,0,0,0,0,0,67,241,254,133,0,0,0,0,0,0,0,0,0,0,0,0,0,0,0,0,33,254,214,7,0,0,0,50,242,254,194,24,0,0,0,0,0,0,0,0,0,0,0,0,0,0,0,0,5,193,254,78,0,0,19,128,254,195,36,0,0,0,0,0,0,0,0,0,0,0,0,0,0,0,0,0,0,103,254,222,74,143,235,254,228,83,0,0,0,0,0,0,0,0,0,0,0,0,0,0,0,0,0,0,0,30,242,254,254,254,254,252,84,0,0,0,0,0,0,0,0,0,0,0,0,0,0,0,0,0,0,0,0,0,23,64,158,200,174,61,0,0,0,0,0,0,0,0,0,0,0,0,0,0,0,0,0,0,0,0,0,0,0,0,0,0,0,0,0,0,0,0,0,0,0,0,0,0,0,0,0,0,0,0,0,0,0,0,0,0,0,0,0,0,0,0,0,0,0,0,0,0,0,0,0,0,0,0,0,0,0,0,0,0,0,0,0,0,0,0,0,0,0,0,0,0,0,0,0,0,0,0,0,0,0,0,0,0,0,0,0,0,0,0,0,0,0,0,0,0,0,0,0,0,0,0,0,0,0,0,0,0,0,0,0\n",
            "7,0,0,0,0,0,0,0,0,0,0,0,0,0,0,0,0,0,0,0,0,0,0,0,0,0,0,0,0,0,0,0,0,0,0,0,0,0,0,0,0,0,0,0,0,0,0,0,0,0,0,0,0,0,0,0,0,0,0,0,0,0,0,0,0,0,0,0,0,0,0,0,0,0,0,0,0,0,0,0,0,0,0,0,0,0,0,0,0,0,0,0,0,0,0,0,0,0,0,0,0,0,0,0,0,0,0,0,0,0,0,0,0,0,0,0,0,0,0,0,0,0,0,0,0,0,0,0,0,0,0,0,0,0,0,0,0,0,0,0,0,0,0,0,0,0,0,0,0,0,0,0,0,0,0,0,0,0,0,0,0,0,0,0,0,0,0,0,0,0,0,0,0,0,0,0,0,0,0,0,0,0,0,0,0,0,0,0,0,0,0,0,0,0,0,0,0,0,0,0,0,0,0,82,152,71,51,51,21,41,51,51,51,51,113,193,152,30,0,0,0,0,0,0,0,0,0,0,0,0,0,122,253,252,253,252,223,243,253,252,253,252,253,252,233,30,0,0,0,0,0,0,0,0,0,0,0,0,0,123,102,41,102,102,102,102,102,102,102,162,254,253,142,0,0,0,0,0,0,0,0,0,0,0,0,0,0,203,102,0,0,0,0,0,0,0,0,183,253,212,20,0,0,0,0,0,0,0,0,0,0,0,0,0,0,203,142,0,0,0,0,0,0,0,11,213,254,91,0,0,0,0,0,0,0,0,0,0,0,0,0,0,41,243,102,0,0,0,0,0,0,0,51,252,172,10,0,0,0,0,0,0,0,0,0,0,0,0,0,0,41,223,102,0,0,0,0,0,0,0,214,253,102,0,0,0,0,0,0,0,0,0,0,0,0,0,0,0,0,20,20,0,0,0,0,0,0,0,253,252,102,0,0,0,0,0,0,0,0,0,0,0,0,0,0,0,0,0,0,0,0,0,0,0,0,62,254,253,41,0,0,0,0,0,0,0,0,0,0,0,0,0,0,0,0,0,0,0,0,0,0,0,0,102,253,171,0,0,0,0,0,0,0,0,0,0,0,0,0,0,0,0,0,0,0,0,0,0,0,0,0,163,254,91,0,0,0,0,0,0,0,0,0,0,0,0,0,0,0,0,0,0,0,0,0,0,0,0,0,203,253,50,0,0,0,0,0,0,0,0,0,0,0,0,0,0,0,0,0,0,0,0,0,0,0,0,51,253,254,50,0,0,0,0,0,0,0,0,0,0,0,0,0,0,0,0,0,0,0,0,0,0,0,0,51,252,253,50,0,0,0,0,0,0,0,0,0,0,0,0,0,0,0,0,0,0,0,0,0,0,0,0,51,253,254,50,0,0,0,0,0,0,0,0,0,0,0,0,0,0,0,0,0,0,0,0,0,0,0,0,51,252,213,10,0,0,0,0,0,0,0,0,0,0,0,0,0,0,0,0,0,0,0,0,0,0,0,0,152,253,82,0,0,0,0,0,0,0,0,0,0,0,0,0,0,0,0,0,0,0,0,0,0,0,0,0,233,252,0,0,0,0,0,0,0,0,0,0,0,0,0,0,0,0,0,0,0,0,0,0,0,0,0,21,255,253,0,0,0,0,0,0,0,0,0,0,0,0,0,0,0,0,0,0,0,0,0,0,0,0,0,20,253,212,0,0,0,0,0,0,0,0,0,0,0,0,0,0,0,0,0,0,0,0,0,0,0,0,0,0,0,0,0,0,0,0,0,0,0,0,0,0,0,0,0\n",
            "3,0,0,0,0,0,0,0,0,0,0,0,0,0,0,0,0,0,0,0,0,0,0,0,0,0,0,0,0,0,0,0,0,0,0,0,0,0,0,0,0,0,0,0,0,0,0,0,0,0,0,0,0,0,0,0,0,0,0,0,0,0,0,0,0,0,0,0,0,0,0,0,0,0,0,0,0,0,0,0,0,0,0,0,0,0,0,0,0,0,0,0,0,0,0,0,0,0,0,0,0,0,0,0,0,0,0,0,0,0,0,0,0,0,0,0,0,0,0,0,0,0,0,0,0,0,0,0,0,0,0,0,0,0,0,0,0,0,0,0,0,0,0,0,0,0,0,0,0,0,0,0,0,0,0,0,0,0,0,0,0,0,0,0,0,0,0,0,0,0,0,0,0,0,0,0,0,0,21,130,190,254,254,250,175,135,96,96,16,4,0,0,0,0,0,0,0,0,0,0,0,0,0,26,102,186,254,254,248,222,222,225,254,254,254,254,254,206,112,4,0,0,0,0,0,0,0,0,0,0,0,207,254,254,177,117,39,0,0,56,248,102,48,48,103,192,254,135,0,0,0,0,0,0,0,0,0,0,0,91,111,36,0,0,0,0,0,72,92,0,0,0,0,12,224,210,5,0,0,0,0,0,0,0,0,0,0,0,0,0,0,0,0,0,0,0,0,0,0,50,139,240,254,66,0,0,0,0,0,0,0,0,0,0,0,0,0,0,0,0,0,0,0,0,7,121,220,254,244,194,15,0,0,0,0,0,0,0,0,0,0,0,0,0,8,107,112,112,112,87,112,141,218,248,177,68,20,0,0,0,0,0,0,0,0,0,0,0,0,0,0,0,77,221,254,254,254,254,254,225,104,39,0,0,0,0,0,0,0,0,0,0,0,0,0,0,0,0,0,0,0,10,32,32,32,32,130,215,195,47,0,0,0,0,0,0,0,0,0,0,0,0,0,0,0,0,0,0,0,0,0,0,0,0,0,6,111,231,174,5,0,0,0,0,0,0,0,0,0,0,0,0,0,0,47,18,0,0,0,0,0,0,0,0,0,40,228,205,35,0,0,0,0,0,0,0,0,0,0,0,0,22,234,42,0,0,0,0,0,0,0,0,0,0,56,212,226,38,0,0,0,0,0,0,0,0,0,0,0,96,157,0,0,0,0,0,0,0,0,0,0,0,0,30,215,188,9,0,0,0,0,0,0,0,0,0,0,96,142,0,0,0,0,0,0,0,0,0,0,0,0,0,86,254,68,0,0,0,0,0,0,0,0,0,0,71,202,15,0,0,0,0,0,0,0,0,0,0,0,0,6,214,151,0,0,0,0,0,0,0,0,0,0,10,231,86,2,0,0,0,0,0,0,0,0,0,0,0,0,191,207,0,0,0,0,0,0,0,0,0,0,0,93,248,129,7,0,0,0,0,0,0,0,0,0,0,117,238,112,0,0,0,0,0,0,0,0,0,0,0,0,94,248,209,73,12,0,0,0,0,0,0,42,147,252,136,9,0,0,0,0,0,0,0,0,0,0,0,0,0,48,160,215,230,158,74,64,94,153,223,250,214,105,0,0,0,0,0,0,0,0,0,0,0,0,0,0,0,0,0,11,129,189,234,224,255,194,134,75,6,0,0,0,0,0,0,0,0,0,0,0,0,0,0,0,0,0,0,0,0,0,0,0,0,0,0,0,0,0,0,0,0,0,0,0,0,0,0,0,0,0,0,0,0,0,0,0,0,0,0,0,0,0,0,0,0,0,0,0,0,0,0,0,0,0\n",
            "5,0,0,0,0,0,0,0,0,0,0,0,0,0,0,0,0,0,0,0,0,0,0,0,0,0,0,0,0,0,0,0,0,0,0,0,0,0,0,0,0,0,0,0,0,0,0,0,0,0,0,0,0,0,0,0,0,0,0,0,0,0,0,0,0,0,0,0,0,0,0,0,0,0,0,0,0,0,0,0,0,0,0,0,0,0,0,0,0,0,0,0,0,0,0,0,0,0,0,0,0,0,0,0,0,0,0,0,0,0,0,0,0,0,0,0,0,0,0,0,0,0,0,0,0,0,0,0,0,0,0,0,0,0,0,0,0,0,0,0,0,0,0,0,0,0,0,0,0,0,0,0,0,0,41,149,156,179,254,254,201,119,46,0,0,0,0,0,0,0,0,0,0,0,0,0,0,0,0,0,13,147,241,253,253,254,253,253,253,253,245,160,0,0,0,0,0,0,0,0,0,0,0,0,0,0,0,31,224,253,253,180,174,175,174,174,174,174,223,247,145,6,0,0,0,0,0,0,0,0,0,0,0,0,7,197,254,253,165,2,0,0,0,0,0,0,12,102,184,16,0,0,0,0,0,0,0,0,0,0,0,0,152,253,254,162,18,0,0,0,0,0,0,0,0,0,0,0,0,0,0,0,0,0,0,0,0,0,0,0,235,254,158,15,0,0,0,0,0,0,0,0,0,0,0,0,0,0,0,0,0,0,0,0,0,0,0,74,250,253,15,0,0,0,16,20,19,0,0,0,0,0,0,0,0,0,0,0,0,0,0,0,0,0,7,199,253,253,0,0,25,130,235,254,247,145,6,0,0,0,0,0,0,0,0,0,0,0,0,0,0,0,20,253,253,177,100,219,240,253,253,254,253,253,125,0,0,0,0,0,0,0,0,0,0,0,0,0,0,0,5,193,253,253,254,253,253,200,155,155,238,253,229,23,0,0,0,0,0,0,0,0,0,0,0,0,0,0,0,61,249,254,241,150,30,0,0,0,215,254,254,58,0,0,0,0,0,0,0,0,0,0,0,0,0,0,0,0,36,39,30,0,0,0,0,0,214,253,234,31,0,0,0,0,0,0,0,0,0,0,0,0,0,0,0,0,0,0,0,0,0,0,0,41,241,253,183,0,0,0,0,0,0,0,0,0,0,0,0,0,0,0,0,0,0,0,0,0,0,0,0,201,253,253,102,0,0,0,0,0,0,0,0,0,0,0,0,0,0,0,0,0,0,0,0,0,0,0,114,254,253,154,5,0,0,0,0,0,0,0,0,0,0,0,0,0,0,0,0,0,0,0,0,0,0,62,254,255,241,30,0,0,0,0,0,0,0,0,0,0,0,0,0,0,0,0,0,0,0,0,0,10,118,235,253,249,103,0,0,0,0,0,0,0,0,0,0,0,0,0,0,0,0,0,0,55,81,0,102,211,253,253,253,135,0,0,0,0,0,0,0,0,0,0,0,0,0,0,0,0,0,0,0,79,243,234,254,253,253,216,117,0,0,0,0,0,0,0,0,0,0,0,0,0,0,0,0,0,0,0,0,48,245,253,254,207,126,27,0,0,0,0,0,0,0,0,0,0,0,0,0,0,0,0,0,0,0,0,0,0,0,0,0,0,0,0,0,0,0,0,0,0,0,0,0,0,0,0,0,0,0,0,0,0,0,0,0,0,0,0,0,0,0,0,0,0,0,0,0,0,0,0,0,0,0,0,0,0,0,0,0,0,0,0,0,0,0,0,0,0,0,0,0,0,0,0,0,0,0,0,0,0,0,0,0\n"
          ]
        }
      ]
    },
    {
      "cell_type": "code",
      "source": [
        "train = np.loadtxt('/content/train.csv', delimiter=',', skiprows=1)"
      ],
      "metadata": {
        "id": "XHR6JjBVmBGD"
      },
      "execution_count": null,
      "outputs": []
    },
    {
      "cell_type": "code",
      "source": [
        "train"
      ],
      "metadata": {
        "colab": {
          "base_uri": "https://localhost:8080/"
        },
        "id": "dpP3GIikpfRs",
        "outputId": "18e836d1-15e5-46e5-b975-74c9ad8baf3a"
      },
      "execution_count": null,
      "outputs": [
        {
          "output_type": "execute_result",
          "data": {
            "text/plain": [
              "array([[1., 0., 0., ..., 0., 0., 0.],\n",
              "       [0., 0., 0., ..., 0., 0., 0.],\n",
              "       [1., 0., 0., ..., 0., 0., 0.],\n",
              "       ...,\n",
              "       [7., 0., 0., ..., 0., 0., 0.],\n",
              "       [6., 0., 0., ..., 0., 0., 0.],\n",
              "       [9., 0., 0., ..., 0., 0., 0.]])"
            ]
          },
          "metadata": {},
          "execution_count": 13
        }
      ]
    },
    {
      "cell_type": "code",
      "source": [
        "train.shape"
      ],
      "metadata": {
        "colab": {
          "base_uri": "https://localhost:8080/"
        },
        "id": "4k7VHwzWpf7d",
        "outputId": "6ef0bf3e-9e8b-4e80-e61d-5f3f6cab3f69"
      },
      "execution_count": null,
      "outputs": [
        {
          "output_type": "execute_result",
          "data": {
            "text/plain": [
              "(42000, 785)"
            ]
          },
          "metadata": {},
          "execution_count": 14
        }
      ]
    },
    {
      "cell_type": "code",
      "source": [
        "x_train = train[:, 1:]\n",
        "y_train = train[:, 0]\n",
        "\n",
        "x_train = x_train.reshape(42000, 28, 28, 1)"
      ],
      "metadata": {
        "id": "vWGoIhZlpiao"
      },
      "execution_count": null,
      "outputs": []
    },
    {
      "cell_type": "code",
      "source": [
        "x_train.shape, y_train.shape"
      ],
      "metadata": {
        "colab": {
          "base_uri": "https://localhost:8080/"
        },
        "id": "z_qPgWwMp7ex",
        "outputId": "d52d9e98-0899-4c24-b0b7-e3b1f4ca6124"
      },
      "execution_count": null,
      "outputs": [
        {
          "output_type": "execute_result",
          "data": {
            "text/plain": [
              "((42000, 28, 28, 1), (42000,))"
            ]
          },
          "metadata": {},
          "execution_count": 16
        }
      ]
    },
    {
      "cell_type": "code",
      "source": [
        "y_train[:10]"
      ],
      "metadata": {
        "colab": {
          "base_uri": "https://localhost:8080/"
        },
        "id": "p9NXg6iop978",
        "outputId": "77cbfca1-5edf-41a5-f8a6-61b2bc3adeb3"
      },
      "execution_count": null,
      "outputs": [
        {
          "output_type": "execute_result",
          "data": {
            "text/plain": [
              "array([1., 0., 1., 4., 0., 0., 7., 3., 5., 3.])"
            ]
          },
          "metadata": {},
          "execution_count": 17
        }
      ]
    },
    {
      "cell_type": "code",
      "source": [
        "x_train /= 255.0"
      ],
      "metadata": {
        "id": "MGJZiQSeqwhr"
      },
      "execution_count": null,
      "outputs": []
    },
    {
      "cell_type": "code",
      "source": [
        "y_train = to_categorical(y_train, 10)"
      ],
      "metadata": {
        "id": "iCaAh0b7p_sz"
      },
      "execution_count": null,
      "outputs": []
    },
    {
      "cell_type": "code",
      "source": [
        "y_train[:5]"
      ],
      "metadata": {
        "colab": {
          "base_uri": "https://localhost:8080/"
        },
        "id": "qacT9TWLqoST",
        "outputId": "d22d1db6-8b13-476a-a943-b5b054cf417c"
      },
      "execution_count": null,
      "outputs": [
        {
          "output_type": "execute_result",
          "data": {
            "text/plain": [
              "array([[0., 1., 0., 0., 0., 0., 0., 0., 0., 0.],\n",
              "       [1., 0., 0., 0., 0., 0., 0., 0., 0., 0.],\n",
              "       [0., 1., 0., 0., 0., 0., 0., 0., 0., 0.],\n",
              "       [0., 0., 0., 0., 1., 0., 0., 0., 0., 0.],\n",
              "       [1., 0., 0., 0., 0., 0., 0., 0., 0., 0.]])"
            ]
          },
          "metadata": {},
          "execution_count": 20
        }
      ]
    },
    {
      "cell_type": "code",
      "source": [
        "model = Sequential()\n",
        "\n",
        "model.add(Input((28, 28, 1)))\n",
        "\n",
        "model.add(Conv2D(32, (3, 3), padding='same', activation='relu'))\n",
        "model.add(MaxPooling2D())\n",
        "model.add(BatchNormalization())\n",
        "model.add(Dropout(0.2))\n",
        "\n",
        "model.add(Conv2D(64, (3, 3), padding='same', activation='relu'))\n",
        "model.add(MaxPooling2D())\n",
        "model.add(BatchNormalization())\n",
        "\n",
        "model.add(Conv2D(128, (3, 3), padding='same', activation='relu'))\n",
        "model.add(MaxPooling2D())\n",
        "model.add(BatchNormalization())\n",
        "\n",
        "model.add(Flatten())\n",
        "\n",
        "model.add(Dense(256, 'relu'))\n",
        "model.add(Dense(128, 'relu'))\n",
        "model.add(Dense(10, 'softmax'))"
      ],
      "metadata": {
        "id": "EnqW7FANrAS1"
      },
      "execution_count": null,
      "outputs": []
    },
    {
      "cell_type": "code",
      "source": [
        "model.compile(optimizer='adam', loss='categorical_crossentropy', metrics=['accuracy'])"
      ],
      "metadata": {
        "id": "n-rSPvp_seDO"
      },
      "execution_count": null,
      "outputs": []
    },
    {
      "cell_type": "code",
      "source": [
        "сheckpoint = ModelCheckpoint('mnist-cnn.keras',\n",
        "                              monitor='val_accuracy',\n",
        "                              save_best_only=True,\n",
        "                              verbose=1)"
      ],
      "metadata": {
        "id": "G_50w2_Zs1z0"
      },
      "execution_count": null,
      "outputs": []
    },
    {
      "cell_type": "code",
      "source": [
        "learning_rate_reduction = ReduceLROnPlateau(monitor='val_accuracy',\n",
        "                                            patience=3,\n",
        "                                            verbose=1,\n",
        "                                            factor=0.5,\n",
        "                                            min_lr=0.00001)"
      ],
      "metadata": {
        "id": "DMVxlf1ys9gk"
      },
      "execution_count": null,
      "outputs": []
    },
    {
      "cell_type": "code",
      "source": [
        "history = model.fit(x_train, y_train, epochs=10, validation_split=0.1, callbacks=[сheckpoint, learning_rate_reduction], verbose=1)"
      ],
      "metadata": {
        "colab": {
          "base_uri": "https://localhost:8080/"
        },
        "id": "Hiwm0To00u7g",
        "outputId": "3faec72f-8134-4b0b-82ec-81e790ac9217"
      },
      "execution_count": null,
      "outputs": [
        {
          "output_type": "stream",
          "name": "stdout",
          "text": [
            "Epoch 1/10\n",
            "\u001b[1m1181/1182\u001b[0m \u001b[32m━━━━━━━━━━━━━━━━━━━\u001b[0m\u001b[37m━\u001b[0m \u001b[1m0s\u001b[0m 70ms/step - accuracy: 0.9221 - loss: 0.2498\n",
            "Epoch 1: val_accuracy improved from -inf to 0.97952, saving model to mnist-cnn.keras\n",
            "\u001b[1m1182/1182\u001b[0m \u001b[32m━━━━━━━━━━━━━━━━━━━━\u001b[0m\u001b[37m\u001b[0m \u001b[1m91s\u001b[0m 73ms/step - accuracy: 0.9221 - loss: 0.2496 - val_accuracy: 0.9795 - val_loss: 0.0776 - learning_rate: 0.0010\n",
            "Epoch 2/10\n",
            "\u001b[1m1181/1182\u001b[0m \u001b[32m━━━━━━━━━━━━━━━━━━━\u001b[0m\u001b[37m━\u001b[0m \u001b[1m0s\u001b[0m 69ms/step - accuracy: 0.9857 - loss: 0.0491\n",
            "Epoch 2: val_accuracy did not improve from 0.97952\n",
            "\u001b[1m1182/1182\u001b[0m \u001b[32m━━━━━━━━━━━━━━━━━━━━\u001b[0m\u001b[37m\u001b[0m \u001b[1m84s\u001b[0m 71ms/step - accuracy: 0.9857 - loss: 0.0491 - val_accuracy: 0.9767 - val_loss: 0.0775 - learning_rate: 0.0010\n",
            "Epoch 3/10\n",
            "\u001b[1m1181/1182\u001b[0m \u001b[32m━━━━━━━━━━━━━━━━━━━\u001b[0m\u001b[37m━\u001b[0m \u001b[1m0s\u001b[0m 70ms/step - accuracy: 0.9896 - loss: 0.0357\n",
            "Epoch 3: val_accuracy improved from 0.97952 to 0.98810, saving model to mnist-cnn.keras\n",
            "\u001b[1m1182/1182\u001b[0m \u001b[32m━━━━━━━━━━━━━━━━━━━━\u001b[0m\u001b[37m\u001b[0m \u001b[1m85s\u001b[0m 72ms/step - accuracy: 0.9896 - loss: 0.0357 - val_accuracy: 0.9881 - val_loss: 0.0461 - learning_rate: 0.0010\n",
            "Epoch 4/10\n",
            "\u001b[1m1181/1182\u001b[0m \u001b[32m━━━━━━━━━━━━━━━━━━━\u001b[0m\u001b[37m━\u001b[0m \u001b[1m0s\u001b[0m 69ms/step - accuracy: 0.9903 - loss: 0.0310\n",
            "Epoch 4: val_accuracy did not improve from 0.98810\n",
            "\u001b[1m1182/1182\u001b[0m \u001b[32m━━━━━━━━━━━━━━━━━━━━\u001b[0m\u001b[37m\u001b[0m \u001b[1m141s\u001b[0m 71ms/step - accuracy: 0.9903 - loss: 0.0310 - val_accuracy: 0.9840 - val_loss: 0.0632 - learning_rate: 0.0010\n",
            "Epoch 5/10\n",
            "\u001b[1m1181/1182\u001b[0m \u001b[32m━━━━━━━━━━━━━━━━━━━\u001b[0m\u001b[37m━\u001b[0m \u001b[1m0s\u001b[0m 67ms/step - accuracy: 0.9894 - loss: 0.0317\n",
            "Epoch 5: val_accuracy improved from 0.98810 to 0.99119, saving model to mnist-cnn.keras\n",
            "\u001b[1m1182/1182\u001b[0m \u001b[32m━━━━━━━━━━━━━━━━━━━━\u001b[0m\u001b[37m\u001b[0m \u001b[1m140s\u001b[0m 70ms/step - accuracy: 0.9894 - loss: 0.0317 - val_accuracy: 0.9912 - val_loss: 0.0354 - learning_rate: 0.0010\n",
            "Epoch 6/10\n",
            "\u001b[1m1181/1182\u001b[0m \u001b[32m━━━━━━━━━━━━━━━━━━━\u001b[0m\u001b[37m━\u001b[0m \u001b[1m0s\u001b[0m 67ms/step - accuracy: 0.9938 - loss: 0.0209\n",
            "Epoch 6: val_accuracy did not improve from 0.99119\n",
            "\u001b[1m1182/1182\u001b[0m \u001b[32m━━━━━━━━━━━━━━━━━━━━\u001b[0m\u001b[37m\u001b[0m \u001b[1m82s\u001b[0m 69ms/step - accuracy: 0.9938 - loss: 0.0209 - val_accuracy: 0.9862 - val_loss: 0.0523 - learning_rate: 0.0010\n",
            "Epoch 7/10\n",
            "\u001b[1m1181/1182\u001b[0m \u001b[32m━━━━━━━━━━━━━━━━━━━\u001b[0m\u001b[37m━\u001b[0m \u001b[1m0s\u001b[0m 69ms/step - accuracy: 0.9944 - loss: 0.0181\n",
            "Epoch 7: val_accuracy did not improve from 0.99119\n",
            "\u001b[1m1182/1182\u001b[0m \u001b[32m━━━━━━━━━━━━━━━━━━━━\u001b[0m\u001b[37m\u001b[0m \u001b[1m83s\u001b[0m 70ms/step - accuracy: 0.9944 - loss: 0.0181 - val_accuracy: 0.9888 - val_loss: 0.0444 - learning_rate: 0.0010\n",
            "Epoch 8/10\n",
            "\u001b[1m1181/1182\u001b[0m \u001b[32m━━━━━━━━━━━━━━━━━━━\u001b[0m\u001b[37m━\u001b[0m \u001b[1m0s\u001b[0m 67ms/step - accuracy: 0.9948 - loss: 0.0166\n",
            "Epoch 8: val_accuracy improved from 0.99119 to 0.99214, saving model to mnist-cnn.keras\n",
            "\u001b[1m1182/1182\u001b[0m \u001b[32m━━━━━━━━━━━━━━━━━━━━\u001b[0m\u001b[37m\u001b[0m \u001b[1m140s\u001b[0m 69ms/step - accuracy: 0.9948 - loss: 0.0166 - val_accuracy: 0.9921 - val_loss: 0.0332 - learning_rate: 0.0010\n",
            "Epoch 9/10\n",
            "\u001b[1m1181/1182\u001b[0m \u001b[32m━━━━━━━━━━━━━━━━━━━\u001b[0m\u001b[37m━\u001b[0m \u001b[1m0s\u001b[0m 68ms/step - accuracy: 0.9945 - loss: 0.0175\n",
            "Epoch 9: val_accuracy did not improve from 0.99214\n",
            "\u001b[1m1182/1182\u001b[0m \u001b[32m━━━━━━━━━━━━━━━━━━━━\u001b[0m\u001b[37m\u001b[0m \u001b[1m82s\u001b[0m 69ms/step - accuracy: 0.9945 - loss: 0.0175 - val_accuracy: 0.9895 - val_loss: 0.0482 - learning_rate: 0.0010\n",
            "Epoch 10/10\n",
            "\u001b[1m1181/1182\u001b[0m \u001b[32m━━━━━━━━━━━━━━━━━━━\u001b[0m\u001b[37m━\u001b[0m \u001b[1m0s\u001b[0m 69ms/step - accuracy: 0.9966 - loss: 0.0119\n",
            "Epoch 10: val_accuracy did not improve from 0.99214\n",
            "\u001b[1m1182/1182\u001b[0m \u001b[32m━━━━━━━━━━━━━━━━━━━━\u001b[0m\u001b[37m\u001b[0m \u001b[1m144s\u001b[0m 71ms/step - accuracy: 0.9966 - loss: 0.0119 - val_accuracy: 0.9912 - val_loss: 0.0324 - learning_rate: 0.0010\n"
          ]
        }
      ]
    },
    {
      "cell_type": "code",
      "source": [
        "plt.plot(history.history['accuracy'], label='Train')\n",
        "plt.plot(history.history['val_accuracy'], label='Val')\n",
        "plt.legend()"
      ],
      "metadata": {
        "colab": {
          "base_uri": "https://localhost:8080/",
          "height": 447
        },
        "id": "tN9bh_tY02jz",
        "outputId": "ad57e9d7-c069-49f5-e454-f6dad9b5125a"
      },
      "execution_count": null,
      "outputs": [
        {
          "output_type": "execute_result",
          "data": {
            "text/plain": [
              "<matplotlib.legend.Legend at 0x79f66d3bdd50>"
            ]
          },
          "metadata": {},
          "execution_count": 26
        },
        {
          "output_type": "display_data",
          "data": {
            "text/plain": [
              "<Figure size 640x480 with 1 Axes>"
            ],
            "image/png": "[encoded data removed]"
          },
          "metadata": {}
        }
      ]
    },
    {
      "cell_type": "code",
      "source": [
        "test = np.loadtxt('/content/test.csv', skiprows=1, delimiter=',')"
      ],
      "metadata": {
        "id": "Mx9p4lI1yyJh"
      },
      "execution_count": null,
      "outputs": []
    },
    {
      "cell_type": "code",
      "source": [
        "x_test = test.reshape(test.shape[0], 28, 28, 1)\n",
        "x_test /= 255.0"
      ],
      "metadata": {
        "id": "_uNYKtXozYiP"
      },
      "execution_count": null,
      "outputs": []
    },
    {
      "cell_type": "code",
      "source": [
        "pred = model.predict(x_test)\n",
        "pred[:5]"
      ],
      "metadata": {
        "colab": {
          "base_uri": "https://localhost:8080/"
        },
        "id": "NORf4MAkzy1h",
        "outputId": "8811c40d-c01c-41d5-fe08-95c173da6a86"
      },
      "execution_count": null,
      "outputs": [
        {
          "output_type": "stream",
          "name": "stdout",
          "text": [
            "\u001b[1m875/875\u001b[0m \u001b[32m━━━━━━━━━━━━━━━━━━━━\u001b[0m\u001b[37m\u001b[0m \u001b[1m17s\u001b[0m 19ms/step\n"
          ]
        },
        {
          "output_type": "execute_result",
          "data": {
            "text/plain": [
              "array([[7.11089519e-22, 4.68589214e-21, 9.99999940e-01, 1.13406708e-19,\n",
              "        1.82476935e-19, 7.72573040e-21, 1.50439564e-20, 5.41767879e-21,\n",
              "        3.11962328e-19, 1.90666261e-24],\n",
              "       [9.99999940e-01, 4.60496520e-20, 2.52878139e-16, 8.94341326e-16,\n",
              "        3.84940409e-17, 1.92709368e-12, 7.64295294e-09, 5.10011566e-18,\n",
              "        1.33257053e-14, 4.88459858e-13],\n",
              "       [3.58008653e-12, 6.31715347e-10, 3.54458685e-11, 1.26522537e-09,\n",
              "        8.94554614e-06, 2.22629424e-13, 8.02797975e-17, 1.29894720e-10,\n",
              "        4.12945678e-09, 9.99991000e-01],\n",
              "       [9.94939685e-01, 2.07195581e-06, 3.89566740e-05, 5.87471914e-05,\n",
              "        4.47153343e-06, 1.35009695e-05, 3.20592051e-04, 6.03729313e-06,\n",
              "        3.43597378e-04, 4.27224208e-03],\n",
              "       [1.26331290e-15, 5.10352611e-12, 2.23362321e-07, 9.99999702e-01,\n",
              "        1.77125753e-14, 6.57808830e-09, 1.23650222e-13, 2.61603621e-11,\n",
              "        6.00731964e-10, 6.24684901e-14]], dtype=float32)"
            ]
          },
          "metadata": {},
          "execution_count": 29
        }
      ]
    },
    {
      "cell_type": "code",
      "source": [
        "pred = np.argmax(pred, axis=1)\n",
        "pred[:5]"
      ],
      "metadata": {
        "colab": {
          "base_uri": "https://localhost:8080/"
        },
        "id": "rMqCL4Pdz8cr",
        "outputId": "b29193e4-730d-4012-9c56-03e5f0fdcfc7"
      },
      "execution_count": null,
      "outputs": [
        {
          "output_type": "execute_result",
          "data": {
            "text/plain": [
              "array([2, 0, 9, 0, 3])"
            ]
          },
          "metadata": {},
          "execution_count": 30
        }
      ]
    },
    {
      "cell_type": "code",
      "source": [
        "out = np.column_stack((range(1, pred.shape[0]+1), pred))"
      ],
      "metadata": {
        "id": "jpwOdFLX0EdM"
      },
      "execution_count": null,
      "outputs": []
    },
    {
      "cell_type": "code",
      "source": [
        "np.savetxt('sample_submission.csv', out, header=\"ImageId,Label\",\n",
        "            comments=\"\", fmt=\"%d,%d\")"
      ],
      "metadata": {
        "id": "b3Yxygd44sc1"
      },
      "execution_count": null,
      "outputs": []
    },
    {
      "cell_type": "code",
      "source": [
        "!head submission.csv"
      ],
      "metadata": {
        "colab": {
          "base_uri": "https://localhost:8080/"
        },
        "id": "M89ECZS54uNq",
        "outputId": "b61497eb-fe5c-4571-9808-9d5c59f9755a"
      },
      "execution_count": null,
      "outputs": [
        {
          "output_type": "stream",
          "name": "stdout",
          "text": [
            "head: cannot open 'submission.csv' for reading: No such file or directory\n"
          ]
        }
      ]
    },
    {
      "cell_type": "code",
      "source": [
        "!kaggle competitions submit -c digit-recognizer -m \"Submition from Colab\" -f sample_submission.csv"
      ],
      "metadata": {
        "colab": {
          "base_uri": "https://localhost:8080/"
        },
        "id": "LiehI9f24vf1",
        "outputId": "66867af4-b229-4628-e431-9dba16f470df"
      },
      "execution_count": null,
      "outputs": [
        {
          "output_type": "stream",
          "name": "stdout",
          "text": [
            "\r  0% 0.00/208k [00:00<?, ?B/s]\r100% 208k/208k [00:00<00:00, 1.18MB/s]\n",
            "Successfully submitted to Digit Recognizer"
          ]
        }
      ]
    },
    {
      "cell_type": "markdown",
      "source": [
        "![Безымянный.png](data:image/png;base64,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)"
      ],
      "metadata": {
        "id": "rUbziujq4JJx"
      }
    },
    {
      "cell_type": "code",
      "source": [],
      "metadata": {
        "id": "efZqfRpvhO_d"
      },
      "execution_count": null,
      "outputs": []
    }
  ]
}